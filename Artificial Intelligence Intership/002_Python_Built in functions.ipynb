{
 "cells": [
  {
   "cell_type": "code",
   "execution_count": null,
   "metadata": {},
   "outputs": [],
   "source": [
    "# Input functions \n",
    "'''\n",
    "  Which can used for to read the data from keyboard\n",
    "  \n",
    "  python2 :\n",
    "           raw_input()\n",
    "           input()\n",
    "           \n",
    "  python3 :\n",
    "             input()\n",
    "\n",
    "'''\n",
    "# Output functions\n",
    "'''\n",
    "To display the data on monitor\n",
    "\n",
    "Python2 :\n",
    "        print \"statemnt\"\n",
    "        print (\"function\")\n",
    "\n",
    "python3 :\n",
    "\n",
    "        print(\"function\")\n",
    "'''\n",
    "# type and id \n",
    "'''\n",
    "type is used for to know the data type of any object\n",
    "\n",
    "type() :\n",
    " \n",
    "id() : \n",
    "        to return memory location of any object\n",
    "\n",
    "'''\n",
    "# Data type conversion\n",
    "# Number system conversion"
   ]
  },
  {
   "cell_type": "code",
   "execution_count": 1,
   "metadata": {},
   "outputs": [
    {
     "name": "stdout",
     "output_type": "stream",
     "text": [
      "enter any int123\n",
      "var =  123\n",
      "<class 'str'>\n",
      "426775758640\n"
     ]
    }
   ],
   "source": [
    "# print function and input function\n",
    "\n",
    "var  = input(\"enter any int\")\n",
    "print(\"var = \",var)\n",
    "print(type(var))\n",
    "print(id(var))"
   ]
  },
  {
   "cell_type": "code",
   "execution_count": 2,
   "metadata": {},
   "outputs": [
    {
     "name": "stdout",
     "output_type": "stream",
     "text": [
      "enter any float78.88889\n",
      "var =  78.88889\n",
      "<class 'str'>\n",
      "426788895984\n"
     ]
    }
   ],
   "source": [
    "# print function and input function\n",
    "\n",
    "var  = input(\"enter any float\")\n",
    "print(\"var = \",var)\n",
    "print(type(var))\n",
    "print(id(var))"
   ]
  },
  {
   "cell_type": "code",
   "execution_count": 3,
   "metadata": {},
   "outputs": [
    {
     "name": "stdout",
     "output_type": "stream",
     "text": [
      "enter any complex3+4j\n",
      "var =  3+4j\n",
      "<class 'str'>\n",
      "426775758976\n"
     ]
    }
   ],
   "source": [
    "# print function and input function\n",
    "\n",
    "var  = input(\"enter any complex\")\n",
    "print(\"var = \",var)\n",
    "print(type(var))\n",
    "print(id(var))"
   ]
  },
  {
   "cell_type": "code",
   "execution_count": null,
   "metadata": {},
   "outputs": [],
   "source": [
    "# execute above logic 10 times each time new data type data enter"
   ]
  }
 ],
 "metadata": {
  "kernelspec": {
   "display_name": "Python 3",
   "language": "python",
   "name": "python3"
  },
  "language_info": {
   "codemirror_mode": {
    "name": "ipython",
    "version": 3
   },
   "file_extension": ".py",
   "mimetype": "text/x-python",
   "name": "python",
   "nbconvert_exporter": "python",
   "pygments_lexer": "ipython3",
   "version": "3.7.0"
  }
 },
 "nbformat": 4,
 "nbformat_minor": 2
}
