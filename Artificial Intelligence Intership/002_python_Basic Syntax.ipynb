{
 "cells": [
  {
   "cell_type": "code",
   "execution_count": 9,
   "metadata": {},
   "outputs": [
    {
     "name": "stdout",
     "output_type": "stream",
     "text": [
      "hello hai bye \n"
     ]
    }
   ],
   "source": [
    "# statements\n",
    "'''\n",
    "i am prinnting hello on 1st line \n",
    "then hai on 2nd line \n",
    "'''\n",
    "#print(\"hello\")\n",
    "#print(\"hai\")\n",
    "\n",
    "#print (\"hello\") ; print(\"hai\")\n",
    "print ('hello \\\n",
    "hai \\\n",
    "bye ')"
   ]
  },
  {
   "cell_type": "markdown",
   "metadata": {},
   "source": [
    "# Python Name "
   ]
  },
  {
   "cell_type": "code",
   "execution_count": 10,
   "metadata": {
    "scrolled": true
   },
   "outputs": [
    {
     "name": "stdout",
     "output_type": "stream",
     "text": [
      "['False', 'None', 'True', 'and', 'as', 'assert', 'async', 'await', 'break', 'class', 'continue', 'def', 'del', 'elif', 'else', 'except', 'finally', 'for', 'from', 'global', 'if', 'import', 'in', 'is', 'lambda', 'nonlocal', 'not', 'or', 'pass', 'raise', 'return', 'try', 'while', 'with', 'yield']\n",
      "35\n"
     ]
    }
   ],
   "source": [
    "# python Keyword\n",
    "'''\n",
    "---> keywords are the names which are alrady defined in python ide\n",
    "\n",
    "'''\n",
    "import keyword\n",
    "print(keyword.kwlist)\n",
    "print(len(keyword.kwlist))"
   ]
  },
  {
   "cell_type": "code",
   "execution_count": null,
   "metadata": {},
   "outputs": [],
   "source": [
    "# python Identifiers\n",
    "'''\n",
    "programmer defined words \n",
    "\n",
    "to identify the variables , function , classs with  names \n",
    "\n",
    "'''\n",
    "# Rules \n",
    "\n",
    "'''\n",
    "---> we can use alphabets  a -z / A - Z\n",
    "\n",
    "---> we can use digits   0-9\n",
    "\n",
    "---> we can use underscore _\n",
    "\n",
    "---> we can't use digits as a 1st letters\n",
    "\n",
    "--->dont use kwywords a identifiers\n",
    "\n",
    "---> don't use special characters as a identifiers ( , ,. /*#&!)\n",
    "\n",
    "'''"
   ]
  },
  {
   "cell_type": "code",
   "execution_count": 16,
   "metadata": {},
   "outputs": [
    {
     "ename": "SyntaxError",
     "evalue": "invalid syntax (<ipython-input-16-3ee8fa737599>, line 1)",
     "output_type": "error",
     "traceback": [
      "\u001b[1;36m  File \u001b[1;32m\"<ipython-input-16-3ee8fa737599>\"\u001b[1;36m, line \u001b[1;32m1\u001b[0m\n\u001b[1;33m    if =10\u001b[0m\n\u001b[1;37m       ^\u001b[0m\n\u001b[1;31mSyntaxError\u001b[0m\u001b[1;31m:\u001b[0m invalid syntax\n"
     ]
    }
   ],
   "source": [
    "if =10"
   ]
  },
  {
   "cell_type": "code",
   "execution_count": 11,
   "metadata": {},
   "outputs": [
    {
     "name": "stdout",
     "output_type": "stream",
     "text": [
      "10 id is  140709543997472\n",
      "a id is   140709543997472\n",
      "20 id is  140709543997792\n",
      "a id is   140709543997792\n",
      "b id is   140709543997792\n"
     ]
    }
   ],
   "source": [
    "# python varibales \n",
    "'''\n",
    "---> to store some data in memory location / to access the data from \n",
    "the memory location by names ( identifiers )\n",
    "\n",
    "---> variable are used for to referece the memory location\n",
    "'''\n",
    "\n",
    "print(\"10 id is \",id(10))\n",
    "a =10\n",
    "print(\"a id is  \",id(a))\n",
    "print(\"20 id is \",id(20))\n",
    "a =20\n",
    "print(\"a id is  \",id(a))\n",
    "b =20\n",
    "print(\"b id is  \",id(b))"
   ]
  },
  {
   "cell_type": "code",
   "execution_count": 17,
   "metadata": {},
   "outputs": [
    {
     "data": {
      "text/plain": [
       "int"
      ]
     },
     "execution_count": 17,
     "metadata": {},
     "output_type": "execute_result"
    }
   ],
   "source": [
    "# python Datatypes \n",
    "type(100)  # -----> to know data type of any object"
   ]
  },
  {
   "cell_type": "code",
   "execution_count": 31,
   "metadata": {},
   "outputs": [
    {
     "name": "stdout",
     "output_type": "stream",
     "text": [
      "<class 'int'>\n",
      "875302990432\n"
     ]
    }
   ],
   "source": [
    "a = 5646464654654654654654646664654654654654654646464646464\n",
    "print(type(a))\n",
    "print(id(a))"
   ]
  },
  {
   "cell_type": "code",
   "execution_count": 20,
   "metadata": {},
   "outputs": [
    {
     "name": "stdout",
     "output_type": "stream",
     "text": [
      "<class 'float'>\n",
      "875333288224\n"
     ]
    }
   ],
   "source": [
    "a = 100.6775566\n",
    "print(type(a))\n",
    "print(id(a))"
   ]
  },
  {
   "cell_type": "code",
   "execution_count": 22,
   "metadata": {},
   "outputs": [
    {
     "name": "stdout",
     "output_type": "stream",
     "text": [
      "<class 'bool'>\n",
      "140709543481904\n"
     ]
    }
   ],
   "source": [
    "a = False\n",
    "print(type(a))\n",
    "print(id(a))"
   ]
  },
  {
   "cell_type": "code",
   "execution_count": 23,
   "metadata": {},
   "outputs": [
    {
     "name": "stdout",
     "output_type": "stream",
     "text": [
      "<class 'NoneType'>\n",
      "140709543528464\n"
     ]
    }
   ],
   "source": [
    "a = None\n",
    "print(type(a))\n",
    "print(id(a))"
   ]
  },
  {
   "cell_type": "code",
   "execution_count": 24,
   "metadata": {},
   "outputs": [
    {
     "name": "stdout",
     "output_type": "stream",
     "text": [
      "<class 'complex'>\n",
      "875302534256\n"
     ]
    }
   ],
   "source": [
    "#x + yj\n",
    "a = -100 +50j\n",
    "print(type(a))\n",
    "print(id(a))"
   ]
  },
  {
   "cell_type": "code",
   "execution_count": 25,
   "metadata": {},
   "outputs": [
    {
     "name": "stdout",
     "output_type": "stream",
     "text": [
      "python program\n",
      "<class 'str'>\n",
      "875333408624\n"
     ]
    }
   ],
   "source": [
    "var = 'python program'\n",
    "print(var)\n",
    "print(type(var))\n",
    "print(id(var))"
   ]
  },
  {
   "cell_type": "code",
   "execution_count": 26,
   "metadata": {},
   "outputs": [
    {
     "name": "stdout",
     "output_type": "stream",
     "text": [
      "<class 'list'>\n",
      "875333343560\n"
     ]
    }
   ],
   "source": [
    "a = [12 , 45,89.898,4+7j]\n",
    "print(type(a))\n",
    "print(id(a))"
   ]
  },
  {
   "cell_type": "code",
   "execution_count": 27,
   "metadata": {},
   "outputs": [
    {
     "name": "stdout",
     "output_type": "stream",
     "text": [
      "<class 'tuple'>\n",
      "875333261256\n"
     ]
    }
   ],
   "source": [
    "a = (12 , 45,89.898,4+7j)\n",
    "print(type(a))\n",
    "print(id(a))"
   ]
  },
  {
   "cell_type": "code",
   "execution_count": 28,
   "metadata": {},
   "outputs": [
    {
     "name": "stdout",
     "output_type": "stream",
     "text": [
      "<class 'set'>\n",
      "875329079336\n"
     ]
    }
   ],
   "source": [
    "a = {12 , 45,89.898,4+7j}\n",
    "print(type(a))\n",
    "print(id(a))"
   ]
  },
  {
   "cell_type": "code",
   "execution_count": 29,
   "metadata": {},
   "outputs": [
    {
     "name": "stdout",
     "output_type": "stream",
     "text": [
      "<class 'dict'>\n",
      "875302975528\n"
     ]
    }
   ],
   "source": [
    "a = {12:\"int\" , 89.898: \"float\",4+7j :\"complex\"}\n",
    "print(type(a))\n",
    "print(id(a))"
   ]
  }
 ],
 "metadata": {
  "kernelspec": {
   "display_name": "Python 3",
   "language": "python",
   "name": "python3"
  },
  "language_info": {
   "codemirror_mode": {
    "name": "ipython",
    "version": 3
   },
   "file_extension": ".py",
   "mimetype": "text/x-python",
   "name": "python",
   "nbconvert_exporter": "python",
   "pygments_lexer": "ipython3",
   "version": "3.7.0"
  }
 },
 "nbformat": 4,
 "nbformat_minor": 2
}
