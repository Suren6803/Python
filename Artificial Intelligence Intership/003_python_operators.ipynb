{
 "cells": [
  {
   "cell_type": "markdown",
   "metadata": {},
   "source": [
    "# unary Operators"
   ]
  },
  {
   "cell_type": "code",
   "execution_count": 1,
   "metadata": {},
   "outputs": [
    {
     "name": "stdout",
     "output_type": "stream",
     "text": [
      "10\n",
      "-134\n",
      "False\n",
      "-6\n"
     ]
    }
   ],
   "source": [
    "print( +10)\n",
    "print(-134)\n",
    "print(not 10)\n",
    "print(~ 5)"
   ]
  },
  {
   "cell_type": "markdown",
   "metadata": {},
   "source": [
    "# binary Operators"
   ]
  },
  {
   "cell_type": "code",
   "execution_count": 2,
   "metadata": {},
   "outputs": [
    {
     "name": "stdout",
     "output_type": "stream",
     "text": [
      "50\n",
      "340\n"
     ]
    }
   ],
   "source": [
    "print(10 + 40)\n",
    "print(10 *34)"
   ]
  },
  {
   "cell_type": "markdown",
   "metadata": {},
   "source": [
    "# Based on operations\n",
    "\n",
    "    1. Arithmetic Operators\n",
    "    2. Assignment Operators\n",
    "    3. Special Operators\n",
    "    4. Relational Operators\n",
    "    5. Logical Operators\n",
    "    6. Bitwise Operator\n"
   ]
  },
  {
   "cell_type": "markdown",
   "metadata": {},
   "source": [
    "# 1. Arithmetic Operators\n",
    "\n",
    "---> Which operators are used for to do all mathametical and trigonometric and artithmetic Operations \n",
    "\n",
    "    1. addition  +\n",
    "    2. subtraction  -\n",
    "    3. Multiplication  *\n",
    "    4. Division     /  ( quotiant)\n",
    "    5. Modulus   % (reminder)\n",
    "    6. floor division   //\n",
    "    7. exponant   ** "
   ]
  },
  {
   "cell_type": "code",
   "execution_count": 4,
   "metadata": {},
   "outputs": [
    {
     "name": "stdout",
     "output_type": "stream",
     "text": [
      "enter num1 : 12\n",
      "enter num2 : 10\n",
      "12  +  10  =  22\n",
      "12  -  10  =  2\n",
      "12  *  10  =  120\n",
      "12  /  10  =  1.2\n",
      "12  //  10  =  1\n",
      "12  %  10  =  2\n",
      "12  **  10  =  61917364224\n"
     ]
    }
   ],
   "source": [
    "# wap to understand all arithmetic operators\n",
    "num1 = int(input(\"enter num1 : \"))\n",
    "num2 = int(input(\"enter num2 : \"))\n",
    "print(num1,\" + \",num2,\" = \",num1+num2)\n",
    "print(num1,\" - \",num2,\" = \",num1-num2)\n",
    "print(num1,\" * \",num2,\" = \",num1*num2)\n",
    "print(num1,\" / \",num2,\" = \",num1/num2)\n",
    "print(num1,\" // \",num2,\" = \",num1//num2)\n",
    "print(num1,\" % \",num2,\" = \",num1%num2)\n",
    "print(num1,\" ** \",num2,\" = \",num1**num2)\n"
   ]
  },
  {
   "cell_type": "code",
   "execution_count": 5,
   "metadata": {
    "scrolled": true
   },
   "outputs": [
    {
     "name": "stdout",
     "output_type": "stream",
     "text": [
      "enter num1 : 12.0\n",
      "enter num2 : 10\n",
      "12.0  +  10.0  =  22.0\n",
      "12.0  -  10.0  =  2.0\n",
      "12.0  *  10.0  =  120.0\n",
      "12.0  /  10.0  =  1.2\n",
      "12.0  //  10.0  =  1.0\n",
      "12.0  %  10.0  =  2.0\n",
      "12.0  **  10.0  =  61917364224.0\n"
     ]
    }
   ],
   "source": [
    "# wap to understand all arithmetic operators\n",
    "num1 = float(input(\"enter num1 : \"))\n",
    "num2 = float(input(\"enter num2 : \"))\n",
    "print(num1,\" + \",num2,\" = \",num1+num2)\n",
    "print(num1,\" - \",num2,\" = \",num1-num2)\n",
    "print(num1,\" * \",num2,\" = \",num1*num2)\n",
    "print(num1,\" / \",num2,\" = \",num1/num2)\n",
    "print(num1,\" // \",num2,\" = \",num1//num2)\n",
    "print(num1,\" % \",num2,\" = \",num1%num2)\n",
    "print(num1,\" ** \",num2,\" = \",num1**num2)\n"
   ]
  },
  {
   "cell_type": "code",
   "execution_count": null,
   "metadata": {},
   "outputs": [],
   "source": [
    "# wap find the area of circle and perimeter\n",
    "# wap find the area of square and parameter\n",
    "# wap find the area of rectangle and perimeter\n",
    "# wap find volume of cube and area\n",
    "# wap find volume of cylender and perimeter\n",
    "# wap find the sum of 1st N Natural numbers \n",
    "# wap find the sum of sqaures of 1st N Natural numbers \n",
    "# wap find the sum of cubes of 1st N natural numbers \n",
    "# wap find the simple intrest and total amount \n",
    "# wap convert celisus to farahinheat \n",
    "\n",
    "\n",
    "\n",
    "\n",
    "\n"
   ]
  },
  {
   "cell_type": "code",
   "execution_count": 6,
   "metadata": {},
   "outputs": [
    {
     "name": "stdout",
     "output_type": "stream",
     "text": [
      "enter N : 10\n",
      "sum of 1st  10  Naturall numbers are :  55.0\n"
     ]
    }
   ],
   "source": [
    "# wap find the sum of 1st N Natural numbers \n",
    "N = int(input(\"enter N : \"))\n",
    "sum = N * (N+1) /2\n",
    "print(\"sum of 1st \",N,' Naturall numbers are : ',sum)"
   ]
  },
  {
   "cell_type": "code",
   "execution_count": 7,
   "metadata": {},
   "outputs": [
    {
     "name": "stdout",
     "output_type": "stream",
     "text": [
      "20 while addition\n",
      "10 while subtraction\n",
      "100 while multiplication \n"
     ]
    }
   ],
   "source": [
    "# Assignment Operator\n",
    "a  =10   # constant to variable \n",
    "b = a   # variable to vaiable\n",
    "c = a+b # expression to variable\n",
    "a += b    #a = a+b #  a =20   # adddition then assign\n",
    "print(a ,\"while addition\")\n",
    "a -= b   # a = a -b   # a=10  # subtraction then assign\n",
    "print(a,\"while subtraction\")\n",
    "a *= b   # a = a*b  # multiplication then assign\n",
    "print(a,\"while multiplication \")"
   ]
  },
  {
   "cell_type": "code",
   "execution_count": 8,
   "metadata": {},
   "outputs": [
    {
     "name": "stdout",
     "output_type": "stream",
     "text": [
      "enter any single character a\n",
      "a is vowel  True\n",
      "enter any single character x\n",
      "x is vowel  False\n"
     ]
    }
   ],
   "source": [
    "# special operators\n",
    "# membership operator\n",
    "\n",
    "# in operator\n",
    "vowel = 'aeiouAEIOU'\n",
    "char = input(\"enter any single character \")\n",
    "print(char ,\"is vowel \",char in vowel)\n",
    "char = input(\"enter any single character \")\n",
    "print(char ,\"is vowel \",char in vowel)"
   ]
  },
  {
   "cell_type": "code",
   "execution_count": 9,
   "metadata": {},
   "outputs": [
    {
     "name": "stdout",
     "output_type": "stream",
     "text": [
      "enter any single character e\n",
      "e is consonant   False\n",
      "enter any single character x\n",
      "x is consonant  True\n"
     ]
    }
   ],
   "source": [
    "\n",
    "# in operator\n",
    "vowel = 'aeiouAEIOU'\n",
    "char = input(\"enter any single character \")\n",
    "print(char ,\"is consonant  \",char not in vowel)\n",
    "char = input(\"enter any single character \")\n",
    "print(char ,\"is consonant \",char not in vowel)"
   ]
  },
  {
   "cell_type": "code",
   "execution_count": 10,
   "metadata": {},
   "outputs": [
    {
     "name": "stdout",
     "output_type": "stream",
     "text": [
      "id a :  140733986238496\n",
      "id b :  140733986238816\n",
      "id c :  140733986238496\n",
      "10  and  20  share same memory  False\n",
      "10  and  20  both diffeeren memory  True\n",
      "10  and  10  share same memory  True\n",
      "10  and  10  both diffeeren memory  False\n"
     ]
    }
   ],
   "source": [
    "# Identity operator\n",
    "a =10\n",
    "b = 20\n",
    "c =10\n",
    "print(\"id a : \",id(a))\n",
    "print(\"id b : \",id(b))\n",
    "print(\"id c : \",id(c))\n",
    "print(a,\" and \",b,\" share same memory \", a is b)\n",
    "print(a,\" and \",b,\" both diffeeren memory \", a is not b)\n",
    "print(a,\" and \",c,\" share same memory \", a is c)\n",
    "print(a,\" and \",c,\" both diffeeren memory \", a is not c)\n",
    "\n",
    "\n",
    "\n",
    "\n"
   ]
  },
  {
   "cell_type": "markdown",
   "metadata": {},
   "source": [
    "# Relational Operator :"
   ]
  },
  {
   "cell_type": "code",
   "execution_count": 1,
   "metadata": {},
   "outputs": [
    {
     "name": "stdout",
     "output_type": "stream",
     "text": [
      "enter a : 10\n",
      "enter b : 20\n",
      "10  <  20   =  True\n",
      "10  <=  20  =  True\n",
      "10  >  20   =  False\n",
      "10  >=  20  =  False\n",
      "10  ==  20  =  False\n",
      "10  !=  20  =  True\n"
     ]
    }
   ],
   "source": [
    "a = int(input(\"enter a : \"))\n",
    "b = int(input(\"enter b : \"))\n",
    "print(a,\" < \",b,\"  = \", a < b)\n",
    "print(a,\" <= \",b,\" = \", a <= b)\n",
    "print(a,\" > \",b,\"  = \", a > b)\n",
    "print(a,\" >= \",b,\" = \", a >= b)\n",
    "print(a,\" == \",b,\" = \", a == b)\n",
    "print(a,\" != \",b,\" = \", a != b)"
   ]
  },
  {
   "cell_type": "code",
   "execution_count": 3,
   "metadata": {},
   "outputs": [
    {
     "name": "stdout",
     "output_type": "stream",
     "text": [
      "0\n",
      "0.0\n",
      "[]\n",
      "[]\n",
      "89\n"
     ]
    }
   ],
   "source": [
    "# Logical AND  ( and )\n",
    "'''\n",
    "1st input value is True case then output is 2nd input value\n",
    "\n",
    "1st input value is False case then output is 1st input value\n",
    "\n",
    "'''\n",
    "print( 0 and [])\n",
    "print(0.0 and ())\n",
    "print([] and 56)\n",
    "print(12 and [])  # []\n",
    "print([1,2] and 89) # 89"
   ]
  },
  {
   "cell_type": "code",
   "execution_count": 4,
   "metadata": {},
   "outputs": [
    {
     "name": "stdout",
     "output_type": "stream",
     "text": [
      "[]\n",
      "()\n",
      "56\n",
      "12\n",
      "[1, 2]\n"
     ]
    }
   ],
   "source": [
    "# Logical OR ( or )\n",
    "'''\n",
    "1st input value is True case then output is 1st input value\n",
    "\n",
    "1st input value is False case then output is 2nd input value\n",
    "\n",
    "'''\n",
    "print( 0 or [])\n",
    "print(0.0 or ())\n",
    "print([] or 56)\n",
    "print(12 or[])  # []\n",
    "print([1,2] or 89) # 89"
   ]
  },
  {
   "cell_type": "code",
   "execution_count": 5,
   "metadata": {},
   "outputs": [
    {
     "name": "stdout",
     "output_type": "stream",
     "text": [
      "False\n",
      "True\n"
     ]
    }
   ],
   "source": [
    "# Logical NOT  ( not )\n",
    "print(not 34)\n",
    "print(not ())"
   ]
  },
  {
   "cell_type": "code",
   "execution_count": 8,
   "metadata": {},
   "outputs": [
    {
     "name": "stdout",
     "output_type": "stream",
     "text": [
      "enter year 2100\n",
      "2100  is leap year  False\n"
     ]
    }
   ],
   "source": [
    "year  = int(input(\"enter year \"))\n",
    "res = (year %4 == 0) and ((year %400 ==0)  or (year %100 != 0))\n",
    "print(year ,\" is leap year \", res)"
   ]
  },
  {
   "cell_type": "code",
   "execution_count": 9,
   "metadata": {
    "scrolled": true
   },
   "outputs": [
    {
     "data": {
      "text/plain": [
       "0"
      ]
     },
     "execution_count": 9,
     "metadata": {},
     "output_type": "execute_result"
    }
   ],
   "source": [
    "# bitwise operator\n",
    "\n",
    "10 & 5"
   ]
  },
  {
   "cell_type": "code",
   "execution_count": 10,
   "metadata": {},
   "outputs": [
    {
     "data": {
      "text/plain": [
       "5"
      ]
     },
     "execution_count": 10,
     "metadata": {},
     "output_type": "execute_result"
    }
   ],
   "source": [
    "15 & 5"
   ]
  },
  {
   "cell_type": "code",
   "execution_count": 11,
   "metadata": {},
   "outputs": [
    {
     "data": {
      "text/plain": [
       "2"
      ]
     },
     "execution_count": 11,
     "metadata": {},
     "output_type": "execute_result"
    }
   ],
   "source": [
    "7 & 10"
   ]
  },
  {
   "cell_type": "code",
   "execution_count": 12,
   "metadata": {},
   "outputs": [
    {
     "data": {
      "text/plain": [
       "15"
      ]
     },
     "execution_count": 12,
     "metadata": {},
     "output_type": "execute_result"
    }
   ],
   "source": [
    "10  |  5"
   ]
  },
  {
   "cell_type": "code",
   "execution_count": 13,
   "metadata": {},
   "outputs": [
    {
     "data": {
      "text/plain": [
       "15"
      ]
     },
     "execution_count": 13,
     "metadata": {},
     "output_type": "execute_result"
    }
   ],
   "source": [
    "10 ^ 5"
   ]
  },
  {
   "cell_type": "code",
   "execution_count": 14,
   "metadata": {},
   "outputs": [
    {
     "data": {
      "text/plain": [
       "8"
      ]
     },
     "execution_count": 14,
     "metadata": {},
     "output_type": "execute_result"
    }
   ],
   "source": [
    "15 ^ 7"
   ]
  },
  {
   "cell_type": "code",
   "execution_count": 15,
   "metadata": {},
   "outputs": [
    {
     "data": {
      "text/plain": [
       "-16"
      ]
     },
     "execution_count": 15,
     "metadata": {},
     "output_type": "execute_result"
    }
   ],
   "source": [
    "~ 15"
   ]
  }
 ],
 "metadata": {
  "kernelspec": {
   "display_name": "Python 3",
   "language": "python",
   "name": "python3"
  },
  "language_info": {
   "codemirror_mode": {
    "name": "ipython",
    "version": 3
   },
   "file_extension": ".py",
   "mimetype": "text/x-python",
   "name": "python",
   "nbconvert_exporter": "python",
   "pygments_lexer": "ipython3",
   "version": "3.7.0"
  }
 },
 "nbformat": 4,
 "nbformat_minor": 2
}
