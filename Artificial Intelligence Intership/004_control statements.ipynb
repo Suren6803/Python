{
 "cells": [
  {
   "cell_type": "markdown",
   "metadata": {},
   "source": [
    "# simple if \n"
   ]
  },
  {
   "cell_type": "code",
   "execution_count": null,
   "metadata": {},
   "outputs": [],
   "source": [
    "# wap print jagan will become CM or not \n",
    "total = int(input(\"enter total no seats : \"))\n",
    "asm =  int(input(\"enter No of seats YCRCP got : \"))\n",
    "per = (float(asm)/ total )* 100\n",
    "if(per > 50):\n",
    "    print(\"Jagan is upcoming CM \")\n",
    "print(\"elections are closed\")\n"
   ]
  },
  {
   "cell_type": "code",
   "execution_count": null,
   "metadata": {},
   "outputs": [],
   "source": [
    "# wap print jagan will become CM or Chandrababu \n",
    "total = int(input(\"enter total no seats : \"))\n",
    "asm =  int(input(\"enter No of seats YCRCP got : \"))\n",
    "per = (float(asm)/ total )* 100\n",
    "if(per > 50):\n",
    "    print(\"Jagan is upcoming CM \")\n",
    "else:\n",
    "    print(\"Chandrababu become CM\")\n",
    "print(\"elections are closed\")\n"
   ]
  },
  {
   "cell_type": "code",
   "execution_count": null,
   "metadata": {},
   "outputs": [],
   "source": [
    "# wap print jagan will become CM or Chandrababu \n",
    "total = int(input(\"enter total no seats : \"))\n",
    "y_c =  int(input(\"enter No of seats YCRCP got : \"))\n",
    "t_c =int(input(\"enter No of seats TDP got : \"))\n",
    "j_c = int(input(\"enter No of seats JSP got : \"))\n",
    "P_y = float(y_c)/total * 100\n",
    "P_t = float(t_c)/total * 100\n",
    "P_j =float(j_c)/total * 100\n",
    "if(P_y > 50):\n",
    "    print(\"Jagan is upcoming CM \")\n",
    "elif(P_t > 50):\n",
    "    print(\"Chandrababu become CM\")\n",
    "elif(P_j > 50):\n",
    "    print(\"Pawan Kalyan becom CM\")\n",
    "else:\n",
    "    print(\"rastapathi \")\n",
    "    \n",
    "print(\"elections are closed\")\n"
   ]
  },
  {
   "cell_type": "code",
   "execution_count": null,
   "metadata": {},
   "outputs": [],
   "source": [
    "# nested if \n",
    "# wap find smallest number from 3 numbers \n",
    "a = int(input(\"enter a :\"))\n",
    "b = int(input(\"enter b :\"))\n",
    "c = int(input(\"enter c :\"))\n",
    "if(a <b):\n",
    "    small =a\n",
    "    if(c < a):\n",
    "        small =c\n",
    "else:\n",
    "    small = b\n",
    "    if(c < b):\n",
    "        small = c\n",
    "print(\"small = \",small)"
   ]
  },
  {
   "cell_type": "markdown",
   "metadata": {},
   "source": [
    "# for loop"
   ]
  },
  {
   "cell_type": "code",
   "execution_count": null,
   "metadata": {},
   "outputs": [],
   "source": [
    "# wap sum of list of elements with out using sum \n",
    "list_seq = [12,45,90,34,23]\n",
    "sum =0\n",
    "for var in list_seq:\n",
    "    print(var)\n",
    "    sum = sum +var\n",
    "else:\n",
    "    print(\"sum of all above elements are : \",sum)"
   ]
  },
  {
   "cell_type": "code",
   "execution_count": null,
   "metadata": {},
   "outputs": [],
   "source": [
    "# wap print multiplicatication table\n",
    "N= int(input(\"enter N \"))\n",
    "for i in range(1,11):\n",
    "    print(N,\" * \",i ,\" = \",N*i)"
   ]
  },
  {
   "cell_type": "code",
   "execution_count": null,
   "metadata": {},
   "outputs": [],
   "source": [
    "# wap find given number is prime or not\n",
    "N= int(input(\"enter N \"))\n",
    "for i in range(2,N):\n",
    "    if(N % i == 0):\n",
    "        print(\"its not prime\")\n",
    "        break\n",
    "else:\n",
    "    print(N,\" its prime number\")"
   ]
  },
  {
   "cell_type": "code",
   "execution_count": null,
   "metadata": {},
   "outputs": [],
   "source": [
    "# wap print sum of 1St N natural number except 10\n",
    "# 100 ---> 1 +2+3+------+8+9+11+12-----100\n",
    "N = int(input(\"enter N \"))\n",
    "sum =0\n",
    "for var in range(1,N+1):\n",
    "    if(var == 10):\n",
    "        continue\n",
    "        \n",
    "    sum = sum +var\n",
    "else:\n",
    "    print(\"sum of 1st \",N,\" Natural numbers are \",sum )"
   ]
  },
  {
   "cell_type": "markdown",
   "metadata": {},
   "source": [
    "# while "
   ]
  },
  {
   "cell_type": "code",
   "execution_count": 4,
   "metadata": {
    "scrolled": true
   },
   "outputs": [
    {
     "name": "stdout",
     "output_type": "stream",
     "text": [
      "enter N 10\n",
      "1 + 2 + 3 + 4 + 5 + 6 + 7 + 8 + 9 + 10 +  =  55\n"
     ]
    }
   ],
   "source": [
    "# wap find the sum 1st nuturl number \n",
    "N = int(input(\"enter N \"))\n",
    "i =1\n",
    "sum =0\n",
    "while(i < N+1):\n",
    "    print(i,end = \" + \")\n",
    "    sum =sum+i\n",
    "    i =i+1\n",
    "else:\n",
    "    print(\" = \",sum)"
   ]
  },
  {
   "cell_type": "code",
   "execution_count": null,
   "metadata": {},
   "outputs": [],
   "source": [
    "# https://projecteuler.net/archives  every day  3 to 5 problems "
   ]
  }
 ],
 "metadata": {
  "kernelspec": {
   "display_name": "Python 3",
   "language": "python",
   "name": "python3"
  },
  "language_info": {
   "codemirror_mode": {
    "name": "ipython",
    "version": 3
   },
   "file_extension": ".py",
   "mimetype": "text/x-python",
   "name": "python",
   "nbconvert_exporter": "python",
   "pygments_lexer": "ipython3",
   "version": "3.7.0"
  }
 },
 "nbformat": 4,
 "nbformat_minor": 2
}
