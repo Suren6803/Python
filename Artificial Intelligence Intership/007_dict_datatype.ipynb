{
 "cells": [
  {
   "cell_type": "code",
   "execution_count": 2,
   "metadata": {},
   "outputs": [
    {
     "name": "stdout",
     "output_type": "stream",
     "text": [
      " a =  {}\n",
      " id=  495877595712\n",
      "<class 'dict'>\n",
      "216\n"
     ]
    }
   ],
   "source": [
    "# empty dict\n",
    "a = { }\n",
    "print(\" a = \",a)\n",
    "print(\" id= \",id(a))\n",
    "print(type(a))\n",
    "print(a.__sizeof__())"
   ]
  },
  {
   "cell_type": "code",
   "execution_count": 9,
   "metadata": {},
   "outputs": [
    {
     "name": "stdout",
     "output_type": "stream",
     "text": [
      " a =  {56: 'soc'}\n",
      " id=  495904042296\n",
      "<class 'dict'>\n",
      "216\n"
     ]
    }
   ],
   "source": [
    "# dict with some elements\n",
    "# remove duplicate keys \n",
    "# its support indexing / its unorder datatype\n",
    "a = {56:34,56:\"soc\" }\n",
    "print(\" a = \",a)\n",
    "print(\" id= \",id(a))\n",
    "print(type(a))\n",
    "print(a.__sizeof__())"
   ]
  },
  {
   "cell_type": "code",
   "execution_count": 10,
   "metadata": {},
   "outputs": [],
   "source": [
    "a ={12:\"anjan\",67:\"kumar\"}"
   ]
  },
  {
   "cell_type": "code",
   "execution_count": 16,
   "metadata": {},
   "outputs": [
    {
     "data": {
      "text/plain": [
       "{12: 'anjan', 67: 'kumar', 34: 'AI'}"
      ]
     },
     "execution_count": 16,
     "metadata": {},
     "output_type": "execute_result"
    }
   ],
   "source": [
    "a[34]='AI'\n",
    "a"
   ]
  },
  {
   "cell_type": "code",
   "execution_count": 17,
   "metadata": {},
   "outputs": [],
   "source": [
    "a[12] ='Akhil'"
   ]
  },
  {
   "cell_type": "code",
   "execution_count": 18,
   "metadata": {},
   "outputs": [
    {
     "data": {
      "text/plain": [
       "{12: 'Akhil', 67: 'kumar', 34: 'AI'}"
      ]
     },
     "execution_count": 18,
     "metadata": {},
     "output_type": "execute_result"
    }
   ],
   "source": [
    "a"
   ]
  },
  {
   "cell_type": "code",
   "execution_count": 15,
   "metadata": {},
   "outputs": [
    {
     "data": {
      "text/plain": [
       "'kumar'"
      ]
     },
     "execution_count": 15,
     "metadata": {},
     "output_type": "execute_result"
    }
   ],
   "source": [
    "a[67]"
   ]
  },
  {
   "cell_type": "code",
   "execution_count": 19,
   "metadata": {},
   "outputs": [
    {
     "data": {
      "text/plain": [
       "['__class__',\n",
       " '__contains__',\n",
       " '__delattr__',\n",
       " '__delitem__',\n",
       " '__dir__',\n",
       " '__doc__',\n",
       " '__eq__',\n",
       " '__format__',\n",
       " '__ge__',\n",
       " '__getattribute__',\n",
       " '__getitem__',\n",
       " '__gt__',\n",
       " '__hash__',\n",
       " '__init__',\n",
       " '__init_subclass__',\n",
       " '__iter__',\n",
       " '__le__',\n",
       " '__len__',\n",
       " '__lt__',\n",
       " '__ne__',\n",
       " '__new__',\n",
       " '__reduce__',\n",
       " '__reduce_ex__',\n",
       " '__repr__',\n",
       " '__setattr__',\n",
       " '__setitem__',\n",
       " '__sizeof__',\n",
       " '__str__',\n",
       " '__subclasshook__',\n",
       " 'clear',\n",
       " 'copy',\n",
       " 'fromkeys',\n",
       " 'get',\n",
       " 'items',\n",
       " 'keys',\n",
       " 'pop',\n",
       " 'popitem',\n",
       " 'setdefault',\n",
       " 'update',\n",
       " 'values']"
      ]
     },
     "execution_count": 19,
     "metadata": {},
     "output_type": "execute_result"
    }
   ],
   "source": [
    "dir(dict)"
   ]
  },
  {
   "cell_type": "code",
   "execution_count": 27,
   "metadata": {},
   "outputs": [
    {
     "name": "stdout",
     "output_type": "stream",
     "text": [
      "{12: 'Akhil', 67: 'kumar', 34: 'AI'}\n",
      "dict_values(['Akhil', 'kumar', 'AI'])\n",
      "dict_keys([12, 67, 34])\n",
      "dict_items([(12, 'Akhil'), (67, 'kumar'), (34, 'AI')])\n"
     ]
    }
   ],
   "source": [
    "print(a)\n",
    "print(a.values())\n",
    "print(a.keys())\n",
    "print(a.items())\n",
    "\n"
   ]
  },
  {
   "cell_type": "code",
   "execution_count": 28,
   "metadata": {},
   "outputs": [
    {
     "name": "stdout",
     "output_type": "stream",
     "text": [
      "{12: 'Akhil', 67: 'kumar', 34: 'AI'}\n",
      "{12: 'Akhil', 67: 'kumar', 34: 'AI'}\n",
      "{}\n",
      "{12: 'Akhil', 67: 'kumar', 34: 'AI'}\n"
     ]
    }
   ],
   "source": [
    "b =a.copy()\n",
    "print(b)\n",
    "print(a)\n",
    "b.clear()\n",
    "print(b)\n",
    "print(a)"
   ]
  },
  {
   "cell_type": "code",
   "execution_count": 29,
   "metadata": {},
   "outputs": [
    {
     "name": "stdout",
     "output_type": "stream",
     "text": [
      "{12: 'Akhil', 67: 'kumar', 34: 'AI'}\n",
      "{12: 'Akhil', 67: 'kumar', 34: 'AI'}\n",
      "{}\n",
      "{}\n"
     ]
    }
   ],
   "source": [
    "b =a\n",
    "print(b)\n",
    "print(a)\n",
    "b.clear()\n",
    "print(b)\n",
    "print(a)"
   ]
  },
  {
   "cell_type": "code",
   "execution_count": 32,
   "metadata": {},
   "outputs": [
    {
     "name": "stdout",
     "output_type": "stream",
     "text": [
      "{78: 'soc', 67: 'anjan'}\n",
      "{12: 'Akhil', 67: 'kumar', 34: 'AI'}\n",
      "{12: 'Akhil', 67: 'kumar', 34: 'AI'}\n",
      "{78: 'soc', 67: 'kumar', 12: 'Akhil', 34: 'AI'}\n"
     ]
    }
   ],
   "source": [
    "a={12: 'Akhil', 67: 'kumar', 34: 'AI'}\n",
    "b= {78:\"soc\",67:'anjan'}\n",
    "print(b)\n",
    "print(a)\n",
    "b.update(a)\n",
    "print(a)\n",
    "print(b)"
   ]
  },
  {
   "cell_type": "code",
   "execution_count": 33,
   "metadata": {},
   "outputs": [
    {
     "name": "stdout",
     "output_type": "stream",
     "text": [
      "{78: 'soc', 67: 'kumar', 12: 'Akhil', 34: 'AI'}\n",
      "(34, 'AI')\n",
      "{78: 'soc', 67: 'kumar', 12: 'Akhil'}\n"
     ]
    }
   ],
   "source": [
    "print(b)\n",
    "print(b.popitem())\n",
    "print(b)"
   ]
  },
  {
   "cell_type": "code",
   "execution_count": 34,
   "metadata": {},
   "outputs": [
    {
     "name": "stdout",
     "output_type": "stream",
     "text": [
      "{78: 'soc', 67: 'kumar', 12: 'Akhil'}\n",
      "kumar\n",
      "{78: 'soc', 12: 'Akhil'}\n"
     ]
    }
   ],
   "source": [
    "print(b)\n",
    "print(b.pop(67))\n",
    "print(b)"
   ]
  },
  {
   "cell_type": "code",
   "execution_count": 35,
   "metadata": {},
   "outputs": [
    {
     "name": "stdout",
     "output_type": "stream",
     "text": [
      "{12: 'Akhil', 67: 'kumar', 34: 'AI'}\n",
      "{78: 'soc', 12: 'Akhil'}\n",
      "{12: 'Akhil', 67: 'kumar', 34: 'AI'}\n",
      "{78: 'soc', 12: 'Akhil', 67: 'kumar', 34: 'AI'}\n"
     ]
    }
   ],
   "source": [
    "print(a)\n",
    "print(b)\n",
    "b.update(a)\n",
    "print(a)\n",
    "print(b)"
   ]
  },
  {
   "cell_type": "code",
   "execution_count": 37,
   "metadata": {},
   "outputs": [
    {
     "name": "stdout",
     "output_type": "stream",
     "text": [
      "kumar\n",
      "{78: 'soc', 12: 'Akhil', 67: 'kumar', 34: 'AI'}\n"
     ]
    }
   ],
   "source": [
    "print(b.get(67))\n",
    "print(b)"
   ]
  },
  {
   "cell_type": "code",
   "execution_count": 38,
   "metadata": {},
   "outputs": [
    {
     "data": {
      "text/plain": [
       "['__class__',\n",
       " '__contains__',\n",
       " '__delattr__',\n",
       " '__delitem__',\n",
       " '__dir__',\n",
       " '__doc__',\n",
       " '__eq__',\n",
       " '__format__',\n",
       " '__ge__',\n",
       " '__getattribute__',\n",
       " '__getitem__',\n",
       " '__gt__',\n",
       " '__hash__',\n",
       " '__init__',\n",
       " '__init_subclass__',\n",
       " '__iter__',\n",
       " '__le__',\n",
       " '__len__',\n",
       " '__lt__',\n",
       " '__ne__',\n",
       " '__new__',\n",
       " '__reduce__',\n",
       " '__reduce_ex__',\n",
       " '__repr__',\n",
       " '__setattr__',\n",
       " '__setitem__',\n",
       " '__sizeof__',\n",
       " '__str__',\n",
       " '__subclasshook__',\n",
       " 'clear',\n",
       " 'copy',\n",
       " 'fromkeys',\n",
       " 'get',\n",
       " 'items',\n",
       " 'keys',\n",
       " 'pop',\n",
       " 'popitem',\n",
       " 'setdefault',\n",
       " 'update',\n",
       " 'values']"
      ]
     },
     "execution_count": 38,
     "metadata": {},
     "output_type": "execute_result"
    }
   ],
   "source": [
    "dir(dict)"
   ]
  },
  {
   "cell_type": "code",
   "execution_count": 41,
   "metadata": {},
   "outputs": [
    {
     "name": "stdout",
     "output_type": "stream",
     "text": [
      "enter some 789\n",
      "789\n",
      "<class 'str'>\n",
      "495904218616\n",
      "789\n",
      "<class 'int'>\n",
      "495876983536\n"
     ]
    }
   ],
   "source": [
    "a = input(\"enter some \")\n",
    "print(a)\n",
    "print(type(a))\n",
    "print(id(a))\n",
    "a = int(a)\n",
    "print(a)\n",
    "print(type(a))\n",
    "print(id(a))"
   ]
  },
  {
   "cell_type": "code",
   "execution_count": 42,
   "metadata": {},
   "outputs": [
    {
     "name": "stdout",
     "output_type": "stream",
     "text": [
      "enter some 78.78555\n",
      "78.78555\n",
      "<class 'str'>\n",
      "495904201200\n",
      "78.78555\n",
      "<class 'float'>\n",
      "495904068448\n"
     ]
    }
   ],
   "source": [
    "a = input(\"enter some \")\n",
    "print(a)\n",
    "print(type(a))\n",
    "print(id(a))\n",
    "a = float(a)\n",
    "print(a)\n",
    "print(type(a))\n",
    "print(id(a))"
   ]
  },
  {
   "cell_type": "code",
   "execution_count": null,
   "metadata": {},
   "outputs": [],
   "source": [
    "# data type convertion function\n",
    "int() <-----any data \n",
    "float() < ---any data\n",
    "complex() < ---any data\n",
    "bool( ) < ---any data\n",
    "str()  < ---any data\n",
    "list() < ---any data\n",
    "tuple()< ---any data\n",
    "set()< ---any data\n",
    "dict()< ---any data\n",
    "\n",
    "#Number system convertion\n",
    "bin()\n",
    "oct()\n",
    "hex()\n",
    "int() <---decimal <---- any NS\n",
    "\n"
   ]
  },
  {
   "cell_type": "code",
   "execution_count": 49,
   "metadata": {},
   "outputs": [
    {
     "name": "stdout",
     "output_type": "stream",
     "text": [
      "37\n",
      "83\n",
      "4671\n"
     ]
    }
   ],
   "source": [
    "print(int('0b100101',2))\n",
    "print(int('0123',8))\n",
    "print(int('0x123f',16))"
   ]
  },
  {
   "cell_type": "code",
   "execution_count": 53,
   "metadata": {},
   "outputs": [
    {
     "name": "stdout",
     "output_type": "stream",
     "text": [
      "0b1111011\n",
      "0b1010011\n",
      "0b100100011\n"
     ]
    }
   ],
   "source": [
    "print(bin(123))\n",
    "print(bin(0o123))\n",
    "print(bin(0x123))"
   ]
  },
  {
   "cell_type": "code",
   "execution_count": 54,
   "metadata": {},
   "outputs": [
    {
     "name": "stdout",
     "output_type": "stream",
     "text": [
      "0x55\n",
      "0x53\n",
      "0x7b\n"
     ]
    }
   ],
   "source": [
    "print(hex(0b1010101))\n",
    "print(hex(0o123))\n",
    "print(hex(123))"
   ]
  },
  {
   "cell_type": "code",
   "execution_count": 56,
   "metadata": {},
   "outputs": [
    {
     "name": "stdout",
     "output_type": "stream",
     "text": [
      "0o173\n",
      "0o51\n",
      "0o11063\n"
     ]
    }
   ],
   "source": [
    "print(oct(123))\n",
    "print(oct(0b101001))\n",
    "print(oct(0x1233))"
   ]
  }
 ],
 "metadata": {
  "kernelspec": {
   "display_name": "Python 3",
   "language": "python",
   "name": "python3"
  },
  "language_info": {
   "codemirror_mode": {
    "name": "ipython",
    "version": 3
   },
   "file_extension": ".py",
   "mimetype": "text/x-python",
   "name": "python",
   "nbconvert_exporter": "python",
   "pygments_lexer": "ipython3",
   "version": "3.7.0"
  }
 },
 "nbformat": 4,
 "nbformat_minor": 2
}
