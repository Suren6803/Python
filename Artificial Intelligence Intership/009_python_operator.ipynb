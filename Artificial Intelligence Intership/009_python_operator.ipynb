{
 "cells": [
  {
   "cell_type": "markdown",
   "metadata": {},
   "source": [
    "# Arithmetic Operators"
   ]
  },
  {
   "cell_type": "code",
   "execution_count": 3,
   "metadata": {},
   "outputs": [
    {
     "name": "stdout",
     "output_type": "stream",
     "text": [
      "enter a : 5\n",
      "enter b : 6\n",
      "5  +  6   =  11\n",
      "5  -  6   =  -1\n",
      "5  *  6   =  30\n",
      "5  **  6  =  15625\n",
      "5  /  6   =  0.8333333333333334\n",
      "5  //  6  =  0\n",
      "5  %  6   =  5\n"
     ]
    }
   ],
   "source": [
    "a = int(input(\"enter a : \"))\n",
    "b = int(input(\"enter b : \"))\n",
    "print(a,\" + \",b,\"  = \",a+b)\n",
    "print(a,\" - \",b,\"  = \",a-b)\n",
    "print(a,\" * \",b,\"  = \",a*b)\n",
    "print(a,\" ** \",b,\" = \",a**b)\n",
    "print(a,\" / \",b,\"  = \",a/b)\n",
    "print(a,\" // \",b,\" = \",a//b)\n",
    "print(a,\" % \",b,\"  = \",a%b)"
   ]
  },
  {
   "cell_type": "code",
   "execution_count": 3,
   "metadata": {},
   "outputs": [
    {
     "name": "stdout",
     "output_type": "stream",
     "text": [
      "enter a : 21.0\n",
      "enter b : 2\n",
      "21.0  +  2.0   =  23.0\n",
      "21.0  -  2.0   =  19.0\n",
      "21.0  *  2.0   =  42.0\n",
      "21.0  **  2.0  =  441.0\n",
      "21.0  /  2.0   =  10.5\n",
      "21.0  //  2.0  =  10.0\n",
      "21.0  %  2.0   =  1.0\n"
     ]
    }
   ],
   "source": [
    "a = float(input(\"enter a : \"))\n",
    "b = float(input(\"enter b : \"))\n",
    "print(a,\" + \",b,\"  = \",a+b)\n",
    "print(a,\" - \",b,\"  = \",a-b)\n",
    "print(a,\" * \",b,\"  = \",a*b)\n",
    "print(a,\" ** \",b,\" = \",a**b)\n",
    "print(a,\" / \",b,\"  = \",a/b)\n",
    "print(a,\" // \",b,\" = \",a//b)\n",
    "print(a,\" % \",b,\"  = \",a%b)"
   ]
  },
  {
   "cell_type": "code",
   "execution_count": null,
   "metadata": {},
   "outputs": [],
   "source": [
    "#wap find area and perimeter of square\n",
    "#wap find area and perimeter of rectangle\n",
    "#wap find area and perimeter of circle\n",
    "# wap find area and volume of cube (sides are equal\n",
    "# wap sum of 1st N natural number\n",
    "# wap sum of squares of 1st N natural numbers\n",
    "# wap sum of the cubes of 1st N Natural numbers\n",
    "# wap convert  temp Fo  to Co  vise varse\n",
    "# wap find the total and simple interest \n"
   ]
  },
  {
   "cell_type": "code",
   "execution_count": 5,
   "metadata": {},
   "outputs": [
    {
     "name": "stdout",
     "output_type": "stream",
     "text": [
      "enter square side in meter : 5\n",
      "area of squr  is  25.0  sq.m when side is  5.0  meter\n",
      "peri of squr  is  20.0  meter when side is 5.0  meter\n"
     ]
    }
   ],
   "source": [
    "#wap find area and perimeter of square\n",
    "side = float(input(\"enter square side in meter : \"))\n",
    "area = side**2\n",
    "peri = 4*side\n",
    "print(\"area of squr  is \",area,\" sq.m when side is \",side,\" meter\")\n",
    "print(\"peri of squr  is \",peri,\" meter when side is\",side,\" meter\")"
   ]
  },
  {
   "cell_type": "code",
   "execution_count": 7,
   "metadata": {},
   "outputs": [
    {
     "name": "stdout",
     "output_type": "stream",
     "text": [
      "enter N :5\n",
      "sum of cubes 1st  5  is :  225.0\n"
     ]
    }
   ],
   "source": [
    "# wap sum of the cubes of 1st N Natural numbers\n",
    "'''\n",
    "N =4\n",
    "1^3 + 2^3 +3^3+4^3 ---> result\n",
    "sum_of_cub = n^2 *(n+1)^2/4\n",
    "'''\n",
    "N = int(input(\"enter N :\"))\n",
    "sum_cub = (N*(N+1)/2)**2\n",
    "print(\"sum of cubes 1st \",N,\" is : \",sum_cub)"
   ]
  },
  {
   "cell_type": "markdown",
   "metadata": {},
   "source": [
    "# Relational Operator"
   ]
  },
  {
   "cell_type": "code",
   "execution_count": 4,
   "metadata": {},
   "outputs": [
    {
     "name": "stdout",
     "output_type": "stream",
     "text": [
      "enter int 10\n",
      "enter int 10\n",
      "10  <  10  =  False\n",
      "10  >  10  =  False\n",
      "10  <=  10  =  True\n",
      "10  >=  10  =  True\n",
      "10  ==  10  =  True\n",
      "10  !=  10  =  False\n"
     ]
    }
   ],
   "source": [
    "a = input(\"enter int \")\n",
    "a = int(a)\n",
    "b = input(\"enter int \")\n",
    "b = int(b)\n",
    "print(a,\" < \",b,\" = \",a < b)\n",
    "print(a,\" > \",b,\" = \",a > b)\n",
    "print(a,\" <= \",b,\" = \",a <=b)\n",
    "print(a,\" >= \",b,\" = \",a >= b)\n",
    "print(a,\" == \",b,\" = \",a == b)\n",
    "print(a,\" != \",b,\" = \",a != b)"
   ]
  },
  {
   "cell_type": "code",
   "execution_count": 5,
   "metadata": {},
   "outputs": [
    {
     "name": "stdout",
     "output_type": "stream",
     "text": [
      "enter int 10\n",
      "enter int 20\n",
      "10  <  20  =  True\n",
      "10  >  20  =  False\n",
      "10  <=  20  =  True\n",
      "10  >=  20  =  False\n",
      "10  ==  20  =  False\n",
      "10  !=  20  =  True\n"
     ]
    }
   ],
   "source": [
    "a = input(\"enter int \")\n",
    "a = int(a)\n",
    "b = input(\"enter int \")\n",
    "b = int(b)\n",
    "print(a,\" < \",b,\" = \",a < b)\n",
    "print(a,\" > \",b,\" = \",a > b)\n",
    "print(a,\" <= \",b,\" = \",a <=b)\n",
    "print(a,\" >= \",b,\" = \",a >= b)\n",
    "print(a,\" == \",b,\" = \",a == b)\n",
    "print(a,\" != \",b,\" = \",a != b)"
   ]
  },
  {
   "cell_type": "code",
   "execution_count": 6,
   "metadata": {},
   "outputs": [
    {
     "name": "stdout",
     "output_type": "stream",
     "text": [
      "enter int 20\n",
      "enter int 10\n",
      "20  <  10  =  False\n",
      "20  >  10  =  True\n",
      "20  <=  10  =  False\n",
      "20  >=  10  =  True\n",
      "20  ==  10  =  False\n",
      "20  !=  10  =  True\n"
     ]
    }
   ],
   "source": [
    "a = input(\"enter int \")\n",
    "a = int(a)\n",
    "b = input(\"enter int \")\n",
    "b = int(b)\n",
    "print(a,\" < \",b,\" = \",a < b)\n",
    "print(a,\" > \",b,\" = \",a > b)\n",
    "print(a,\" <= \",b,\" = \",a <=b)\n",
    "print(a,\" >= \",b,\" = \",a >= b)\n",
    "print(a,\" == \",b,\" = \",a == b)\n",
    "print(a,\" != \",b,\" = \",a != b)"
   ]
  },
  {
   "cell_type": "code",
   "execution_count": 8,
   "metadata": {},
   "outputs": [
    {
     "name": "stdout",
     "output_type": "stream",
     "text": [
      "enter n : 10\n",
      "10  is divisible by 3 :  False\n"
     ]
    }
   ],
   "source": [
    "# wap print True when given number is divisble of 3\n",
    "n = input(\"enter n : \")\n",
    "n = int(n)\n",
    "res = (n %3 == 0)\n",
    "print(n,\" is divisible by 3 : \",res)\n"
   ]
  },
  {
   "cell_type": "code",
   "execution_count": 9,
   "metadata": {},
   "outputs": [
    {
     "name": "stdout",
     "output_type": "stream",
     "text": [
      "enter your name : R Anjan\n",
      "enter age of you : 27\n",
      "Mr/ Ms . R Anjan are you eligible for casting True\n"
     ]
    }
   ],
   "source": [
    "#wap print True when your eligble for casting \n",
    "name = input(\"enter your name : \")\n",
    "age = input(\"enter age of you : \")\n",
    "age = int(age)\n",
    "res = age >= 18\n",
    "print(\"Mr/ Ms .\",name,\"are you eligible for casting\",res)\n"
   ]
  },
  {
   "cell_type": "code",
   "execution_count": 11,
   "metadata": {},
   "outputs": [
    {
     "name": "stdout",
     "output_type": "stream",
     "text": [
      "enter factorial num: 0\n",
      "0  is possible for factorial  True\n"
     ]
    }
   ],
   "source": [
    "# Wap given number is possible for factorial or not \n",
    "# 0 -->1 , 1---> 1 , \n",
    "\n",
    "n = input(\"enter factorial num: \")\n",
    "n = int(n)\n",
    "res = n>=0\n",
    "print(n,\" is possible for factorial \",res)\n"
   ]
  },
  {
   "cell_type": "markdown",
   "metadata": {},
   "source": [
    "# Assignment Operator"
   ]
  },
  {
   "cell_type": "code",
   "execution_count": 12,
   "metadata": {},
   "outputs": [
    {
     "name": "stdout",
     "output_type": "stream",
     "text": [
      "10\n",
      "10\n",
      "100\n"
     ]
    }
   ],
   "source": [
    "var = 10  # constant to variable \n",
    "b = var   # variable to variable\n",
    "c  =b * var # expression to variable\n",
    "print(var)\n",
    "print(b)\n",
    "print(c)"
   ]
  },
  {
   "cell_type": "code",
   "execution_count": 13,
   "metadata": {},
   "outputs": [
    {
     "name": "stdout",
     "output_type": "stream",
     "text": [
      "40\n"
     ]
    }
   ],
   "source": [
    "# operator then asssignment  # compound assignment \n",
    "a = 10 \n",
    "b = 30\n",
    "c = a+b # c = 40\n",
    "a = a+b # a = 40\n",
    "print(a)"
   ]
  },
  {
   "cell_type": "code",
   "execution_count": 14,
   "metadata": {},
   "outputs": [
    {
     "name": "stdout",
     "output_type": "stream",
     "text": [
      "40\n"
     ]
    }
   ],
   "source": [
    "# speed can increase \n",
    "a = 10 \n",
    "b = 30\n",
    "c = a+b # c = 40\n",
    "a += b #   a = a+b # a = 40\n",
    "print(a)"
   ]
  },
  {
   "cell_type": "code",
   "execution_count": 15,
   "metadata": {},
   "outputs": [
    {
     "name": "stdout",
     "output_type": "stream",
     "text": [
      "-20\n"
     ]
    }
   ],
   "source": [
    "a = 10 \n",
    "b = 30\n",
    "c = a-b # c = -20\n",
    "a-=b #   a = a-b # a = 20\n",
    "print(a)"
   ]
  },
  {
   "cell_type": "code",
   "execution_count": null,
   "metadata": {},
   "outputs": [],
   "source": [
    "# apply all arithmetic operators with compund assignamnt"
   ]
  },
  {
   "cell_type": "markdown",
   "metadata": {},
   "source": [
    "# Special Operator\n",
    "\n",
    "    1. membership Operator\n",
    "    \n",
    "    2. Identity Operator"
   ]
  },
  {
   "cell_type": "code",
   "execution_count": null,
   "metadata": {},
   "outputs": [],
   "source": [
    "# 1. membership Operator\n",
    "'''\n",
    "To check the data availability  in any other seqdatatypes (True / Fasle)\n",
    " \n",
    " 1. in\n",
    "        True ---> available\n",
    "        False ---> Not available\n",
    " 2. not in\n",
    "        True ---> Not available\n",
    "        False ---> available\n",
    " \n",
    "'''"
   ]
  },
  {
   "cell_type": "code",
   "execution_count": 19,
   "metadata": {},
   "outputs": [
    {
     "name": "stdout",
     "output_type": "stream",
     "text": [
      "Kumar is not avaiable in  Anjan Kumar Python AI Engineer     False\n",
      "Kumar1 is not avaiable in  Anjan Kumar Python AI Engineer     True\n"
     ]
    }
   ],
   "source": [
    "a ='Anjan Kumar Python AI Engineer'\n",
    "print('Kumar is not avaiable in ',a,\"   \",'Kumar' not in a)\n",
    "print('Kumar1 is not avaiable in ',a,\"   \",'Kumar1' not in a)"
   ]
  },
  {
   "cell_type": "code",
   "execution_count": null,
   "metadata": {},
   "outputs": [],
   "source": [
    "# Identify Operator \n",
    "'''\n",
    "which is used for to check the memory locations same or not\n",
    "\n",
    "    1. is \n",
    "        True  ---> Same \n",
    "        False ---> Differnt\n",
    "        \n",
    "    1. is not\n",
    "        Flase  ---> Same \n",
    "        True ---> Differn      \n",
    "    \n",
    "\n",
    "'''"
   ]
  },
  {
   "cell_type": "code",
   "execution_count": 20,
   "metadata": {},
   "outputs": [
    {
     "name": "stdout",
     "output_type": "stream",
     "text": [
      "140717077229600\n",
      "140717077229920\n",
      "140717077229600\n",
      "10  is  20    False\n",
      "10  is  10    True\n"
     ]
    }
   ],
   "source": [
    "a = 10\n",
    "b = 20\n",
    "c = 10\n",
    "print(id(a))\n",
    "print(id(b))\n",
    "print(id(c))\n",
    "print(a,\" is \",b,\"  \",a is b)\n",
    "print(a,\" is \",c,\"  \",a is c)"
   ]
  },
  {
   "cell_type": "code",
   "execution_count": 21,
   "metadata": {},
   "outputs": [
    {
     "name": "stdout",
     "output_type": "stream",
     "text": [
      "140717077229600\n",
      "140717077229920\n",
      "140717077229600\n",
      "10  is not  20    True\n",
      "10  is not  10    False\n"
     ]
    }
   ],
   "source": [
    "a = 10\n",
    "b = 20\n",
    "c = 10\n",
    "print(id(a))\n",
    "print(id(b))\n",
    "print(id(c))\n",
    "print(a,\" is not \",b,\"  \",a is not b)\n",
    "print(a,\" is not \",c,\"  \",a is not c)"
   ]
  },
  {
   "cell_type": "markdown",
   "metadata": {},
   "source": [
    "# Logical Operator\n",
    "\n"
   ]
  },
  {
   "cell_type": "code",
   "execution_count": 3,
   "metadata": {},
   "outputs": [
    {
     "name": "stdout",
     "output_type": "stream",
     "text": [
      "56\n",
      "[]\n",
      "0j\n"
     ]
    }
   ],
   "source": [
    "# and operator\n",
    "print( 90 and 56) # 56\n",
    "print([] and 34 ) #  []\n",
    "print(0+0j and 45)"
   ]
  },
  {
   "cell_type": "code",
   "execution_count": null,
   "metadata": {},
   "outputs": [],
   "source": [
    "# Or operator\n",
    "print(90 or 56)  #90\n",
    "print([] or 34 ) # 34\n",
    "print([] or 0)   # 0"
   ]
  },
  {
   "cell_type": "code",
   "execution_count": 4,
   "metadata": {},
   "outputs": [
    {
     "name": "stdout",
     "output_type": "stream",
     "text": [
      "False\n",
      "True\n"
     ]
    }
   ],
   "source": [
    "# not operator\n",
    "print( not 56)   # False\n",
    "print( not 0 )  # True "
   ]
  },
  {
   "cell_type": "code",
   "execution_count": 6,
   "metadata": {},
   "outputs": [
    {
     "name": "stdout",
     "output_type": "stream",
     "text": [
      "enter data : 15\n",
      "15  is divisible both 3 and 5 :  True\n"
     ]
    }
   ],
   "source": [
    "# wap find a given number is divisble of both 3 and 5\n",
    "N = input(\"enter data : \")\n",
    "N = int(N)\n",
    "print(N,\" is divisible both 3 and 5 : \", (N % 3== 0) and (N%5 ==0))"
   ]
  },
  {
   "cell_type": "code",
   "execution_count": null,
   "metadata": {},
   "outputs": [],
   "source": [
    "# Bitwise Operator\n",
    "'''\n",
    "----> Do the operation of binary bits of the data\n",
    "\n",
    "step 1 : convert input decimal data  to binaty input daata \n",
    "\n",
    "step2 : we have to do the operation on binary data\n",
    "\n",
    "step3 : Binary result convert to decimal data\n",
    "\n",
    "'''\n",
    "# Biwise and     &\n",
    "# Bitwise or     |\n",
    "# Bitwise xor    ^\n",
    "# Bitwise not    ~\n",
    "# leftshift     <<\n",
    "# right shift   >>\n",
    "\n"
   ]
  },
  {
   "cell_type": "code",
   "execution_count": 7,
   "metadata": {},
   "outputs": [
    {
     "name": "stdout",
     "output_type": "stream",
     "text": [
      "4\n",
      "0\n"
     ]
    }
   ],
   "source": [
    "# bitwise and &\n",
    "print(5 & 6)\n",
    "print(5 & 10)"
   ]
  },
  {
   "cell_type": "code",
   "execution_count": 8,
   "metadata": {},
   "outputs": [
    {
     "name": "stdout",
     "output_type": "stream",
     "text": [
      "7\n",
      "15\n"
     ]
    }
   ],
   "source": [
    "# bitwise or |\n",
    "print(5 | 6)\n",
    "print(5 | 10)"
   ]
  },
  {
   "cell_type": "code",
   "execution_count": 9,
   "metadata": {},
   "outputs": [
    {
     "name": "stdout",
     "output_type": "stream",
     "text": [
      "3\n",
      "15\n"
     ]
    }
   ],
   "source": [
    "# bitwise xor  \n",
    "print(5 ^ 6)\n",
    "print(5 ^ 10)"
   ]
  },
  {
   "cell_type": "code",
   "execution_count": null,
   "metadata": {},
   "outputs": [],
   "source": [
    "# wap given numbe is even number or not using bitwise operator"
   ]
  },
  {
   "cell_type": "code",
   "execution_count": null,
   "metadata": {},
   "outputs": [],
   "source": [
    "# wap given numbe is odd number or not using bitwise operator"
   ]
  },
  {
   "cell_type": "code",
   "execution_count": 1,
   "metadata": {},
   "outputs": [
    {
     "name": "stdout",
     "output_type": "stream",
     "text": [
      "-11\n"
     ]
    }
   ],
   "source": [
    "# bitwise not   ~\n",
    "a = 10 \n",
    "print(~a)"
   ]
  },
  {
   "cell_type": "code",
   "execution_count": 3,
   "metadata": {},
   "outputs": [
    {
     "name": "stdout",
     "output_type": "stream",
     "text": [
      "-6\n"
     ]
    }
   ],
   "source": [
    "# bitwise not   ~\n",
    "a = 5 \n",
    "print(~a)"
   ]
  },
  {
   "cell_type": "code",
   "execution_count": 2,
   "metadata": {},
   "outputs": [
    {
     "name": "stdout",
     "output_type": "stream",
     "text": [
      "-124\n"
     ]
    }
   ],
   "source": [
    "a =123\n",
    "print(~a)"
   ]
  },
  {
   "cell_type": "code",
   "execution_count": 5,
   "metadata": {},
   "outputs": [
    {
     "name": "stdout",
     "output_type": "stream",
     "text": [
      "4\n"
     ]
    }
   ],
   "source": [
    "a =-5\n",
    "print(~a)"
   ]
  },
  {
   "cell_type": "code",
   "execution_count": 8,
   "metadata": {},
   "outputs": [
    {
     "name": "stdout",
     "output_type": "stream",
     "text": [
      "enter any num :10\n",
      "enter no of bit to shift leftside 2\n",
      "10  <<  2  =  40\n"
     ]
    }
   ],
   "source": [
    "# bitwise leftshift  <<\n",
    "num = int(input(\"enter any num :\"))\n",
    "bit = int(input(\"enter no of bit to shift leftside \"))\n",
    "print(num, \" << \",bit , \" = \",num << bit)"
   ]
  },
  {
   "cell_type": "code",
   "execution_count": 10,
   "metadata": {},
   "outputs": [
    {
     "name": "stdout",
     "output_type": "stream",
     "text": [
      "enter any num :23\n",
      "enter no of bit to shift right side 1\n",
      "23  >>  1  =  11\n"
     ]
    }
   ],
   "source": [
    "# bitwise rightshift   >>\n",
    "num = int(input(\"enter any num :\"))\n",
    "bit = int(input(\"enter no of bit to shift right side \"))\n",
    "print(num, \" >> \",bit , \" = \",num >> bit)"
   ]
  },
  {
   "cell_type": "code",
   "execution_count": null,
   "metadata": {},
   "outputs": [],
   "source": [
    "# check 5th bit is 0  or 1 of any number "
   ]
  },
  {
   "cell_type": "code",
   "execution_count": 15,
   "metadata": {},
   "outputs": [
    {
     "name": "stdout",
     "output_type": "stream",
     "text": [
      "enter any num to toggle 5th bit  88\n",
      "binary  88  =  0b1011000\n",
      "binary  120   =  0b1111000\n"
     ]
    }
   ],
   "source": [
    "# toggle  5th bit of any number \n",
    "num = input('enter any num to toggle 5th bit  ')\n",
    "num = int(num)\n",
    "print(\"binary \",num,\" = \",bin(num))\n",
    "num=(num ^ (1<<5))\n",
    "print(\"binary \",num,\"  = \",bin(num))"
   ]
  },
  {
   "cell_type": "code",
   "execution_count": null,
   "metadata": {},
   "outputs": [],
   "source": [
    "# set  5th bit of any number "
   ]
  },
  {
   "cell_type": "code",
   "execution_count": null,
   "metadata": {},
   "outputs": [],
   "source": [
    "# clear   5th bit of any number "
   ]
  }
 ],
 "metadata": {
  "kernelspec": {
   "display_name": "Python 3",
   "language": "python",
   "name": "python3"
  },
  "language_info": {
   "codemirror_mode": {
    "name": "ipython",
    "version": 3
   },
   "file_extension": ".py",
   "mimetype": "text/x-python",
   "name": "python",
   "nbconvert_exporter": "python",
   "pygments_lexer": "ipython3",
   "version": "3.7.0"
  }
 },
 "nbformat": 4,
 "nbformat_minor": 2
}
