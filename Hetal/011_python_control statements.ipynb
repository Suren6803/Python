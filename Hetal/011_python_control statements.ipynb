{
 "cells": [
  {
   "cell_type": "markdown",
   "metadata": {},
   "source": [
    "# simple if"
   ]
  },
  {
   "cell_type": "code",
   "execution_count": 2,
   "metadata": {},
   "outputs": [
    {
     "name": "stdout",
     "output_type": "stream",
     "text": [
      "enter N : 78\n",
      "78  square is  6084\n"
     ]
    }
   ],
   "source": [
    "#  wap find square of a number when given number is even\n",
    "n = int(input(\"enter N : \"))\n",
    "if(n%2 == 0):\n",
    "    sqr = n ** 2\n",
    "    print(n,\" square is \",sqr)"
   ]
  },
  {
   "cell_type": "markdown",
   "metadata": {},
   "source": [
    "# if else"
   ]
  },
  {
   "cell_type": "code",
   "execution_count": 5,
   "metadata": {},
   "outputs": [
    {
     "name": "stdout",
     "output_type": "stream",
     "text": [
      "enter N : 88\n",
      "88  square is  7744\n"
     ]
    }
   ],
   "source": [
    "#  wap find square of a number when given number is even other wise \n",
    "# find squareroot of a number \n",
    "n = int(input(\"enter N : \"))\n",
    "if(n%2 == 0):\n",
    "    sqr = n ** 2\n",
    "    print(n,\" square is \",sqr)\n",
    "else:\n",
    "    sqrt = n ** 0.5\n",
    "    print(n,\" sqaure root is \",sqrt)"
   ]
  },
  {
   "cell_type": "markdown",
   "metadata": {},
   "source": [
    "# nested if "
   ]
  },
  {
   "cell_type": "code",
   "execution_count": 6,
   "metadata": {},
   "outputs": [
    {
     "name": "stdout",
     "output_type": "stream",
     "text": [
      "enter a : 10\n",
      "enter b : 45\n",
      "enter c : 20\n",
      "big =  45\n"
     ]
    }
   ],
   "source": [
    "# find biggest number from 3 numbers \n",
    "a = int(input(\"enter a : \"))\n",
    "b = int(input(\"enter b : \"))\n",
    "c = int(input(\"enter c : \"))\n",
    "if(a > b):\n",
    "    big =a\n",
    "    if(big < c):\n",
    "        big = c\n",
    "else:\n",
    "    big = b\n",
    "    if(big < c):\n",
    "        big =c\n",
    "print(\"big = \",big)"
   ]
  },
  {
   "cell_type": "markdown",
   "metadata": {},
   "source": [
    "# elif ladder"
   ]
  },
  {
   "cell_type": "code",
   "execution_count": null,
   "metadata": {},
   "outputs": [],
   "source": [
    "'''\n",
    "if(cond1):\n",
    "    task1\n",
    "elif(cond2):\n",
    "    task2\n",
    "elif(cond3):\n",
    "    task3\n",
    "else:\n",
    "    taskd\n",
    "'''"
   ]
  },
  {
   "cell_type": "code",
   "execution_count": 10,
   "metadata": {
    "scrolled": true
   },
   "outputs": [
    {
     "name": "stdout",
     "output_type": "stream",
     "text": [
      "each subject max mark is 100 \n",
      "enter s1 89\n",
      "enter s2 99\n",
      "enter s3 100\n",
      "enter s4 89\n",
      "enter s5 95\n",
      "enter s6 96\n",
      "A Grade with distinction\n"
     ]
    }
   ],
   "source": [
    "# grading system for student mark\n",
    "print(\"each subject max mark is 100 \")\n",
    "s1 = int(input(\"enter s1 \"))\n",
    "s2 = int(input(\"enter s2 \"))\n",
    "s3 = int(input(\"enter s3 \"))\n",
    "s4 = int(input(\"enter s4 \"))\n",
    "s5 = int(input(\"enter s5 \"))\n",
    "s6 = int(input(\"enter s6 \"))\n",
    "total = s1+s2+s3+s4+s5+s6\n",
    "avg =float(total)/ 600\n",
    "per = avg*100\n",
    "if(per >= 70):\n",
    "    print(\"A Grade with distinction\")\n",
    "elif( per >= 60):\n",
    "    print(\" A  Grade\")\n",
    "elif( per >= 50):\n",
    "    print(\"B Grade\")\n",
    "elif( per >= 40):\n",
    "    print(\"C Grade\")\n",
    "else:\n",
    "    print(\"Failed\")"
   ]
  },
  {
   "cell_type": "markdown",
   "metadata": {},
   "source": [
    "# while with else"
   ]
  },
  {
   "cell_type": "code",
   "execution_count": 3,
   "metadata": {},
   "outputs": [
    {
     "name": "stdout",
     "output_type": "stream",
     "text": [
      "enter N : 5\n",
      "************************\n",
      "Name : anjan kumar\n",
      "Area : Artificial Intelligence\n",
      "Salary : 20 Lac Rs/-  per annam\n",
      "************************\n",
      "Name : anjan kumar\n",
      "Area : Artificial Intelligence\n",
      "Salary : 20 Lac Rs/-  per annam\n",
      "************************\n",
      "Name : anjan kumar\n",
      "Area : Artificial Intelligence\n",
      "Salary : 20 Lac Rs/-  per annam\n",
      "************************\n",
      "Name : anjan kumar\n",
      "Area : Artificial Intelligence\n",
      "Salary : 20 Lac Rs/-  per annam\n",
      "************************\n",
      "Name : anjan kumar\n",
      "Area : Artificial Intelligence\n",
      "Salary : 20 Lac Rs/-  per annam\n"
     ]
    }
   ],
   "source": [
    "# wap print your details n times \n",
    "n = int(input(\"enter N : \"))\n",
    "i =1\n",
    "while(i <= n):\n",
    "    print(\"************************\")\n",
    "    print(\"Name : anjan kumar\")\n",
    "    print(\"Area : Artificial Intelligence\")\n",
    "    print(\"Salary : 20 Lac Rs/-  per annam\")\n",
    "    i= i+1"
   ]
  },
  {
   "cell_type": "code",
   "execution_count": 4,
   "metadata": {},
   "outputs": [
    {
     "name": "stdout",
     "output_type": "stream",
     "text": [
      "enter N : 8\n",
      "************************\n",
      "Name : anjan kumar\n",
      "Area : Artificial Intelligence\n",
      "Salary : 20 Lac Rs/-  per annam\n",
      "************************\n",
      "Name : anjan kumar\n",
      "Area : Artificial Intelligence\n",
      "Salary : 20 Lac Rs/-  per annam\n",
      "************************\n",
      "Name : anjan kumar\n",
      "Area : Artificial Intelligence\n",
      "Salary : 20 Lac Rs/-  per annam\n",
      "************************\n",
      "Name : anjan kumar\n",
      "Area : Artificial Intelligence\n",
      "Salary : 20 Lac Rs/-  per annam\n",
      "************************\n",
      "Name : anjan kumar\n",
      "Area : Artificial Intelligence\n",
      "Salary : 20 Lac Rs/-  per annam\n",
      "************************\n",
      "Name : anjan kumar\n",
      "Area : Artificial Intelligence\n",
      "Salary : 20 Lac Rs/-  per annam\n",
      "************************\n",
      "Name : anjan kumar\n",
      "Area : Artificial Intelligence\n",
      "Salary : 20 Lac Rs/-  per annam\n",
      "************************\n",
      "Name : anjan kumar\n",
      "Area : Artificial Intelligence\n",
      "Salary : 20 Lac Rs/-  per annam\n",
      "************************\n",
      "age : 27 years \n",
      "mail : xyz@gmail.com\n"
     ]
    }
   ],
   "source": [
    "# wap print your details n times \n",
    "n = int(input(\"enter N : \"))\n",
    "i =1\n",
    "while(i <= n):\n",
    "    print(\"************************\")\n",
    "    print(\"Name : anjan kumar\")\n",
    "    print(\"Area : Artificial Intelligence\")\n",
    "    print(\"Salary : 20 Lac Rs/-  per annam\")\n",
    "    i= i+1\n",
    "else:\n",
    "    print(\"************************\")\n",
    "    print(\"age : 27 years \")\n",
    "    print(\"mail : xyz@gmail.com\")"
   ]
  },
  {
   "cell_type": "code",
   "execution_count": 8,
   "metadata": {},
   "outputs": [
    {
     "name": "stdout",
     "output_type": "stream",
     "text": [
      "enter n value : -8\n",
      "Factorial is not possible \n"
     ]
    }
   ],
   "source": [
    "# factorial of any number\n",
    "# -ve ---> not possible \n",
    "# 0 or 1 ----> 1\n",
    "# n! ----> n*n-1 * n-2 * n-3 --------2*1\n",
    "n = int(input(\"enter n value : \"))\n",
    "if(n <0 ):\n",
    "    print(\"Factorial is not possible \")\n",
    "elif(n == 0 or n ==1):\n",
    "    print(\"fact of \",n,\" is 1 \")\n",
    "else:\n",
    "    fact =1\n",
    "    t  = n\n",
    "    while(t>=1):\n",
    "        fact = fact*t\n",
    "        t=t-1\n",
    "    else:\n",
    "        print(\"fact of \",n,\" is \",fact)"
   ]
  },
  {
   "cell_type": "code",
   "execution_count": 9,
   "metadata": {},
   "outputs": [
    {
     "name": "stdout",
     "output_type": "stream",
     "text": [
      "enter n : 8\n",
      "fibonic series is \n",
      "0  1  1  2  3  5  8  13  "
     ]
    }
   ],
   "source": [
    "# wap generate  n no of fibonic series element\n",
    "# 5 ---> 0  1  1  2  3\n",
    "# 7 ---> 0  1  1  2  3  5  8\n",
    "n = int(input(\"enter n : \"))\n",
    "a =0\n",
    "b =1\n",
    "print(\"fibonic series is \")\n",
    "if(n> 0):\n",
    "    while(n):\n",
    "        print(a ,end = \"  \")\n",
    "        c= a+b\n",
    "        a=b\n",
    "        b=c\n",
    "        n=n-1\n",
    "else:\n",
    "    print(\"Wrong input you entered \")"
   ]
  },
  {
   "cell_type": "code",
   "execution_count": null,
   "metadata": {},
   "outputs": [],
   "source": [
    "# wap find sum of n natural numbers "
   ]
  },
  {
   "cell_type": "code",
   "execution_count": null,
   "metadata": {},
   "outputs": [],
   "source": [
    "# wap find no of factors any number"
   ]
  },
  {
   "cell_type": "code",
   "execution_count": null,
   "metadata": {},
   "outputs": [],
   "source": [
    "# wap sum of factor of any number "
   ]
  },
  {
   "cell_type": "code",
   "execution_count": null,
   "metadata": {},
   "outputs": [],
   "source": [
    "# wap find given number is prime number or not"
   ]
  },
  {
   "cell_type": "code",
   "execution_count": null,
   "metadata": {},
   "outputs": [],
   "source": [
    "# wap find no of digits in  a number \n",
    "# 1256 ---> 4\n"
   ]
  },
  {
   "cell_type": "code",
   "execution_count": null,
   "metadata": {},
   "outputs": [],
   "source": [
    "# wap sum of digits of any number\n",
    "# 145 ---> 10"
   ]
  },
  {
   "cell_type": "code",
   "execution_count": null,
   "metadata": {},
   "outputs": [],
   "source": [
    "# wap find reverse of number \n",
    "# 348 ---> 843"
   ]
  },
  {
   "cell_type": "code",
   "execution_count": null,
   "metadata": {},
   "outputs": [],
   "source": [
    "# wap given number is palidrom or not\n",
    "# 121 ---> 121 ---> palidrom"
   ]
  },
  {
   "cell_type": "markdown",
   "metadata": {},
   "source": [
    "# for loop"
   ]
  },
  {
   "cell_type": "code",
   "execution_count": 2,
   "metadata": {},
   "outputs": [
    {
     "name": "stdout",
     "output_type": "stream",
     "text": [
      "name = anjan\n",
      "name = anjan\n",
      "name = anjan\n",
      "name = anjan\n",
      "name = anjan\n",
      "name = anjan\n",
      "name = anjan\n",
      "name = anjan\n",
      "name = anjan\n",
      "name = anjan\n"
     ]
    }
   ],
   "source": [
    "#wap print your name 10 times \n",
    "for i in range(10):\n",
    "    print(\"name = anjan\")"
   ]
  },
  {
   "cell_type": "code",
   "execution_count": 4,
   "metadata": {},
   "outputs": [
    {
     "name": "stdout",
     "output_type": "stream",
     "text": [
      "name = anjna\n",
      "name = anjna\n",
      "name = anjna\n",
      "name = anjna\n",
      "name = anjna\n",
      "name = anjna\n",
      "name = anjna\n",
      "name = anjna\n",
      "name = anjna\n",
      "name = anjna\n",
      "else block\n"
     ]
    }
   ],
   "source": [
    "# 10 times and else \n",
    "\n",
    "for var in range(10):\n",
    "    print(\"name = anjna\")\n",
    "else:\n",
    "    print (\"else block\")"
   ]
  },
  {
   "cell_type": "code",
   "execution_count": null,
   "metadata": {},
   "outputs": [],
   "source": [
    "# wap find multiplication table "
   ]
  },
  {
   "cell_type": "code",
   "execution_count": 4,
   "metadata": {},
   "outputs": [
    {
     "name": "stdout",
     "output_type": "stream",
     "text": [
      "enter n1 : 1\n",
      "enter n2 : 100\n",
      "2  is prime \n",
      "3  is prime \n",
      "5  is prime \n",
      "7  is prime \n",
      "11  is prime \n",
      "13  is prime \n",
      "17  is prime \n",
      "19  is prime \n",
      "23  is prime \n",
      "29  is prime \n",
      "31  is prime \n",
      "37  is prime \n",
      "41  is prime \n",
      "43  is prime \n",
      "47  is prime \n",
      "53  is prime \n",
      "59  is prime \n",
      "61  is prime \n",
      "67  is prime \n",
      "71  is prime \n",
      "73  is prime \n",
      "79  is prime \n",
      "83  is prime \n",
      "89  is prime \n",
      "97  is prime \n",
      "sum of primes :  1070\n",
      "no of prime  :  25\n"
     ]
    }
   ],
   "source": [
    "# nested loops \n",
    "#find the no of prime number in between 10 to 100\n",
    "c=0\n",
    "sum=10\n",
    "n1 = int(input(\"enter n1 : \"))\n",
    "n2 = int(input(\"enter n2 : \"))\n",
    "\n",
    "for n in range(n1,n2+1):\n",
    "    if(n <=1):\n",
    "        continue\n",
    "    for i  in range(2,n):\n",
    "        if(n % i ==0 ):\n",
    "            break\n",
    "    else :\n",
    "        print(n,\" is prime \")\n",
    "        c =c+1\n",
    "        sum =sum+n\n",
    "print(\"sum of primes : \",sum)\n",
    "print(\"no of prime  : \",c)"
   ]
  },
  {
   "cell_type": "code",
   "execution_count": 9,
   "metadata": {},
   "outputs": [],
   "source": [
    "for i in range(10):\n",
    "       pass "
   ]
  },
  {
   "cell_type": "code",
   "execution_count": null,
   "metadata": {},
   "outputs": [],
   "source": [
    "* * * *\n",
    "* * * *\n",
    "* * * * \n",
    "* * * *"
   ]
  },
  {
   "cell_type": "code",
   "execution_count": null,
   "metadata": {},
   "outputs": [],
   "source": [
    "* \n",
    "* * \n",
    "* * *\n",
    "* * * *\n",
    "* * * * *"
   ]
  },
  {
   "cell_type": "code",
   "execution_count": null,
   "metadata": {},
   "outputs": [],
   "source": [
    "            *\n",
    "         *  *  *\n",
    "      *  *  *  *  *\n",
    "   *  *  *  *  *  *  *"
   ]
  }
 ],
 "metadata": {
  "kernelspec": {
   "display_name": "Python 3",
   "language": "python",
   "name": "python3"
  },
  "language_info": {
   "codemirror_mode": {
    "name": "ipython",
    "version": 3
   },
   "file_extension": ".py",
   "mimetype": "text/x-python",
   "name": "python",
   "nbconvert_exporter": "python",
   "pygments_lexer": "ipython3",
   "version": "3.7.0"
  }
 },
 "nbformat": 4,
 "nbformat_minor": 2
}
