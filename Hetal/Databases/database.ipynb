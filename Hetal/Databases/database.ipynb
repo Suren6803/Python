{
 "cells": [
  {
   "cell_type": "code",
   "execution_count": 1,
   "metadata": {},
   "outputs": [],
   "source": [
    "import sqlite3 as sql\n"
   ]
  },
  {
   "cell_type": "code",
   "execution_count": null,
   "metadata": {},
   "outputs": [],
   "source": [
    "sqlite3 :-\n",
    "    ----\n",
    "    1. connect ---> to connect any database / create a database\n",
    "    2. cursor ----> to handle the database\n",
    "    3. execute ---> to run all sql quaries \n",
    "    4. fetchall ---> statatus of execute \n",
    "    5. close ----> close the database\n",
    "    "
   ]
  },
  {
   "cell_type": "code",
   "execution_count": 6,
   "metadata": {},
   "outputs": [
    {
     "name": "stdout",
     "output_type": "stream",
     "text": [
      "enter database to conncet : new.db\n",
      "enter n of tables to create : 3\n",
      "enter table : std\n",
      "enter table : std2\n",
      "enter table : std3\n"
     ]
    }
   ],
   "source": [
    "# creating multiple tables in new database or old database\n",
    "\n",
    "import sqlite3 as sql\n",
    "database = input(\"enter database to conncet : \")\n",
    "db_con = sql.connect(database)\n",
    "cur = db_con.cursor()\n",
    "n = int(input(\"enter n of tables to create : \"))\n",
    "for i in range(n):\n",
    "    tab = input(\"enter table : \")\n",
    "    cur.execute(\"Create table \"+tab+\"(s_no,name)\")\n",
    "db_con.close()"
   ]
  },
  {
   "cell_type": "code",
   "execution_count": 7,
   "metadata": {},
   "outputs": [],
   "source": [
    "# create the conncetion and cursor \n",
    "import sqlite3 as sql \n",
    "\n",
    "# to create a database / open a database\n",
    "\n",
    "def connct_database(database_name):\n",
    "    con = sql.connect(database_name)\n",
    "    cur = con.cursor()\n",
    "    return cur\n"
   ]
  },
  {
   "cell_type": "code",
   "execution_count": 8,
   "metadata": {},
   "outputs": [
    {
     "name": "stdout",
     "output_type": "stream",
     "text": [
      "enter no of databases to conncet : 2\n",
      "enter database name college.db\n",
      "enter database name family.db\n"
     ]
    }
   ],
   "source": [
    "# create a 2 database college, family\n",
    "N = int(input(\"enter no of databases to conncet : \"))\n",
    "data_base =[]\n",
    "for i in range(2):\n",
    "    database = input(\"enter database name \")\n",
    "    data_base.append(connct_database(database))"
   ]
  },
  {
   "cell_type": "code",
   "execution_count": 9,
   "metadata": {},
   "outputs": [],
   "source": [
    "# create tables \n",
    "def create_table(cur,table):\n",
    "    quary = '''create table %s(s_no,name)'''%table\n",
    "    cur.execute(quary)"
   ]
  },
  {
   "cell_type": "code",
   "execution_count": 10,
   "metadata": {},
   "outputs": [
    {
     "name": "stdout",
     "output_type": "stream",
     "text": [
      "enter no of table 2\n",
      "enter table name : std\n",
      "enter table name : management\n"
     ]
    }
   ],
   "source": [
    "# create 2 table with 2 fileds s_n0,name\n",
    "N = int(input(\"enter no of table \"))\n",
    "for i  in range(N):\n",
    "    table = input(\"enter table name : \")\n",
    "    create_table( data_base[0],table)"
   ]
  },
  {
   "cell_type": "code",
   "execution_count": 14,
   "metadata": {},
   "outputs": [],
   "source": [
    "# inserting the data to table \n",
    "def insert_data(cur,table,s_no,name):\n",
    "    quary ='''insert into %s values(%s,%s)'''%(table,s_no,name)\n",
    "    cur.execute(quary)"
   ]
  },
  {
   "cell_type": "code",
   "execution_count": 15,
   "metadata": {},
   "outputs": [
    {
     "name": "stdout",
     "output_type": "stream",
     "text": [
      "enter no of records 2\n",
      "enter table name : 'std'\n",
      "enter s_no : 12\n",
      "enter name : 'anjan'\n",
      "enter table name : std\n",
      "enter s_no : 13\n",
      "enter name : 'amma'\n"
     ]
    }
   ],
   "source": [
    "# create 2 table with 2 fileds s_n0,name\n",
    "N = int(input(\"enter no of records \"))\n",
    "for i  in range(N):\n",
    "    table = input(\"enter table name : \")\n",
    "    s_no = input(\"enter s_no : \")\n",
    "    name = input(\"enter name : \")\n",
    "    insert_data(data_base[0],table,s_no,name)"
   ]
  },
  {
   "cell_type": "code",
   "execution_count": 17,
   "metadata": {},
   "outputs": [
    {
     "data": {
      "text/plain": [
       "<sqlite3.Cursor at 0x42188d8f0>"
      ]
     },
     "execution_count": 17,
     "metadata": {},
     "output_type": "execute_result"
    }
   ],
   "source": [
    "data_base[0].execute(\"select * from std\")"
   ]
  },
  {
   "cell_type": "code",
   "execution_count": 20,
   "metadata": {},
   "outputs": [
    {
     "name": "stdout",
     "output_type": "stream",
     "text": [
      "(12, 'anjan')\n",
      "(13, 'amma')\n"
     ]
    }
   ],
   "source": [
    "for record in data_base[0].fetchall():\n",
    "    print(record)"
   ]
  },
  {
   "cell_type": "code",
   "execution_count": null,
   "metadata": {},
   "outputs": [],
   "source": []
  }
 ],
 "metadata": {
  "kernelspec": {
   "display_name": "Python 3",
   "language": "python",
   "name": "python3"
  },
  "language_info": {
   "codemirror_mode": {
    "name": "ipython",
    "version": 3
   },
   "file_extension": ".py",
   "mimetype": "text/x-python",
   "name": "python",
   "nbconvert_exporter": "python",
   "pygments_lexer": "ipython3",
   "version": "3.7.0"
  }
 },
 "nbformat": 4,
 "nbformat_minor": 2
}
