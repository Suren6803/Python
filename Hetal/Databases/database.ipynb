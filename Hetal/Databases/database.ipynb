{
 "cells": [
  {
   "cell_type": "code",
   "execution_count": 1,
   "metadata": {},
   "outputs": [],
   "source": [
    "import sqlite3 as sql\n"
   ]
  },
  {
   "cell_type": "code",
   "execution_count": null,
   "metadata": {},
   "outputs": [],
   "source": [
    "sqlite3 :-\n",
    "    ----\n",
    "    1. connect ---> to connect any database / create a database\n",
    "    2. cursor ----> to handle the database\n",
    "    3. execute ---> to run all sql quaries \n",
    "    4. fetchall ---> statatus of execute \n",
    "    5. close ----> close the database\n",
    "    "
   ]
  },
  {
   "cell_type": "code",
   "execution_count": 6,
   "metadata": {},
   "outputs": [
    {
     "name": "stdout",
     "output_type": "stream",
     "text": [
      "enter database to conncet : new.db\n",
      "enter n of tables to create : 3\n",
      "enter table : std\n",
      "enter table : std2\n",
      "enter table : std3\n"
     ]
    }
   ],
   "source": [
    "# creating multiple tables in new database or old database\n",
    "\n",
    "import sqlite3 as sql\n",
    "database = input(\"enter database to conncet : \")\n",
    "db_con = sql.connect(database)\n",
    "cur = db_con.cursor()\n",
    "n = int(input(\"enter n of tables to create : \"))\n",
    "for i in range(n):\n",
    "    tab = input(\"enter table : \")\n",
    "    cur.execute(\"Create table \"+tab+\"(s_no,name)\")\n",
    "db_con.close()"
   ]
  }
 ],
 "metadata": {
  "kernelspec": {
   "display_name": "Python 3",
   "language": "python",
   "name": "python3"
  },
  "language_info": {
   "codemirror_mode": {
    "name": "ipython",
    "version": 3
   },
   "file_extension": ".py",
   "mimetype": "text/x-python",
   "name": "python",
   "nbconvert_exporter": "python",
   "pygments_lexer": "ipython3",
   "version": "3.7.0"
  }
 },
 "nbformat": 4,
 "nbformat_minor": 2
}
