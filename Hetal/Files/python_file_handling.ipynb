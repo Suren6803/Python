{
 "cells": [
  {
   "cell_type": "code",
   "execution_count": 1,
   "metadata": {},
   "outputs": [
    {
     "data": {
      "text/plain": [
       "<_io.TextIOWrapper name='sample.txt' mode='w' encoding='cp1252'>"
      ]
     },
     "execution_count": 1,
     "metadata": {},
     "output_type": "execute_result"
    }
   ],
   "source": [
    "\n",
    "# fileis not existed then create the file \n",
    "open('sample.txt','w')"
   ]
  },
  {
   "cell_type": "code",
   "execution_count": 3,
   "metadata": {},
   "outputs": [
    {
     "data": {
      "text/plain": [
       "<_io.TextIOWrapper name='sample.txt' mode='w' encoding='cp1252'>"
      ]
     },
     "execution_count": 3,
     "metadata": {},
     "output_type": "execute_result"
    }
   ],
   "source": [
    "# file is existed with some data then file opened and data \n",
    "# can lost\n",
    "open('sample.txt','w')"
   ]
  },
  {
   "cell_type": "code",
   "execution_count": 4,
   "metadata": {},
   "outputs": [
    {
     "ename": "UnsupportedOperation",
     "evalue": "not readable",
     "output_type": "error",
     "traceback": [
      "\u001b[1;31m---------------------------------------------------------------------------\u001b[0m",
      "\u001b[1;31mUnsupportedOperation\u001b[0m                      Traceback (most recent call last)",
      "\u001b[1;32m<ipython-input-4-b6e65113f2b4>\u001b[0m in \u001b[0;36m<module>\u001b[1;34m()\u001b[0m\n\u001b[0;32m      1\u001b[0m \u001b[0mfo\u001b[0m \u001b[1;33m=\u001b[0m \u001b[0mopen\u001b[0m\u001b[1;33m(\u001b[0m\u001b[1;34m\"sample.txt\"\u001b[0m\u001b[1;33m,\u001b[0m\u001b[1;34m'w'\u001b[0m\u001b[1;33m)\u001b[0m\u001b[1;33m\u001b[0m\u001b[0m\n\u001b[1;32m----> 2\u001b[1;33m \u001b[0mfo\u001b[0m\u001b[1;33m.\u001b[0m\u001b[0mread\u001b[0m\u001b[1;33m(\u001b[0m\u001b[1;33m)\u001b[0m\u001b[1;33m\u001b[0m\u001b[0m\n\u001b[0m\u001b[0;32m      3\u001b[0m \u001b[0mfo\u001b[0m\u001b[1;33m.\u001b[0m\u001b[0mclose\u001b[0m\u001b[1;33m(\u001b[0m\u001b[1;33m)\u001b[0m\u001b[1;33m\u001b[0m\u001b[0m\n",
      "\u001b[1;31mUnsupportedOperation\u001b[0m: not readable"
     ]
    }
   ],
   "source": [
    "# its for write only \n",
    "fo = open(\"sample.txt\",'w')\n",
    "fo.read()\n",
    "fo.close()"
   ]
  },
  {
   "cell_type": "code",
   "execution_count": 8,
   "metadata": {},
   "outputs": [
    {
     "name": "stdout",
     "output_type": "stream",
     "text": [
      "0\n"
     ]
    }
   ],
   "source": [
    "# its for write and read\n",
    "fo = open(\"sample1.txt\",'w+')\n",
    "print(fo.tell())\n",
    "fo.read()\n",
    "fo.close()"
   ]
  },
  {
   "cell_type": "code",
   "execution_count": null,
   "metadata": {},
   "outputs": [],
   "source": [
    "# seek(directtion , file position\n",
    "seek(10 , 0 ) # from 1st to 10th position we are seeking\n",
    "# 0  ---> start of the file\n",
    "# 1 ----> current \n",
    "# 2 -----> end of the \n",
    "seek(-5,1)#  from cuurent location to 5 character backword\n",
    "seek(5,1) # from cuurent location to 5 character forward\n",
    "\n",
    "seek(-10,2 )# from end of the to to word 10 character backword"
   ]
  },
  {
   "cell_type": "code",
   "execution_count": 9,
   "metadata": {},
   "outputs": [
    {
     "name": "stdout",
     "output_type": "stream",
     "text": [
      "start location :  0\n",
      "enter a data : anjan kumar python and AI trainer \n",
      "after write the location :  34\n",
      "after set the location :  0\n",
      "data :  anjan kumar python and AI trainer \n",
      "after read the location :  34\n"
     ]
    }
   ],
   "source": [
    "# create new file  for details \n",
    "fo = open(\"details.txt\",\"w+\")\n",
    "print(\"start location : \",fo.tell())\n",
    "data = input(\"enter a data : \")\n",
    "fo.write(data)\n",
    "print(\"after write the location : \",fo.tell())\n",
    "fo.seek(0,0) # seeting to start\n",
    "print(\"after set the location : \",fo.tell())\n",
    "d = fo.read()\n",
    "print(\"data : \",d)\n",
    "print(\"after read the location : \",fo.tell())\n",
    "fo.close()"
   ]
  },
  {
   "cell_type": "code",
   "execution_count": 1,
   "metadata": {},
   "outputs": [
    {
     "data": {
      "text/plain": [
       "<_io.TextIOWrapper name='details.txt' mode='a' encoding='cp1252'>"
      ]
     },
     "execution_count": 1,
     "metadata": {},
     "output_type": "execute_result"
    }
   ],
   "source": [
    "# appebd only ---< file is already existed then open and data is safe\n",
    "open(\"details.txt\",'a')"
   ]
  },
  {
   "cell_type": "code",
   "execution_count": 3,
   "metadata": {},
   "outputs": [
    {
     "data": {
      "text/plain": [
       "<_io.TextIOWrapper name='details1.txt' mode='a' encoding='cp1252'>"
      ]
     },
     "execution_count": 3,
     "metadata": {},
     "output_type": "execute_result"
    }
   ],
   "source": [
    "# appebd only ---< file is not existed then create and open \n",
    "open(\"details1.txt\",'a')"
   ]
  },
  {
   "cell_type": "code",
   "execution_count": 4,
   "metadata": {},
   "outputs": [
    {
     "ename": "UnsupportedOperation",
     "evalue": "not readable",
     "output_type": "error",
     "traceback": [
      "\u001b[1;31m---------------------------------------------------------------------------\u001b[0m",
      "\u001b[1;31mUnsupportedOperation\u001b[0m                      Traceback (most recent call last)",
      "\u001b[1;32m<ipython-input-4-0af0f5c84a8d>\u001b[0m in \u001b[0;36m<module>\u001b[1;34m()\u001b[0m\n\u001b[0;32m      1\u001b[0m \u001b[0mfo\u001b[0m \u001b[1;33m=\u001b[0m \u001b[0mopen\u001b[0m\u001b[1;33m(\u001b[0m\u001b[1;34m\"details.txt\"\u001b[0m\u001b[1;33m,\u001b[0m\u001b[1;34m'a'\u001b[0m\u001b[1;33m)\u001b[0m\u001b[1;33m\u001b[0m\u001b[0m\n\u001b[1;32m----> 2\u001b[1;33m \u001b[0mfo\u001b[0m\u001b[1;33m.\u001b[0m\u001b[0mread\u001b[0m\u001b[1;33m(\u001b[0m\u001b[1;33m)\u001b[0m\u001b[1;33m\u001b[0m\u001b[0m\n\u001b[0m\u001b[0;32m      3\u001b[0m \u001b[0mfo\u001b[0m\u001b[1;33m.\u001b[0m\u001b[0mclose\u001b[0m\u001b[1;33m(\u001b[0m\u001b[1;33m)\u001b[0m\u001b[1;33m\u001b[0m\u001b[0m\n",
      "\u001b[1;31mUnsupportedOperation\u001b[0m: not readable"
     ]
    }
   ],
   "source": [
    "fo = open(\"details.txt\",'a')\n",
    "fo.read()\n",
    "fo.close()"
   ]
  },
  {
   "cell_type": "code",
   "execution_count": 6,
   "metadata": {},
   "outputs": [],
   "source": [
    "fo = open(\"details2.txt\",'a+')\n",
    "fo.read()\n",
    "fo.close()"
   ]
  },
  {
   "cell_type": "code",
   "execution_count": 8,
   "metadata": {},
   "outputs": [
    {
     "name": "stdout",
     "output_type": "stream",
     "text": [
      "file location open for append :  46\n",
      "file location after seek :  0\n",
      "read data :  anjan kumar python and AI trainer 111222334455\n",
      "file location after read :  46\n",
      "file location after seek to 0:  0\n",
      "enter data : aannjjaann\n",
      "file location after write :  56\n",
      "file location after seek :  0\n",
      "read data :  anjan kumar python and AI trainer 111222334455aannjjaann\n",
      "file location after read :  56\n"
     ]
    }
   ],
   "source": [
    "fo = open(\"details.txt\",'a+')\n",
    "print(\"file location open for append : \",fo.tell())\n",
    "fo.seek(0,0)\n",
    "print(\"file location after seek : \",fo.tell())\n",
    "print(\"read data : \",fo.read())\n",
    "print(\"file location after read : \",fo.tell())\n",
    "fo.seek(0,0)\n",
    "print(\"file location after seek to 0: \",fo.tell())\n",
    "data = input(\"enter data : \")\n",
    "fo.write(data)\n",
    "print(\"file location after write : \",fo.tell())\n",
    "fo.seek(0,0)\n",
    "print(\"file location after seek : \",fo.tell())\n",
    "print(\"read data : \",fo.read())\n",
    "print(\"file location after read : \",fo.tell())\n",
    "fo.close()"
   ]
  },
  {
   "cell_type": "code",
   "execution_count": 10,
   "metadata": {},
   "outputs": [
    {
     "ename": "FileNotFoundError",
     "evalue": "[Errno 2] No such file or directory: 'kkkjfdhjffj'",
     "output_type": "error",
     "traceback": [
      "\u001b[1;31m---------------------------------------------------------------------------\u001b[0m",
      "\u001b[1;31mFileNotFoundError\u001b[0m                         Traceback (most recent call last)",
      "\u001b[1;32m<ipython-input-10-b3bc4ae6333e>\u001b[0m in \u001b[0;36m<module>\u001b[1;34m()\u001b[0m\n\u001b[0;32m      1\u001b[0m \u001b[1;31m# read  ---> defalut  ---> 'r'\u001b[0m\u001b[1;33m\u001b[0m\u001b[1;33m\u001b[0m\u001b[0m\n\u001b[0;32m      2\u001b[0m \u001b[1;31m# file is no existed  ---> then it will raise the error\u001b[0m\u001b[1;33m\u001b[0m\u001b[1;33m\u001b[0m\u001b[0m\n\u001b[1;32m----> 3\u001b[1;33m \u001b[0mopen\u001b[0m\u001b[1;33m(\u001b[0m\u001b[1;34m'kkkjfdhjffj'\u001b[0m\u001b[1;33m,\u001b[0m\u001b[1;34m'r'\u001b[0m\u001b[1;33m)\u001b[0m\u001b[1;33m\u001b[0m\u001b[0m\n\u001b[0m",
      "\u001b[1;31mFileNotFoundError\u001b[0m: [Errno 2] No such file or directory: 'kkkjfdhjffj'"
     ]
    }
   ],
   "source": [
    "# read  ---> defalut  ---> 'r'\n",
    "# file is no existed  ---> then it will raise the error\n",
    "open('kkkjfdhjffj','r')"
   ]
  },
  {
   "cell_type": "code",
   "execution_count": 11,
   "metadata": {},
   "outputs": [
    {
     "ename": "FileNotFoundError",
     "evalue": "[Errno 2] No such file or directory: 'kkkjfdhjffj'",
     "output_type": "error",
     "traceback": [
      "\u001b[1;31m---------------------------------------------------------------------------\u001b[0m",
      "\u001b[1;31mFileNotFoundError\u001b[0m                         Traceback (most recent call last)",
      "\u001b[1;32m<ipython-input-11-327e691d82fa>\u001b[0m in \u001b[0;36m<module>\u001b[1;34m()\u001b[0m\n\u001b[0;32m      1\u001b[0m \u001b[1;31m# read  + write ---> 'r+'\u001b[0m\u001b[1;33m\u001b[0m\u001b[1;33m\u001b[0m\u001b[0m\n\u001b[0;32m      2\u001b[0m \u001b[1;31m# file is no existed  ---> then it will raise the error\u001b[0m\u001b[1;33m\u001b[0m\u001b[1;33m\u001b[0m\u001b[0m\n\u001b[1;32m----> 3\u001b[1;33m \u001b[0mopen\u001b[0m\u001b[1;33m(\u001b[0m\u001b[1;34m'kkkjfdhjffj'\u001b[0m\u001b[1;33m,\u001b[0m\u001b[1;34m'r+'\u001b[0m\u001b[1;33m)\u001b[0m\u001b[1;33m\u001b[0m\u001b[0m\n\u001b[0m",
      "\u001b[1;31mFileNotFoundError\u001b[0m: [Errno 2] No such file or directory: 'kkkjfdhjffj'"
     ]
    }
   ],
   "source": [
    "# read  + write ---> 'r+'\n",
    "# file is no existed  ---> then it will raise the error\n",
    "open('kkkjfdhjffj','r+')"
   ]
  },
  {
   "cell_type": "code",
   "execution_count": 13,
   "metadata": {},
   "outputs": [
    {
     "data": {
      "text/plain": [
       "<_io.TextIOWrapper name='details.txt' mode='r+' encoding='cp1252'>"
      ]
     },
     "execution_count": 13,
     "metadata": {},
     "output_type": "execute_result"
    }
   ],
   "source": [
    "# file is existed with data  , file is open and data safe\n",
    "\n",
    "open(\"details.txt\",'r+')"
   ]
  },
  {
   "cell_type": "code",
   "execution_count": 14,
   "metadata": {},
   "outputs": [
    {
     "ename": "UnsupportedOperation",
     "evalue": "not writable",
     "output_type": "error",
     "traceback": [
      "\u001b[1;31m---------------------------------------------------------------------------\u001b[0m",
      "\u001b[1;31mUnsupportedOperation\u001b[0m                      Traceback (most recent call last)",
      "\u001b[1;32m<ipython-input-14-443c4488b20b>\u001b[0m in \u001b[0;36m<module>\u001b[1;34m()\u001b[0m\n\u001b[0;32m      1\u001b[0m \u001b[0mfo\u001b[0m \u001b[1;33m=\u001b[0m \u001b[0mopen\u001b[0m\u001b[1;33m(\u001b[0m\u001b[1;34m'details1.txt'\u001b[0m\u001b[1;33m,\u001b[0m\u001b[1;34m'r'\u001b[0m\u001b[1;33m)\u001b[0m\u001b[1;33m\u001b[0m\u001b[0m\n\u001b[1;32m----> 2\u001b[1;33m \u001b[0mfo\u001b[0m\u001b[1;33m.\u001b[0m\u001b[0mwrite\u001b[0m\u001b[1;33m(\u001b[0m\u001b[1;34m'hello'\u001b[0m\u001b[1;33m)\u001b[0m\u001b[1;33m\u001b[0m\u001b[0m\n\u001b[0m\u001b[0;32m      3\u001b[0m \u001b[0mfo\u001b[0m\u001b[1;33m.\u001b[0m\u001b[0mclose\u001b[0m\u001b[1;33m(\u001b[0m\u001b[1;33m)\u001b[0m\u001b[1;33m\u001b[0m\u001b[0m\n",
      "\u001b[1;31mUnsupportedOperation\u001b[0m: not writable"
     ]
    }
   ],
   "source": [
    "fo = open('details1.txt','r')\n",
    "fo.write('hello')\n",
    "fo.close()"
   ]
  },
  {
   "cell_type": "code",
   "execution_count": 15,
   "metadata": {},
   "outputs": [],
   "source": [
    "fo = open('details1.txt','r+') # read + write\n",
    "fo.write('hello')\n",
    "fo.close()"
   ]
  },
  {
   "cell_type": "code",
   "execution_count": 16,
   "metadata": {},
   "outputs": [
    {
     "name": "stdout",
     "output_type": "stream",
     "text": [
      "inital location :  0\n",
      "anjan kumar python and AI trainer 111222334455aannjjaann\n",
      "After read :  56\n",
      "enter data11111\n",
      "After write :  61\n",
      "after seek 10 from start location  10\n",
      "enter data11111\n",
      "After write :  15\n"
     ]
    }
   ],
   "source": [
    "fo = open('details.txt','r+')\n",
    "print(\"inital location : \",fo.tell())\n",
    "print(fo.read())\n",
    "print(\"After read : \",fo.tell())\n",
    "fo.write(input(\"enter data\"))\n",
    "print(\"After write : \",fo.tell())\n",
    "fo.seek(10,0)\n",
    "print(\"after seek 10 from start location \",fo.tell())\n",
    "fo.write(input(\"enter data\"))\n",
    "print(\"After write : \",fo.tell())\n",
    "fo.close()"
   ]
  },
  {
   "cell_type": "code",
   "execution_count": 1,
   "metadata": {},
   "outputs": [
    {
     "name": "stdout",
     "output_type": "stream",
     "text": [
      "anjan kuma11111hon and AI trainer 111222334455aannjjaann11111\n",
      "\n",
      "['anjan kuma11111hon and AI trainer 111222334455aannjjaann11111\\n', 'anjna\\n', '11111\\n', '56767\\n', 'sdsdsd\\n', 'ffdfdsf\\n']\n",
      "anjan kuma11111hon and AI trainer 111222334455aannjjaann11111\n",
      "anjna\n",
      "11111\n",
      "56767\n",
      "sdsdsd\n",
      "ffdfdsf\n",
      "\n"
     ]
    }
   ],
   "source": [
    "fo = open(\"details.txt\",'r')\n",
    "print(fo.readline())\n",
    "fo.seek(0,0)\n",
    "print(fo.readlines())\n",
    "fo.seek(0,0)\n",
    "print(fo.read())\n",
    "fo.close()"
   ]
  }
 ],
 "metadata": {
  "kernelspec": {
   "display_name": "Python 3",
   "language": "python",
   "name": "python3"
  },
  "language_info": {
   "codemirror_mode": {
    "name": "ipython",
    "version": 3
   },
   "file_extension": ".py",
   "mimetype": "text/x-python",
   "name": "python",
   "nbconvert_exporter": "python",
   "pygments_lexer": "ipython3",
   "version": "3.7.0"
  }
 },
 "nbformat": 4,
 "nbformat_minor": 2
}
