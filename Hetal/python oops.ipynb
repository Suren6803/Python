{
 "cells": [
  {
   "cell_type": "code",
   "execution_count": 1,
   "metadata": {},
   "outputs": [],
   "source": [
    "# create a class\n",
    "\n",
    "class  Std():\n",
    "    name = None\n",
    "    age = None\n",
    "    def details():\n",
    "        print(name)\n",
    "        print(age)\n",
    "        \n",
    "# create a object \n",
    "obj1 = Std()\n"
   ]
  },
  {
   "cell_type": "code",
   "execution_count": 2,
   "metadata": {},
   "outputs": [
    {
     "name": "stdout",
     "output_type": "stream",
     "text": [
      "None\n",
      "None\n"
     ]
    }
   ],
   "source": [
    "# create a class\n",
    "\n",
    "class  Std():\n",
    "    name = None\n",
    "    age = None\n",
    "    def details():\n",
    "        print(name)\n",
    "        print(age)\n",
    "        \n",
    "# create a object \n",
    "obj1 = Std()\n",
    "print(obj1.name)\n",
    "print(obj1.age)"
   ]
  },
  {
   "cell_type": "code",
   "execution_count": 3,
   "metadata": {},
   "outputs": [
    {
     "name": "stdout",
     "output_type": "stream",
     "text": [
      "Laxmi\n",
      "123\n",
      "Hetal\n",
      "220\n"
     ]
    }
   ],
   "source": [
    "# create a class\n",
    "\n",
    "class  Std():\n",
    "    name = None\n",
    "    R_no= None\n",
    "    def details():\n",
    "        print(name)\n",
    "        print(age)\n",
    "        \n",
    "# create a object \n",
    "obj1 = Std()\n",
    "obj2 = Std()\n",
    "obj1.name = 'Laxmi'\n",
    "obj1.R_no = '123'\n",
    "obj2.name = 'Hetal'\n",
    "obj2.R_no = '220'\n",
    "print(obj1.name)\n",
    "print(obj1.R_no)\n",
    "print(obj2.name)\n",
    "print(obj2.R_no)\n"
   ]
  },
  {
   "cell_type": "code",
   "execution_count": 7,
   "metadata": {},
   "outputs": [
    {
     "name": "stdout",
     "output_type": "stream",
     "text": [
      "<__main__.Std object at 0x0000005A52C5D860>\n",
      "Laxmi\n",
      "123\n",
      "<__main__.Std object at 0x0000005A52C5D828>\n",
      "Hetal\n",
      "220\n"
     ]
    }
   ],
   "source": [
    "# create a class\n",
    "\n",
    "class  Std():\n",
    "    name = None\n",
    "    R_no= None\n",
    "    def details(self):\n",
    "        print(self)\n",
    "        print(self.name)\n",
    "        print(self.R_no)\n",
    "        \n",
    "# create a object \n",
    "obj1 = Std()\n",
    "obj2 = Std()\n",
    "obj1.name = 'Laxmi'\n",
    "obj1.R_no = '123'\n",
    "obj2.name = 'Hetal'\n",
    "obj2.R_no = '220'\n",
    "obj1.details()\n",
    "obj2.details()\n"
   ]
  },
  {
   "cell_type": "code",
   "execution_count": 8,
   "metadata": {},
   "outputs": [
    {
     "name": "stdout",
     "output_type": "stream",
     "text": [
      "enter name Hetal\n",
      "enter R_no80\n",
      "enter name Laxmi\n",
      "enter R_no88\n",
      "<__main__.Std object at 0x0000005A52C5DC88>\n",
      "Hetal\n",
      "80\n",
      "<__main__.Std object at 0x0000005A52C5DD30>\n",
      "Laxmi\n",
      "88\n"
     ]
    }
   ],
   "source": [
    "# create a class\n",
    "\n",
    "class  Std():\n",
    "    name = None  # class variable\n",
    "    R_no= None   # class variable\n",
    "    def seting(self):\n",
    "        self.name = input(\"enter name \")\n",
    "        self.R_no = input(\"enter R_no\")\n",
    "    def details(self):\n",
    "        print(self)\n",
    "        print(self.name)\n",
    "        print(self.R_no)\n",
    "        \n",
    "# create a object \n",
    "obj1 = Std()\n",
    "obj2 = Std()\n",
    "obj1.seting()\n",
    "obj2.seting()\n",
    "obj1.details()\n",
    "obj2.details()\n"
   ]
  },
  {
   "cell_type": "code",
   "execution_count": 9,
   "metadata": {},
   "outputs": [
    {
     "name": "stdout",
     "output_type": "stream",
     "text": [
      "enter name Hetal\n",
      "enter R_no78\n",
      "enter name Laxmi\n",
      "enter R_no70\n",
      "<__main__.Std object at 0x0000005A52C5D908>\n",
      "Hetal\n",
      "78\n",
      "<__main__.Std object at 0x0000005A52C5D7B8>\n",
      "Laxmi\n",
      "70\n"
     ]
    }
   ],
   "source": [
    "# create a class\n",
    "\n",
    "class  Std():\n",
    "    def __init__(self):  # unparameter constructor\n",
    "        self.name = input(\"enter name \")\n",
    "        self.R_no = input(\"enter R_no\")\n",
    "    def details(self):\n",
    "        print(self)\n",
    "        print(self.name)\n",
    "        print(self.R_no)\n",
    "        \n",
    "# create a object \n",
    "obj1 = Std()\n",
    "obj2 = Std()\n",
    "obj1.details()\n",
    "obj2.details()\n"
   ]
  },
  {
   "cell_type": "code",
   "execution_count": 10,
   "metadata": {},
   "outputs": [
    {
     "name": "stdout",
     "output_type": "stream",
     "text": [
      "enter name :Hetal\n",
      "enter r_no34\n",
      "enter name :Laxmi\n",
      "enter r_no78\n",
      "<__main__.Std object at 0x0000005A52C5DB70>\n",
      "Hetal\n",
      "34\n",
      "<__main__.Std object at 0x0000005A52C5DF98>\n",
      "Laxmi\n",
      "78\n"
     ]
    }
   ],
   "source": [
    "# create a class\n",
    "\n",
    "class  Std():\n",
    "    def __init__(self,name,r_no):  # parameter constructor\n",
    "        self.name = name\n",
    "        self.R_no = r_no\n",
    "    def details(self):\n",
    "        print(self)\n",
    "        print(self.name)\n",
    "        print(self.R_no)\n",
    "        \n",
    "# create a object \n",
    "obj1 = Std(input(\"enter name :\"),input(\"enter r_no\"))\n",
    "obj2 = Std(input(\"enter name :\"),input(\"enter r_no\"))\n",
    "obj1.details()\n",
    "obj2.details()\n"
   ]
  },
  {
   "cell_type": "code",
   "execution_count": 11,
   "metadata": {},
   "outputs": [
    {
     "name": "stdout",
     "output_type": "stream",
     "text": [
      "enter name :Hetal\n",
      "enter r_no78\n",
      "enter name :Laxmi\n",
      "enter r_no78\n",
      "<__main__.Std object at 0x0000005A52C5D6D8>\n",
      "Hetal\n",
      "78\n",
      "<__main__.Std object at 0x0000005A52C5D390>\n",
      "Laxmi\n",
      "78\n",
      "destructor\n",
      "destructor\n"
     ]
    }
   ],
   "source": [
    "# create a class\n",
    "\n",
    "class  Std():\n",
    "    def __init__(self,name,r_no):  # parameter constructor\n",
    "        self.name = name\n",
    "        self.R_no = r_no\n",
    "    def details(self):\n",
    "        print(self)\n",
    "        print(self.name)\n",
    "        print(self.R_no)\n",
    "    def __del__(self):  # destructor method\n",
    "        print(\"destructor\")\n",
    "        \n",
    "# create a object \n",
    "obj1 = Std(input(\"enter name :\"),input(\"enter r_no\"))\n",
    "obj2 = Std(input(\"enter name :\"),input(\"enter r_no\"))\n",
    "obj1.details()\n",
    "obj2.details()\n",
    "del obj1\n",
    "del obj2"
   ]
  },
  {
   "cell_type": "code",
   "execution_count": null,
   "metadata": {},
   "outputs": [],
   "source": [
    "# create a class for employee ,name, id, salary, position\n",
    "\n",
    "# responsbilty"
   ]
  },
  {
   "cell_type": "code",
   "execution_count": 1,
   "metadata": {},
   "outputs": [
    {
     "name": "stdout",
     "output_type": "stream",
     "text": [
      "123\n",
      "145\n"
     ]
    }
   ],
   "source": [
    "# Data hiding \n",
    "'''\n",
    "Making the data as a private .\n",
    "\n",
    "We are not given a permission to access the data from out side \n",
    "of class\n",
    "\n",
    "\n",
    "'''\n",
    "class Data_hide():\n",
    "    var = 123   # public \n",
    "    def fun(self):\n",
    "        print(self.var)\n",
    "\n",
    "obj = Data_hide()\n",
    "print(obj.var)\n",
    "obj.var = 145# modify the object variable\n",
    "obj.fun()"
   ]
  },
  {
   "cell_type": "code",
   "execution_count": 4,
   "metadata": {},
   "outputs": [
    {
     "ename": "AttributeError",
     "evalue": "'Data_hide' object has no attribute '__var'",
     "output_type": "error",
     "traceback": [
      "\u001b[1;31m---------------------------------------------------------------------------\u001b[0m",
      "\u001b[1;31mAttributeError\u001b[0m                            Traceback (most recent call last)",
      "\u001b[1;32m<ipython-input-4-f1b217d4deed>\u001b[0m in \u001b[0;36m<module>\u001b[1;34m()\u001b[0m\n\u001b[0;32m      5\u001b[0m \u001b[1;33m\u001b[0m\u001b[0m\n\u001b[0;32m      6\u001b[0m \u001b[0mobj\u001b[0m \u001b[1;33m=\u001b[0m \u001b[0mData_hide\u001b[0m\u001b[1;33m(\u001b[0m\u001b[1;33m)\u001b[0m\u001b[1;33m\u001b[0m\u001b[0m\n\u001b[1;32m----> 7\u001b[1;33m \u001b[0mprint\u001b[0m\u001b[1;33m(\u001b[0m\u001b[0mobj\u001b[0m\u001b[1;33m.\u001b[0m\u001b[0m__var\u001b[0m\u001b[1;33m)\u001b[0m\u001b[1;33m\u001b[0m\u001b[0m\n\u001b[0m\u001b[0;32m      8\u001b[0m \u001b[0mobj\u001b[0m\u001b[1;33m.\u001b[0m\u001b[0m__var\u001b[0m \u001b[1;33m=\u001b[0m \u001b[1;36m145\u001b[0m\u001b[1;31m# modify the object variable\u001b[0m\u001b[1;33m\u001b[0m\u001b[0m\n\u001b[0;32m      9\u001b[0m \u001b[0mobj\u001b[0m\u001b[1;33m.\u001b[0m\u001b[0mfun\u001b[0m\u001b[1;33m(\u001b[0m\u001b[1;33m)\u001b[0m\u001b[1;33m\u001b[0m\u001b[0m\n",
      "\u001b[1;31mAttributeError\u001b[0m: 'Data_hide' object has no attribute '__var'"
     ]
    }
   ],
   "source": [
    "class Data_hide():\n",
    "    __var = 123   # private\n",
    "    def fun(self):\n",
    "        print(self.__var)\n",
    "\n",
    "obj = Data_hide()\n",
    "print(obj.__var)\n",
    "obj.__var = 145# modify the object variable\n",
    "obj.fun()"
   ]
  },
  {
   "cell_type": "code",
   "execution_count": 8,
   "metadata": {},
   "outputs": [
    {
     "name": "stdout",
     "output_type": "stream",
     "text": [
      "123\n"
     ]
    }
   ],
   "source": [
    "class Data_hide():\n",
    "    __var = 123   # private \n",
    "    def fun(self):\n",
    "        #print(self.__var)\n",
    "        return self.__var\n",
    "\n",
    "obj = Data_hide()\n",
    "#print(obj.var)\n",
    "#obj.var = 145# modify the object variable\n",
    "v = obj.fun()\n",
    "print(v)"
   ]
  },
  {
   "cell_type": "code",
   "execution_count": 10,
   "metadata": {},
   "outputs": [
    {
     "name": "stdout",
     "output_type": "stream",
     "text": [
      "123\n",
      "450\n"
     ]
    }
   ],
   "source": [
    "# data encapsulation\n",
    "'''\n",
    "we can access the private data out side of the class\n",
    "\n",
    "'''\n",
    "class Data_encap():\n",
    "    __var = 123   # private data\n",
    "    def fun(self):\n",
    "        print(self.__var)\n",
    "obj = Data_encap()\n",
    "print(obj._Data_encap__var)\n",
    "obj._Data_encap__var =450\n",
    "obj.fun()"
   ]
  },
  {
   "cell_type": "code",
   "execution_count": 12,
   "metadata": {},
   "outputs": [
    {
     "name": "stdout",
     "output_type": "stream",
     "text": [
      "a =  123\n",
      "it is sigle argment methd\n",
      "a =  456\n",
      "it is sigle argment methd\n"
     ]
    }
   ],
   "source": [
    "# method overloading  \n",
    "'''\n",
    "Based on requirement corresponding same method call\n",
    "\n",
    "'''\n",
    "'''\n",
    "Method overloading is not supported in python \n",
    "so we can impliment polymorpshism\n",
    "\n",
    "Over ridding is support in python\n",
    "\n",
    "\n",
    "'''\n",
    "class Over_load():\n",
    "    def fun(self):\n",
    "        print(\"i dont have any arguments\")\n",
    "    def fun(self,a=456):\n",
    "        print(\"a = \",a)\n",
    "        print(\"it is sigle argment methd\")\n",
    "obj =Over_load()\n",
    "obj.fun(123)\n",
    "obj.fun()\n"
   ]
  },
  {
   "cell_type": "code",
   "execution_count": 13,
   "metadata": {},
   "outputs": [
    {
     "name": "stdout",
     "output_type": "stream",
     "text": [
      " i am fun poly1 class\n",
      " i am fun poly2 class\n"
     ]
    }
   ],
   "source": [
    "#polymorphsim\n",
    "class Poly1():\n",
    "    def fun(self):\n",
    "        print(\" i am fun poly1 class\")\n",
    "        \n",
    "class Poly2():\n",
    "    def fun(self):\n",
    "        print(\" i am fun poly2 class\")\n",
    "obj1 = Poly1()\n",
    "obj2 = Poly2()\n",
    "obj1.fun()\n",
    "obj2.fun()"
   ]
  },
  {
   "cell_type": "code",
   "execution_count": 14,
   "metadata": {},
   "outputs": [
    {
     "name": "stdout",
     "output_type": "stream",
     "text": [
      " i am property of Base class\n",
      " i am property of parant class\n"
     ]
    }
   ],
   "source": [
    "# inheritance \n",
    "'''\n",
    "Class properties  ---> access by ---> another class \n",
    "'''  \n",
    "# simple inheritance\n",
    "class Base_class() :  # parant class\n",
    "    def fun(self):\n",
    "        print(\" i am property of Base class\")\n",
    "        \n",
    "class Derived_class(Base_class) :  #child class\n",
    "    def fun2(self):\n",
    "        print(\" i am property of parant class\")\n",
    "    \n",
    "obj =Derived_class()\n",
    "obj.fun()\n",
    "obj.fun2()"
   ]
  },
  {
   "cell_type": "code",
   "execution_count": 16,
   "metadata": {},
   "outputs": [
    {
     "name": "stdout",
     "output_type": "stream",
     "text": [
      " i am property of Base class1\n",
      " i am property of Base class2\n",
      " i am property of parant class\n"
     ]
    }
   ],
   "source": [
    "# multiple inheritance\n",
    "class Base_class1() :  # parant class\n",
    "    def fun(self):\n",
    "        print(\" i am property of Base class1\")\n",
    "\n",
    "class Base_class2() :  # parant class\n",
    "    def fun1(self):\n",
    "        print(\" i am property of Base class2\")\n",
    "class Derived_class(Base_class1 ,Base_class2) :  #child class\n",
    "    def fun2(self):\n",
    "        print(\" i am property of parant class\")\n",
    "    \n",
    "obj =Derived_class()\n",
    "obj.fun()\n",
    "obj.fun1()\n",
    "obj.fun2()"
   ]
  },
  {
   "cell_type": "code",
   "execution_count": 17,
   "metadata": {},
   "outputs": [
    {
     "name": "stdout",
     "output_type": "stream",
     "text": [
      " i am property of Base class1\n",
      " i am property of Base class2\n",
      " i am property of parant class\n"
     ]
    }
   ],
   "source": [
    "# multiinheritance\n",
    "class Base_class1() :  # parant class\n",
    "    def fun(self):\n",
    "        print(\" i am property of Base class1\")\n",
    "\n",
    "class Base_class2(Base_class1) :  # parant class\n",
    "    def fun1(self):\n",
    "        print(\" i am property of Base class2\")\n",
    "class Derived_class(Base_class2) :  #child class\n",
    "    def fun2(self):\n",
    "        print(\" i am property of parant class\")\n",
    "    \n",
    "obj =Derived_class()\n",
    "obj.fun()\n",
    "obj.fun1()\n",
    "obj.fun2()"
   ]
  }
 ],
 "metadata": {
  "kernelspec": {
   "display_name": "Python 3",
   "language": "python",
   "name": "python3"
  },
  "language_info": {
   "codemirror_mode": {
    "name": "ipython",
    "version": 3
   },
   "file_extension": ".py",
   "mimetype": "text/x-python",
   "name": "python",
   "nbconvert_exporter": "python",
   "pygments_lexer": "ipython3",
   "version": "3.7.0"
  }
 },
 "nbformat": 4,
 "nbformat_minor": 2
}
