{
 "cells": [
  {
   "cell_type": "code",
   "execution_count": null,
   "metadata": {},
   "outputs": [],
   "source": [
    "# function defination\n",
    "\n",
    "def fun_name():\n",
    "    print(\"hello\")\n",
    "\n",
    "# function call \n",
    "fun_name()"
   ]
  },
  {
   "cell_type": "code",
   "execution_count": null,
   "metadata": {},
   "outputs": [],
   "source": [
    "# wap print access your full details then print \n",
    "def details():\n",
    "    name = input(\"enter any data \")\n",
    "    age  = input(\"enter agfe you \")\n",
    "    mob  = input(\"enter ph : no  \")\n",
    "    \n",
    "    print(\"name  = \",name)\n",
    "    print(\"age   = \",age )\n",
    "    print(\"mobil = \",mob)\n",
    "details()\n",
    "print(\"*********************\")\n",
    "details()\n",
    "print(\"*********************\")\n",
    "details()"
   ]
  },
  {
   "cell_type": "markdown",
   "metadata": {},
   "source": [
    "# arguments \n",
    "\n",
    "---> arguments are used to send the data from function call function defination\n",
    "\n",
    "---> The arguments at function call is called actual arguments/ parameters\n",
    "\n",
    "---> The arguments at function defination is called formal arguments \n"
   ]
  },
  {
   "cell_type": "code",
   "execution_count": null,
   "metadata": {},
   "outputs": [],
   "source": [
    "# wap print your full details then print \n",
    "def details(name , age ,mob): # name , age ,mob are formal argument\n",
    "    print(\"name  = \",name)\n",
    "    print(\"age   = \",age )\n",
    "    print(\"mobil = \",mob)\n",
    "details('anjan',27,'9640987968') # actual data\n",
    "print(\"*********************\")\n",
    "details('asif',32,'964165655')\n",
    "print(\"*********************\")\n",
    "details('hetal',29,'989645646')"
   ]
  },
  {
   "cell_type": "code",
   "execution_count": null,
   "metadata": {},
   "outputs": [],
   "source": [
    "# wap print your full details then print \n",
    "def details(name , age ,mob): # name , age ,mob are formal argument\n",
    "    print(\"name  = \",name)\n",
    "    print(\"age   = \",age )\n",
    "    print(\"mobil = \",mob)\n",
    "details('anjan',27,'9640987968') # actual data\n",
    "print(\"*********************\")\n",
    "details()\n",
    "print(\"*********************\")\n",
    "details('hetal',29,'989645646')"
   ]
  },
  {
   "cell_type": "code",
   "execution_count": null,
   "metadata": {},
   "outputs": [],
   "source": [
    "# default arguments\n",
    "\n",
    "# wap print your full details then print \n",
    "def details(name='asif' , age='32' ,mob='954546428'): # name , age ,mob are formal argument\n",
    "    print(\"name  = \",name)\n",
    "    print(\"age   = \",age )\n",
    "    print(\"mobil = \",mob)\n",
    "details('anjan',27,'9640987968') # actual data\n",
    "print(\"*********************\")\n",
    "details()\n",
    "print(\"*********************\")\n",
    "details('hetal',29,'989645646')"
   ]
  },
  {
   "cell_type": "code",
   "execution_count": null,
   "metadata": {},
   "outputs": [],
   "source": [
    "# packing \n",
    "def fun(a,b,c,d):\n",
    "    pass\n",
    "fun(1,2,3,4)"
   ]
  },
  {
   "cell_type": "code",
   "execution_count": null,
   "metadata": {},
   "outputs": [],
   "source": [
    "# packing arguments\n",
    "def fun(*arg):\n",
    "        print(arg)\n",
    "        print(sum(arg))\n",
    "\n",
    "fun(1,2,3,4,5,6,10,56)"
   ]
  },
  {
   "cell_type": "code",
   "execution_count": null,
   "metadata": {},
   "outputs": [],
   "source": [
    "#unpacking \n",
    "def fun(a,b,c,d):\n",
    "    print (a)\n",
    "    print(b)\n",
    "    print(c)\n",
    "    print(d)\n",
    "a = [1,2,3,4]\n",
    "fun(*a)"
   ]
  },
  {
   "cell_type": "code",
   "execution_count": null,
   "metadata": {},
   "outputs": [],
   "source": [
    "# local variables \n",
    "'''\n",
    "varibales defined inside of the function definations\n",
    "scope & life time is inside of the function\n",
    "'''\n",
    "def fun():\n",
    "    l_v =123\n",
    "    print(l_v)\n",
    "fun()\n",
    "print(l_v)"
   ]
  },
  {
   "cell_type": "code",
   "execution_count": null,
   "metadata": {},
   "outputs": [],
   "source": [
    "# gloabal variables \n",
    "'''\n",
    "defaultly the globle varibale define outside side of function defination\n",
    "\n",
    "scope & life is through out of your program \n",
    "'''\n",
    "g_v =100\n",
    "def fun():\n",
    "    print(g_v)\n",
    "\n",
    "fun()\n",
    "print(g_v)"
   ]
  },
  {
   "cell_type": "code",
   "execution_count": null,
   "metadata": {},
   "outputs": [],
   "source": [
    "# gloabal variables \n",
    "'''\n",
    "defaultly the globle varibale define outside side of function defination\n",
    "\n",
    "scope & life is through out of your program \n",
    "'''\n",
    "g_v =100\n",
    "def fun():\n",
    "    g_v =40 # local variables \n",
    "    print(g_v)\n",
    "\n",
    "fun()\n",
    "print(g_v)"
   ]
  },
  {
   "cell_type": "code",
   "execution_count": null,
   "metadata": {},
   "outputs": [],
   "source": [
    "# gloabal variables \n",
    "'''\n",
    "defaultly the globle varibale define outside side of function defination\n",
    "\n",
    "scope & life is through out of your program \n",
    "'''\n",
    "g_v =100\n",
    "def fun():\n",
    "    global g_v\n",
    "    g_v =40 # global  variables \n",
    "    print(g_v)\n",
    "\n",
    "fun()\n",
    "print(g_v)"
   ]
  },
  {
   "cell_type": "code",
   "execution_count": null,
   "metadata": {},
   "outputs": [],
   "source": [
    "# return keyword \n",
    "'''\n",
    "---> return the data from funtion defination to call\n",
    "\n",
    "---> terminate the function defination\n",
    "'''\n",
    "def fun():\n",
    "    print(\"hello\")\n",
    "    return \n",
    "    print(\"hai\")\n",
    "fun()"
   ]
  },
  {
   "cell_type": "code",
   "execution_count": null,
   "metadata": {},
   "outputs": [],
   "source": [
    "def fun():\n",
    "    print(\"hello\")\n",
    "    return 'anjan'\n",
    "    print(\"hai\")\n",
    "name = fun()\n",
    "print(\"name = \",name)"
   ]
  },
  {
   "cell_type": "code",
   "execution_count": null,
   "metadata": {},
   "outputs": [],
   "source": [
    "# wap return prime numbers in between 10 to 100\n",
    "\n",
    "def isprime(n=10):\n",
    "    if(n<=1):\n",
    "        return False\n",
    "    for i in range(2,n):\n",
    "        if(n%i ==0):\n",
    "            return False\n",
    "    else:\n",
    "        return True\n",
    "def main():\n",
    "    n1 = int(input(\"enter n1 : \"))\n",
    "    n2 = int(input(\"enter n2 : \"))\n",
    "    for n in range(n1,n2+1):\n",
    "        if(isprime(n)):\n",
    "            print(n,\" is prime \")\n",
    "if __name__ ==\"__main__\":\n",
    "    main()"
   ]
  },
  {
   "cell_type": "code",
   "execution_count": null,
   "metadata": {},
   "outputs": [],
   "source": [
    "# wap find sum of prime numbers in betwwen 10 to 100"
   ]
  },
  {
   "cell_type": "code",
   "execution_count": null,
   "metadata": {},
   "outputs": [],
   "source": [
    "# recursive function\n",
    "def fun():\n",
    "    print(\"hello\")\n",
    "    print(\"hai\")\n",
    "    fun()\n",
    "fun()"
   ]
  },
  {
   "cell_type": "code",
   "execution_count": 2,
   "metadata": {},
   "outputs": [
    {
     "name": "stdout",
     "output_type": "stream",
     "text": [
      "hello\n",
      "hello\n",
      "hello\n",
      "hello\n",
      "hello\n",
      "hello\n",
      "hello\n",
      "hello\n",
      "hello\n",
      "hello\n",
      "hello\n",
      "hai\n",
      "hai\n",
      "hai\n",
      "hai\n",
      "hai\n",
      "hai\n",
      "hai\n",
      "hai\n",
      "hai\n",
      "hai\n",
      "hai\n"
     ]
    }
   ],
   "source": [
    "# recursive function\n",
    "def fun(n=1):\n",
    "    print(\"hello\")\n",
    "    if(n<=10):\n",
    "        fun(n+1)\n",
    "    print(\"hai\")\n",
    "\n",
    "fun()"
   ]
  },
  {
   "cell_type": "code",
   "execution_count": null,
   "metadata": {},
   "outputs": [],
   "source": [
    "# factorial \n"
   ]
  }
 ],
 "metadata": {
  "kernelspec": {
   "display_name": "Python 3",
   "language": "python",
   "name": "python3"
  },
  "language_info": {
   "codemirror_mode": {
    "name": "ipython",
    "version": 3
   },
   "file_extension": ".py",
   "mimetype": "text/x-python",
   "name": "python",
   "nbconvert_exporter": "python",
   "pygments_lexer": "ipython3",
   "version": "3.7.0"
  }
 },
 "nbformat": 4,
 "nbformat_minor": 2
}
