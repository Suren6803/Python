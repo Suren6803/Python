{
 "cells": [
  {
   "cell_type": "markdown",
   "metadata": {},
   "source": [
    "# condition Statements\n"
   ]
  },
  {
   "cell_type": "code",
   "execution_count": 3,
   "metadata": {},
   "outputs": [
    {
     "name": "stdout",
     "output_type": "stream",
     "text": [
      "enter name : xyz\n",
      "enter age  : 8\n",
      "enter ph   : xyz\n",
      "if block is over \n"
     ]
    }
   ],
   "source": [
    "# wap print your details when you have more 18 years \n",
    "name = input(\"enter name : \")\n",
    "age  = int(input(\"enter age  : \"))\n",
    "ph   = input(\"enter ph   : \")\n",
    "if(age > 18):\n",
    "    print(\"name = \",name)\n",
    "    print(\"age  = \",age)\n",
    "    print(\"ph   = \",ph)\n",
    "print(\"if block is over \")"
   ]
  },
  {
   "cell_type": "code",
   "execution_count": 6,
   "metadata": {},
   "outputs": [
    {
     "name": "stdout",
     "output_type": "stream",
     "text": [
      "enter radius in meters : 11\n",
      "if block is over\n"
     ]
    }
   ],
   "source": [
    "# wap find area of circle and perimeter of the circle when radius \n",
    "# of the circle is even\n",
    "\n",
    "rad = int(input(\"enter radius in meters : \"))\n",
    "if(rad % 2 == 0):\n",
    "    area = (22 /7)*rad*rad\n",
    "    peri = 2 * (22/7)*rad\n",
    "    print(\"area of circle is : \",area,\" sq m\")\n",
    "    print(\"perimeter of circle : \",peri,\" meters\")\n",
    "print(\"if block is over\")"
   ]
  },
  {
   "cell_type": "code",
   "execution_count": 11,
   "metadata": {},
   "outputs": [
    {
     "name": "stdout",
     "output_type": "stream",
     "text": [
      "enter name : Anjan\n",
      "enter age  : 27\n",
      "enter ph   : 961233343\n",
      "enter your father namekonda\n",
      "enter age  : 45\n",
      "enter ph   : 2144343\n",
      "**********your details**********\n",
      "name =  Anjan\n",
      "age  =  27\n",
      "ph   =  961233343\n",
      "*************************\n",
      "if and else block is over \n"
     ]
    }
   ],
   "source": [
    "# if and else \n",
    "\n",
    "# wap print your details when you have more 18 years other wise \n",
    "# print your father details\n",
    "name = input(\"enter name : \")\n",
    "age  = int(input(\"enter age  : \"))\n",
    "ph   = input(\"enter ph   : \")\n",
    "dad  = input(\"enter your father name\")\n",
    "age_f  = input(\"enter age  : \")\n",
    "ph_f  = input(\"enter ph   : \")\n",
    "if(age > 18):\n",
    "    print(\"**********your details**********\")\n",
    "    print(\"name = \",name)\n",
    "    print(\"age  = \",age)\n",
    "    print(\"ph   = \",ph)\n",
    "else:\n",
    "    print(\"**********your father  details**********\")\n",
    "    print(\"name = \",dad)\n",
    "    print(\"age  = \",age_f)\n",
    "    print(\"ph   = \",ph_f)\n",
    "print(\"*************************\")\n",
    "print(\"if and else block is over \")\n"
   ]
  },
  {
   "cell_type": "code",
   "execution_count": 4,
   "metadata": {},
   "outputs": [
    {
     "name": "stdout",
     "output_type": "stream",
     "text": [
      "enter s1 markss : 78\n",
      "enter s2 markss : 89\n",
      "enter s3 markss : 45\n",
      "enter s4 markss : 52\n",
      "enter s5 markss : 61\n",
      "percentage =  65.0\n",
      "A Grade\n"
     ]
    }
   ],
   "source": [
    "# elif ladder \n",
    "# wap find gradding  system for students \n",
    "\n",
    "s1 = int(input(\"enter s1 markss : \"))\n",
    "s2 = int(input(\"enter s2 markss : \"))\n",
    "s3 = int(input(\"enter s3 markss : \"))\n",
    "s4 = int(input(\"enter s4 markss : \"))\n",
    "s5 = int(input(\"enter s5 markss : \"))\n",
    "tot = float(s1+s2+s3+s4+s5)\n",
    "avg = tot / 500\n",
    "per = avg * 100\n",
    "print(\"percentage = \",per)\n",
    "if(per >= 70 ):\n",
    "    print (\"A + Distinction\")\n",
    "elif(per >= 60):\n",
    "    print (\"A Grade\")\n",
    "elif(per >= 50):\n",
    "    print (\"B grade\")\n",
    "elif(per >= 40):\n",
    "    print (\"C Grade\")\n",
    "else:\n",
    "    print(\"Better Luck next time\")"
   ]
  },
  {
   "cell_type": "code",
   "execution_count": 5,
   "metadata": {},
   "outputs": [
    {
     "name": "stdout",
     "output_type": "stream",
     "text": [
      "enter a : 45\n",
      "enter b : 89\n",
      "enter c : 56\n",
      "big =  89\n"
     ]
    }
   ],
   "source": [
    "# nested if \n",
    "'''\n",
    "WAP find the biggest number from 3 number \n",
    "'''\n",
    "a = int(input(\"enter a : \"))\n",
    "b = int(input(\"enter b : \"))\n",
    "c = int(input(\"enter c : \"))\n",
    "if(a > b):\n",
    "    big = a\n",
    "    if(c > a):\n",
    "        big =c\n",
    "else:\n",
    "    big =b\n",
    "    if(c > b):\n",
    "        big =c\n",
    "print(\"big = \",big)"
   ]
  },
  {
   "cell_type": "code",
   "execution_count": null,
   "metadata": {},
   "outputs": [],
   "source": [
    "# wap smallest from three numbers"
   ]
  },
  {
   "cell_type": "code",
   "execution_count": 9,
   "metadata": {},
   "outputs": [
    {
     "name": "stdout",
     "output_type": "stream",
     "text": [
      "enter year  2001\n",
      "its not a leap year \n"
     ]
    }
   ],
   "source": [
    "# wap find given year is leap year\n",
    "year = int(input(\"enter year  \"))\n",
    "if(year % 4 == 0):\n",
    "    if(year % 100 != 0):\n",
    "        print(\"its leap year\")\n",
    "    elif(year % 400 == 0):\n",
    "        print(\"its leap year\")\n",
    "    else:\n",
    "        print(\"its not a leap year\")\n",
    "        \n",
    "else:\n",
    "    print(\"its not a leap year \")"
   ]
  },
  {
   "cell_type": "code",
   "execution_count": 2,
   "metadata": {},
   "outputs": [
    {
     "name": "stdout",
     "output_type": "stream",
     "text": [
      "enter your name   : anja\n",
      "enter your age    : 27\n",
      "enter phone number : 9640987944\n",
      "how many times you wanna repeat the task 5\n",
      "*********** 1  time ******************\n",
      "Name =  anja\n",
      "age  =  27\n",
      "phone=  9640987944\n",
      "*********** 2  time ******************\n",
      "Name =  anja\n",
      "age  =  27\n",
      "phone=  9640987944\n",
      "*********** 3  time ******************\n",
      "Name =  anja\n",
      "age  =  27\n",
      "phone=  9640987944\n",
      "*********** 4  time ******************\n",
      "Name =  anja\n",
      "age  =  27\n",
      "phone=  9640987944\n",
      "*********** 5  time ******************\n",
      "Name =  anja\n",
      "age  =  27\n",
      "phone=  9640987944\n"
     ]
    }
   ],
   "source": [
    "# wap print your details 10 timess\n",
    "name = input(\"enter your name   : \")\n",
    "age  = input(\"enter your age    : \")\n",
    "ph  = input(\"enter phone number : \")\n",
    "N = int(input(\"how many times you wanna repeat the task \"))\n",
    "i = 1\n",
    "while(i <=N):\n",
    "    print(\"***********\",i,\" time ******************\")\n",
    "    print(\"Name = \",name)\n",
    "    print(\"age  = \",age)\n",
    "    print(\"phone= \",ph)\n",
    "    i = i +1"
   ]
  },
  {
   "cell_type": "code",
   "execution_count": 3,
   "metadata": {},
   "outputs": [
    {
     "name": "stdout",
     "output_type": "stream",
     "text": [
      "enter your name   : 4\n",
      "enter your age    : 4\n",
      "enter phone number : 4\n",
      "how many times you wanna repeat the task 4\n",
      "*********** 1  time ******************\n",
      "Name =  4\n",
      "age  =  4\n",
      "phone=  4\n",
      "*********** 2  time ******************\n",
      "Name =  4\n",
      "age  =  4\n",
      "phone=  4\n",
      "*********** 3  time ******************\n",
      "Name =  4\n",
      "age  =  4\n",
      "phone=  4\n",
      "*********** 4  time ******************\n",
      "Name =  4\n",
      "age  =  4\n",
      "phone=  4\n",
      "when the condition was fails i can perform the task\n",
      "while loop is over\n"
     ]
    }
   ],
   "source": [
    "# wap print your details 10 timess\n",
    "name = input(\"enter your name   : \")\n",
    "age  = input(\"enter your age    : \")\n",
    "ph  = input(\"enter phone number : \")\n",
    "N = int(input(\"how many times you wanna repeat the task \"))\n",
    "i = 1\n",
    "while(i <=N):\n",
    "    print(\"***********\",i,\" time ******************\")\n",
    "    print(\"Name = \",name)\n",
    "    print(\"age  = \",age)\n",
    "    print(\"phone= \",ph)\n",
    "    i = i +1\n",
    "else:\n",
    "    print(\"when the condition was fails i can perform the task\")\n",
    "print(\"while loop is over\")"
   ]
  },
  {
   "cell_type": "code",
   "execution_count": 5,
   "metadata": {},
   "outputs": [
    {
     "name": "stdout",
     "output_type": "stream",
     "text": [
      "what table you want it :  9\n",
      "9  *  1  =  9\n",
      "9  *  2  =  18\n",
      "9  *  3  =  27\n",
      "9  *  4  =  36\n",
      "9  *  5  =  45\n",
      "9  *  6  =  54\n",
      "9  *  7  =  63\n",
      "9  *  8  =  72\n",
      "9  *  9  =  81\n",
      "9  *  10  =  90\n"
     ]
    }
   ],
   "source": [
    "# wap print the multiplication table for user entered number\n",
    "'''\n",
    "input :  5\n",
    "\n",
    "output :\n",
    "\n",
    "5 * 1 = 5\n",
    "5 * 2 = 10\n",
    "5 * 3 = 15\n",
    "---\n",
    "---\n",
    "----\n",
    "5 * 10 = 50\n",
    "\n",
    "'''\n",
    "N = int(input(\"what table you want it :  \"))\n",
    "i = 1\n",
    "while(i <=10):\n",
    "    print(N,\" * \",i,\" = \",N*i)\n",
    "    i = i +1"
   ]
  },
  {
   "cell_type": "code",
   "execution_count": 9,
   "metadata": {},
   "outputs": [
    {
     "name": "stdout",
     "output_type": "stream",
     "text": [
      "enter your target number : 11\n",
      "factor =  1\n",
      "factor =  11\n",
      "total no of factors are :  2\n"
     ]
    }
   ],
   "source": [
    "# find the no of factor and dislay the factor of any number\n",
    "'''\n",
    "input :  6\n",
    "\n",
    "factor = 1\n",
    "factor = 2\n",
    "factor = 3\n",
    "factor = 6\n",
    "\n",
    "total number of factors are : 4\n",
    "\n",
    "'''\n",
    "\n",
    "N = int(input(\"enter your target number : \"))\n",
    "i = 1\n",
    "sum =0\n",
    "while(i <=N):\n",
    "    if(N % i == 0):\n",
    "        print(\"factor = \",i)\n",
    "        sum = sum+1\n",
    "    i = i +1\n",
    "else:\n",
    "    print(\"total no of factors are : \",sum)"
   ]
  },
  {
   "cell_type": "code",
   "execution_count": null,
   "metadata": {},
   "outputs": [],
   "source": [
    "# wap find given number is prime number or not \n"
   ]
  },
  {
   "cell_type": "code",
   "execution_count": 6,
   "metadata": {},
   "outputs": [
    {
     "name": "stdout",
     "output_type": "stream",
     "text": [
      "enter no fibonic elements : 5\n",
      "0  1  1  2  3  "
     ]
    }
   ],
   "source": [
    "# generate the fibonic series  10\n",
    "#0  1  1  2  3  5  8  13   21 34 \n",
    "N =int(input(\"enter no fibonic elements : \"))\n",
    "a =0\n",
    "b =1\n",
    "for var in range(N):\n",
    "    print(a,end =\"  \")\n",
    "    c =a+b ; a = b; b=c\n",
    "    \n"
   ]
  },
  {
   "cell_type": "code",
   "execution_count": null,
   "metadata": {},
   "outputs": [],
   "source": []
  },
  {
   "cell_type": "code",
   "execution_count": 1,
   "metadata": {},
   "outputs": [
    {
     "name": "stdout",
     "output_type": "stream",
     "text": [
      "enter seq data : python program\n",
      "len of  python program  is  14\n"
     ]
    }
   ],
   "source": [
    "# wap find len of any seq data element\n",
    "'''\n",
    "run this program with list , str, set, tuple, dict\n",
    "\n",
    "'''\n",
    "seq = input(\"enter seq data : \")\n",
    "le = 0\n",
    "for var in seq:\n",
    "    le =le+1\n",
    "else:\n",
    "    print(\"len of \",seq,\" is \",le)"
   ]
  },
  {
   "cell_type": "code",
   "execution_count": 2,
   "metadata": {},
   "outputs": [
    {
     "name": "stdout",
     "output_type": "stream",
     "text": [
      "enter N value : 100\n",
      "sum of  100  natural numbers are  5050\n"
     ]
    }
   ],
   "source": [
    "# wap find the sum of 1st N Natural numbers \n",
    "N = int(input(\"enter N value : \"))\n",
    "sum =0\n",
    "for i in range(1,N+1):\n",
    "    sum =sum +i\n",
    "else:\n",
    "    print(\"sum of \",N,\" natural numbers are \",sum)\n",
    "    \n",
    "    "
   ]
  },
  {
   "cell_type": "code",
   "execution_count": 8,
   "metadata": {},
   "outputs": [],
   "source": [
    "# pass\n",
    "'''\n",
    "To pass the block, whenever we don't have \n",
    "any statements then simply we can use pass\n",
    "\n",
    "'''\n",
    "N = 10\n",
    "for i in range(N):\n",
    "    pass"
   ]
  },
  {
   "cell_type": "code",
   "execution_count": 11,
   "metadata": {},
   "outputs": [
    {
     "name": "stdout",
     "output_type": "stream",
     "text": [
      "0   1   2   3   4   6   7   8   9   "
     ]
    }
   ],
   "source": [
    "# continue keyword\n",
    "'''\n",
    "to skip current iteration and continue the next iteration\n",
    "'''\n",
    "for i in range(10):\n",
    "    if(i == 5):\n",
    "        continue\n",
    "    print (i,end=\"   \")"
   ]
  },
  {
   "cell_type": "code",
   "execution_count": 15,
   "metadata": {},
   "outputs": [
    {
     "name": "stdout",
     "output_type": "stream",
     "text": [
      "0   1   2   3   4   5   6   7   8   "
     ]
    }
   ],
   "source": [
    "# break keyword \n",
    "'''\n",
    "to stop all iteration \n",
    "'''\n",
    "for i in range(10):\n",
    "    if(i == 9):\n",
    "        break\n",
    "    print (i,end=\"   \")\n",
    "else:\n",
    "    print(\"\\nno more updatation\")"
   ]
  },
  {
   "cell_type": "code",
   "execution_count": null,
   "metadata": {},
   "outputs": [],
   "source": [
    "# wap find the number of digits in a  decimal number using \n",
    "# while and for loop\n"
   ]
  },
  {
   "cell_type": "code",
   "execution_count": null,
   "metadata": {},
   "outputs": [],
   "source": [
    "# wap sum of digits in a number \n"
   ]
  },
  {
   "cell_type": "code",
   "execution_count": null,
   "metadata": {},
   "outputs": [],
   "source": [
    "# wap reverse of a number "
   ]
  },
  {
   "cell_type": "code",
   "execution_count": 2,
   "metadata": {},
   "outputs": [
    {
     "name": "stdout",
     "output_type": "stream",
     "text": [
      "enter num : 123\n",
      "123  reversed  321\n",
      "given number is not palidrom\n"
     ]
    }
   ],
   "source": [
    "# find given number id palindrom or not \n",
    "\n",
    "num = int(input(\"enter num : \"))\n",
    "temp = num\n",
    "rev = 0\n",
    "while(temp != 0):\n",
    "    rem = temp % 10\n",
    "    rev = rev*10 + rem\n",
    "    temp = temp //10\n",
    "else:\n",
    "    print(num,\" reversed \",rev)\n",
    "if(rev == num):\n",
    "    print(\"given number is palidrom\")\n",
    "else:\n",
    "    print(\"given number is not palidrom\")"
   ]
  },
  {
   "cell_type": "code",
   "execution_count": 6,
   "metadata": {},
   "outputs": [
    {
     "name": "stdout",
     "output_type": "stream",
     "text": [
      "enter num : 454\n",
      "454  reversed  454\n",
      "given number is palidrom\n"
     ]
    }
   ],
   "source": [
    "# find given number id palindrom or not \n",
    "\n",
    "num = int(input(\"enter num : \"))\n",
    "num = str(num)\n",
    "posi= 1\n",
    "rev =0\n",
    "for ele in num:\n",
    "    rev = posi*int(e+i*10 \n",
    "    \n",
    "else:\n",
    "    print(num,\" reversed \",rev)\n",
    "if(rev == int(num)):\n",
    "    print(\"given number is palidrom\")\n",
    "else:\n",
    "    print(\"given number is not palidrom\")"
   ]
  },
  {
   "cell_type": "code",
   "execution_count": 12,
   "metadata": {},
   "outputs": [
    {
     "name": "stdout",
     "output_type": "stream",
     "text": [
      "enter num1 : 1\n",
      "enter num2 : 20\n",
      "2  is prime number \n",
      "3  is prime number \n",
      "5  is prime number \n",
      "7  is prime number \n",
      "11  is prime number \n",
      "13  is prime number \n",
      "17  is prime number \n",
      "19  is prime number \n"
     ]
    }
   ],
   "source": [
    "# wap find the prime numbers in between 10 to 100\n",
    "num1 = int(input(\"enter num1 : \"))\n",
    "num2 = int(input(\"enter num2 : \"))\n",
    "for num in range(num1,num2):\n",
    "    i = 2\n",
    "    if(num == 1):\n",
    "        continue\n",
    "    while(i<num):\n",
    "        if(num %i == 0):\n",
    "            break\n",
    "        i = i+1\n",
    "    else:\n",
    "        print(num,\" is prime number \")"
   ]
  }
 ],
 "metadata": {
  "kernelspec": {
   "display_name": "Python 3",
   "language": "python",
   "name": "python3"
  },
  "language_info": {
   "codemirror_mode": {
    "name": "ipython",
    "version": 3
   },
   "file_extension": ".py",
   "mimetype": "text/x-python",
   "name": "python",
   "nbconvert_exporter": "python",
   "pygments_lexer": "ipython3",
   "version": "3.7.0"
  }
 },
 "nbformat": 4,
 "nbformat_minor": 2
}
