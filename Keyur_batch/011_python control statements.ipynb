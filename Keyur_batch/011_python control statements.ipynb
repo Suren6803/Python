{
 "cells": [
  {
   "cell_type": "markdown",
   "metadata": {},
   "source": [
    "# condition Statements\n"
   ]
  },
  {
   "cell_type": "code",
   "execution_count": 3,
   "metadata": {},
   "outputs": [
    {
     "name": "stdout",
     "output_type": "stream",
     "text": [
      "enter name : xyz\n",
      "enter age  : 8\n",
      "enter ph   : xyz\n",
      "if block is over \n"
     ]
    }
   ],
   "source": [
    "# wap print your details when you have more 18 years \n",
    "name = input(\"enter name : \")\n",
    "age  = int(input(\"enter age  : \"))\n",
    "ph   = input(\"enter ph   : \")\n",
    "if(age > 18):\n",
    "    print(\"name = \",name)\n",
    "    print(\"age  = \",age)\n",
    "    print(\"ph   = \",ph)\n",
    "print(\"if block is over \")"
   ]
  },
  {
   "cell_type": "code",
   "execution_count": 6,
   "metadata": {},
   "outputs": [
    {
     "name": "stdout",
     "output_type": "stream",
     "text": [
      "enter radius in meters : 11\n",
      "if block is over\n"
     ]
    }
   ],
   "source": [
    "# wap find area of circle and perimeter of the circle when radius \n",
    "# of the circle is even\n",
    "\n",
    "rad = int(input(\"enter radius in meters : \"))\n",
    "if(rad % 2 == 0):\n",
    "    area = (22 /7)*rad*rad\n",
    "    peri = 2 * (22/7)*rad\n",
    "    print(\"area of circle is : \",area,\" sq m\")\n",
    "    print(\"perimeter of circle : \",peri,\" meters\")\n",
    "print(\"if block is over\")"
   ]
  },
  {
   "cell_type": "code",
   "execution_count": 11,
   "metadata": {},
   "outputs": [
    {
     "name": "stdout",
     "output_type": "stream",
     "text": [
      "enter name : Anjan\n",
      "enter age  : 27\n",
      "enter ph   : 961233343\n",
      "enter your father namekonda\n",
      "enter age  : 45\n",
      "enter ph   : 2144343\n",
      "**********your details**********\n",
      "name =  Anjan\n",
      "age  =  27\n",
      "ph   =  961233343\n",
      "*************************\n",
      "if and else block is over \n"
     ]
    }
   ],
   "source": [
    "# if and else \n",
    "\n",
    "# wap print your details when you have more 18 years other wise \n",
    "# print your father details\n",
    "name = input(\"enter name : \")\n",
    "age  = int(input(\"enter age  : \"))\n",
    "ph   = input(\"enter ph   : \")\n",
    "dad  = input(\"enter your father name\")\n",
    "age_f  = input(\"enter age  : \")\n",
    "ph_f  = input(\"enter ph   : \")\n",
    "if(age > 18):\n",
    "    print(\"**********your details**********\")\n",
    "    print(\"name = \",name)\n",
    "    print(\"age  = \",age)\n",
    "    print(\"ph   = \",ph)\n",
    "else:\n",
    "    print(\"**********your father  details**********\")\n",
    "    print(\"name = \",dad)\n",
    "    print(\"age  = \",age_f)\n",
    "    print(\"ph   = \",ph_f)\n",
    "print(\"*************************\")\n",
    "print(\"if and else block is over \")\n"
   ]
  },
  {
   "cell_type": "code",
   "execution_count": null,
   "metadata": {},
   "outputs": [],
   "source": []
  }
 ],
 "metadata": {
  "kernelspec": {
   "display_name": "Python 3",
   "language": "python",
   "name": "python3"
  },
  "language_info": {
   "codemirror_mode": {
    "name": "ipython",
    "version": 3
   },
   "file_extension": ".py",
   "mimetype": "text/x-python",
   "name": "python",
   "nbconvert_exporter": "python",
   "pygments_lexer": "ipython3",
   "version": "3.7.0"
  }
 },
 "nbformat": 4,
 "nbformat_minor": 2
}
