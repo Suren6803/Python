{
 "cells": [
  {
   "cell_type": "code",
   "execution_count": 2,
   "metadata": {},
   "outputs": [
    {
     "name": "stdout",
     "output_type": "stream",
     "text": [
      "******1st time **********\n",
      "enter name : anjan\n",
      "enter ph   : 27\n",
      "enter age  : 27\n",
      "name =  anjan\n",
      "phone=  27\n",
      "age  =  27\n",
      "******2st time **********\n",
      "enter name : vijay\n",
      "enter ph   : 01023175\n",
      "enter age  : 30\n",
      "name =  vijay\n",
      "phone=  01023175\n",
      "age  =  30\n",
      "******3rd time **********\n",
      "enter name : pawan\n",
      "enter ph   : 4i3458945\n",
      "enter age  : 28\n",
      "name =  pawan\n",
      "phone=  4i3458945\n",
      "age  =  28\n"
     ]
    }
   ],
   "source": [
    "# waf print your details \n",
    "def details():\n",
    "    name = input(\"enter name : \")\n",
    "    ph   = input(\"enter ph   : \")\n",
    "    age  = input(\"enter age  : \")\n",
    "    print(\"name = \",name)\n",
    "    print(\"phone= \",ph)\n",
    "    print(\"age  = \",age)\n",
    "print(\"******1st time **********\")\n",
    "details()\n",
    "print(\"******2st time **********\")\n",
    "details()\n",
    "print(\"******3rd time **********\")\n",
    "details()"
   ]
  },
  {
   "cell_type": "code",
   "execution_count": 5,
   "metadata": {},
   "outputs": [
    {
     "name": "stdout",
     "output_type": "stream",
     "text": [
      "***** addition function********\n",
      "enter a : 78\n",
      "enter b : 12\n",
      "78  +  12  =  90\n",
      "**** subtraction functiob******\n",
      "enter x : 50\n",
      "enter y : 30\n",
      "50  -  30  =  20\n"
     ]
    }
   ],
   "source": [
    "# addition / substrction  independent function\n",
    "def sub():\n",
    "    x = int(input(\"enter x : \"))\n",
    "    y = int(input(\"enter y : \"))\n",
    "    print(x,\" - \",y,\" = \",x-y)\n",
    "def add():\n",
    "    a = int(input(\"enter a : \"))\n",
    "    b = int(input(\"enter b : \"))\n",
    "    print(a,\" + \",b,\" = \",a+b)\n",
    "print(\"***** addition function********\")\n",
    "add()\n",
    "print(\"**** subtraction functiob******\")\n",
    "sub()"
   ]
  },
  {
   "cell_type": "code",
   "execution_count": 6,
   "metadata": {},
   "outputs": [
    {
     "name": "stdout",
     "output_type": "stream",
     "text": [
      "***** addition function********\n",
      "enter a : 78\n",
      "enter b : 12\n",
      "**** subtraction functiob******\n",
      "enter x : 50\n",
      "enter y : 30\n",
      "50  -  30  =  20\n",
      "78  +  12  =  90\n"
     ]
    }
   ],
   "source": [
    "# addition / substrction  dependent function\n",
    "def sub():\n",
    "    x = int(input(\"enter x : \"))\n",
    "    y = int(input(\"enter y : \"))\n",
    "    print(x,\" - \",y,\" = \",x-y)\n",
    "def add():\n",
    "    a = int(input(\"enter a : \"))\n",
    "    b = int(input(\"enter b : \"))\n",
    "    print(\"**** subtraction functiob******\")\n",
    "    sub()\n",
    "    print(a,\" + \",b,\" = \",a+b)\n",
    "print(\"***** addition function********\")\n",
    "add()\n"
   ]
  },
  {
   "cell_type": "code",
   "execution_count": 7,
   "metadata": {},
   "outputs": [
    {
     "name": "stdout",
     "output_type": "stream",
     "text": [
      "***** addition function********\n",
      "enter a : 12\n",
      "enter b : 18\n",
      "12  +  18  =  30\n",
      "**** subtraction functiob******\n",
      "enter x : 20\n",
      "enter y : 10\n",
      "20  -  10  =  10\n"
     ]
    }
   ],
   "source": [
    "def sub():\n",
    "    x = int(input(\"enter x : \"))\n",
    "    y = int(input(\"enter y : \"))\n",
    "    print(x,\" - \",y,\" = \",x-y)\n",
    "def add():\n",
    "    a = int(input(\"enter a : \"))\n",
    "    b = int(input(\"enter b : \"))\n",
    "    print(a,\" + \",b,\" = \",a+b)\n",
    "\n",
    "def main():\n",
    "    print(\"***** addition function********\")\n",
    "    add()\n",
    "    print(\"**** subtraction functiob******\")\n",
    "    sub()\n",
    "if(__name__ == \"__main__\"):\n",
    "    # main block \n",
    "    main()"
   ]
  },
  {
   "cell_type": "code",
   "execution_count": 1,
   "metadata": {},
   "outputs": [
    {
     "name": "stdout",
     "output_type": "stream",
     "text": [
      "enter a : 45\n",
      "enter b : 5\n",
      "*****adddition*******\n",
      "45  +  5  =  50\n",
      "****** suntraction******\n",
      "45  -  5  =  40\n",
      "***** multiplication******\n",
      "45  *  5  =  225\n",
      "***** division ***********\n",
      "45  /  5  =  9.0\n"
     ]
    }
   ],
   "source": [
    "# waf for addition , suntraction, multiplication, division etc \n",
    "def add(x,y):\n",
    "    res = x+y\n",
    "    print(x,\" + \",y,\" = \",res)\n",
    "def sub(x,y):\n",
    "    res = x-y\n",
    "    print(x,\" - \",y,\" = \",res)\n",
    "def mul(x,y):\n",
    "    res = x*y\n",
    "    print(x,\" * \",y,\" = \",res)\n",
    "def div(x,y):\n",
    "    res = x/y\n",
    "    print(x,\" / \",y,\" = \",res)\n",
    "def main():\n",
    "    a = int(input(\"enter a : \"))\n",
    "    b = int(input(\"enter b : \"))\n",
    "    print(\"*****adddition*******\")\n",
    "    add(a,b)\n",
    "    print(\"****** suntraction******\")\n",
    "    sub(a,b)\n",
    "    print(\"***** multiplication******\")\n",
    "    mul(a,b)\n",
    "    print(\"***** division ***********\")\n",
    "    div(a,b)\n",
    "if(__name__ == \"__main__\"):\n",
    "    main()"
   ]
  },
  {
   "cell_type": "code",
   "execution_count": 3,
   "metadata": {},
   "outputs": [
    {
     "ename": "TypeError",
     "evalue": "fun() missing 2 required positional arguments: 'x' and 'y'",
     "output_type": "error",
     "traceback": [
      "\u001b[1;31m---------------------------------------------------------------------------\u001b[0m",
      "\u001b[1;31mTypeError\u001b[0m                                 Traceback (most recent call last)",
      "\u001b[1;32m<ipython-input-3-b438623ce98b>\u001b[0m in \u001b[0;36m<module>\u001b[1;34m()\u001b[0m\n\u001b[0;32m      2\u001b[0m     \u001b[0mprint\u001b[0m\u001b[1;33m(\u001b[0m\u001b[1;34m\"x = \"\u001b[0m\u001b[1;33m,\u001b[0m\u001b[0mx\u001b[0m\u001b[1;33m)\u001b[0m\u001b[1;33m\u001b[0m\u001b[0m\n\u001b[0;32m      3\u001b[0m     \u001b[0mprint\u001b[0m\u001b[1;33m(\u001b[0m\u001b[1;34m\"y = \"\u001b[0m\u001b[1;33m,\u001b[0m\u001b[0my\u001b[0m\u001b[1;33m)\u001b[0m\u001b[1;33m\u001b[0m\u001b[0m\n\u001b[1;32m----> 4\u001b[1;33m \u001b[0mfun\u001b[0m\u001b[1;33m(\u001b[0m\u001b[1;33m)\u001b[0m\u001b[1;33m\u001b[0m\u001b[0m\n\u001b[0m",
      "\u001b[1;31mTypeError\u001b[0m: fun() missing 2 required positional arguments: 'x' and 'y'"
     ]
    }
   ],
   "source": [
    "def fun(x,y):\n",
    "    print(\"x = \",x)\n",
    "    print(\"y = \",y)\n",
    "fun()"
   ]
  },
  {
   "cell_type": "code",
   "execution_count": 4,
   "metadata": {},
   "outputs": [
    {
     "name": "stdout",
     "output_type": "stream",
     "text": [
      "x =  123\n",
      "y =  456\n"
     ]
    }
   ],
   "source": [
    "# default arguments\n",
    "def fun(x =123,y=456):  # default formal data\n",
    "    print(\"x = \",x)\n",
    "    print(\"y = \",y)\n",
    "fun() # no actual data "
   ]
  },
  {
   "cell_type": "code",
   "execution_count": 5,
   "metadata": {},
   "outputs": [
    {
     "name": "stdout",
     "output_type": "stream",
     "text": [
      "x =  12\n",
      "y =  67\n"
     ]
    }
   ],
   "source": [
    "# default arguments\n",
    "def fun(x =123,y=456):  # default formal data\n",
    "    print(\"x = \",x)\n",
    "    print(\"y = \",y)\n",
    "fun(12,67) # actual data "
   ]
  },
  {
   "cell_type": "code",
   "execution_count": 6,
   "metadata": {},
   "outputs": [
    {
     "ename": "TypeError",
     "evalue": "pack() takes 1 positional argument but 6 were given",
     "output_type": "error",
     "traceback": [
      "\u001b[1;31m---------------------------------------------------------------------------\u001b[0m",
      "\u001b[1;31mTypeError\u001b[0m                                 Traceback (most recent call last)",
      "\u001b[1;32m<ipython-input-6-cceae3218d53>\u001b[0m in \u001b[0;36m<module>\u001b[1;34m()\u001b[0m\n\u001b[0;32m      3\u001b[0m \u001b[1;32mdef\u001b[0m \u001b[0mpack\u001b[0m\u001b[1;33m(\u001b[0m\u001b[0marg\u001b[0m\u001b[1;33m)\u001b[0m\u001b[1;33m:\u001b[0m\u001b[1;33m\u001b[0m\u001b[0m\n\u001b[0;32m      4\u001b[0m     \u001b[0mprint\u001b[0m\u001b[1;33m(\u001b[0m\u001b[0marg\u001b[0m\u001b[1;33m)\u001b[0m\u001b[1;33m\u001b[0m\u001b[0m\n\u001b[1;32m----> 5\u001b[1;33m \u001b[0mpack\u001b[0m\u001b[1;33m(\u001b[0m\u001b[1;36m1\u001b[0m\u001b[1;33m,\u001b[0m\u001b[1;36m4\u001b[0m\u001b[1;33m,\u001b[0m\u001b[1;36m9\u001b[0m\u001b[1;33m,\u001b[0m\u001b[1;36m3\u001b[0m\u001b[1;33m,\u001b[0m\u001b[1;36m90\u001b[0m\u001b[1;33m,\u001b[0m\u001b[1;36m34\u001b[0m\u001b[1;33m)\u001b[0m\u001b[1;33m\u001b[0m\u001b[0m\n\u001b[0m",
      "\u001b[1;31mTypeError\u001b[0m: pack() takes 1 positional argument but 6 were given"
     ]
    }
   ],
   "source": [
    "# packing \n",
    "\n",
    "def pack(arg):\n",
    "    print(arg)\n",
    "pack(1,4,9,3,90,34)"
   ]
  },
  {
   "cell_type": "code",
   "execution_count": 13,
   "metadata": {},
   "outputs": [
    {
     "name": "stdout",
     "output_type": "stream",
     "text": [
      "<class 'tuple'>\n",
      "9\n",
      "141\n",
      "90\n",
      "6\n"
     ]
    }
   ],
   "source": [
    "# packing \n",
    "\n",
    "def pack(*arg):\n",
    "    print(type(arg))\n",
    "    print(arg[2])\n",
    "    print(sum(arg))\n",
    "    print(max(arg))\n",
    "    print(len(arg))\n",
    "pack(1,4,9,3,90,34)"
   ]
  },
  {
   "cell_type": "code",
   "execution_count": 15,
   "metadata": {},
   "outputs": [
    {
     "ename": "TypeError",
     "evalue": "fun() missing 2 required positional arguments: 'y' and 'z'",
     "output_type": "error",
     "traceback": [
      "\u001b[1;31m---------------------------------------------------------------------------\u001b[0m",
      "\u001b[1;31mTypeError\u001b[0m                                 Traceback (most recent call last)",
      "\u001b[1;32m<ipython-input-15-bcdb76dfca58>\u001b[0m in \u001b[0;36m<module>\u001b[1;34m()\u001b[0m\n\u001b[0;32m      3\u001b[0m     \u001b[0mprint\u001b[0m\u001b[1;33m(\u001b[0m\u001b[0mb\u001b[0m\u001b[1;33m)\u001b[0m\u001b[1;33m\u001b[0m\u001b[0m\n\u001b[0;32m      4\u001b[0m \u001b[0ma\u001b[0m \u001b[1;33m=\u001b[0m \u001b[1;33m[\u001b[0m\u001b[1;36m1\u001b[0m\u001b[1;33m,\u001b[0m\u001b[1;36m2\u001b[0m\u001b[1;33m,\u001b[0m\u001b[1;36m3\u001b[0m\u001b[1;33m]\u001b[0m\u001b[1;33m\u001b[0m\u001b[0m\n\u001b[1;32m----> 5\u001b[1;33m \u001b[0mfun\u001b[0m\u001b[1;33m(\u001b[0m\u001b[0ma\u001b[0m\u001b[1;33m)\u001b[0m\u001b[1;33m\u001b[0m\u001b[0m\n\u001b[0m",
      "\u001b[1;31mTypeError\u001b[0m: fun() missing 2 required positional arguments: 'y' and 'z'"
     ]
    }
   ],
   "source": [
    "# unpacking \n",
    "def fun(x,y,z):\n",
    "    print(b)\n",
    "a = [1,2,3]\n",
    "fun(a)"
   ]
  },
  {
   "cell_type": "code",
   "execution_count": 16,
   "metadata": {},
   "outputs": [
    {
     "name": "stdout",
     "output_type": "stream",
     "text": [
      "1\n",
      "2\n",
      "3\n"
     ]
    }
   ],
   "source": [
    "# unpacking \n",
    "def fun(x,y,z):\n",
    "    print(x)\n",
    "    print(y)\n",
    "    print(z)\n",
    "a = [1,2,3]\n",
    "fun(*a)"
   ]
  },
  {
   "cell_type": "code",
   "execution_count": 19,
   "metadata": {},
   "outputs": [
    {
     "name": "stdout",
     "output_type": "stream",
     "text": [
      "enter some data 78\n",
      "a ==>> x is =  78\n"
     ]
    }
   ],
   "source": [
    "def fun():\n",
    "    x= input(\"enter some data \")\n",
    "    return x\n",
    "    print(\"i am anjan kumar\")\n",
    "a = fun()\n",
    "print(\"a ==>> x is = \",a)"
   ]
  },
  {
   "cell_type": "code",
   "execution_count": 24,
   "metadata": {},
   "outputs": [
    {
     "name": "stdout",
     "output_type": "stream",
     "text": [
      "enter factorail number : 4\n",
      "fact of  4  is   24\n"
     ]
    }
   ],
   "source": [
    "# factorai function using recursive\n",
    "# 5! --> 120\n",
    "def factorial(n =5):\n",
    "    if(n < 0):\n",
    "        return None\n",
    "    elif(n == 0 or n ==1):\n",
    "        return 1\n",
    "    else:\n",
    "        return n * factorial(n-1)\n",
    "def main():\n",
    "    x = int(input(\"enter factorail number : \"))\n",
    "    fact = factorial(x)\n",
    "    print(\"fact of \",x,\" is  \",fact)\n",
    "if(__name__ == \"__main__\"):\n",
    "    main()"
   ]
  }
 ],
 "metadata": {
  "kernelspec": {
   "display_name": "Python 3",
   "language": "python",
   "name": "python3"
  },
  "language_info": {
   "codemirror_mode": {
    "name": "ipython",
    "version": 3
   },
   "file_extension": ".py",
   "mimetype": "text/x-python",
   "name": "python",
   "nbconvert_exporter": "python",
   "pygments_lexer": "ipython3",
   "version": "3.7.0"
  }
 },
 "nbformat": 4,
 "nbformat_minor": 2
}
