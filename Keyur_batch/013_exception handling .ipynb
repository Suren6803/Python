{
 "cells": [
  {
   "cell_type": "markdown",
   "metadata": {},
   "source": [
    "# ERROR\n",
    "\n",
    "----> When if we not follow the structure while wrtiting instructions \n",
    "\n",
    "\n",
    "# There are 2 types \n",
    "\n",
    "1. Syntax error :-\n",
    "----------------\n",
    "----> while interpretation time we will get this error\n",
    "\n",
    "2. Runtime Error :-\n",
    "\n",
    "---> while execution time we will get some errors"
   ]
  },
  {
   "cell_type": "code",
   "execution_count": 1,
   "metadata": {},
   "outputs": [
    {
     "name": "stdout",
     "output_type": "stream",
     "text": [
      "hello\n",
      "hai\n",
      "bye\n"
     ]
    }
   ],
   "source": [
    "#1. No Syntax error/ runtime  error :-\n",
    "#----------------\n",
    "print(\"hello\")\n",
    "print(\"hai\")\n",
    "print(\"bye\")"
   ]
  },
  {
   "cell_type": "code",
   "execution_count": 2,
   "metadata": {},
   "outputs": [
    {
     "ename": "SyntaxError",
     "evalue": "EOL while scanning string literal (<ipython-input-2-559f20d3cae8>, line 3)",
     "output_type": "error",
     "traceback": [
      "\u001b[1;36m  File \u001b[1;32m\"<ipython-input-2-559f20d3cae8>\"\u001b[1;36m, line \u001b[1;32m3\u001b[0m\n\u001b[1;33m    print(\"hello')\u001b[0m\n\u001b[1;37m                  ^\u001b[0m\n\u001b[1;31mSyntaxError\u001b[0m\u001b[1;31m:\u001b[0m EOL while scanning string literal\n"
     ]
    }
   ],
   "source": [
    "#1. Syntax error\n",
    "#----------------\n",
    "print(\"hello')\n",
    "print(\"hai\")\n",
    "print(\"bye\")"
   ]
  },
  {
   "cell_type": "code",
   "execution_count": 5,
   "metadata": {},
   "outputs": [
    {
     "ename": "IndentationError",
     "evalue": "unexpected indent (<ipython-input-5-b66c41008713>, line 5)",
     "output_type": "error",
     "traceback": [
      "\u001b[1;36m  File \u001b[1;32m\"<ipython-input-5-b66c41008713>\"\u001b[1;36m, line \u001b[1;32m5\u001b[0m\n\u001b[1;33m    print(\"hai\")\u001b[0m\n\u001b[1;37m    ^\u001b[0m\n\u001b[1;31mIndentationError\u001b[0m\u001b[1;31m:\u001b[0m unexpected indent\n"
     ]
    }
   ],
   "source": [
    "#1. Syntax error\n",
    "#----------------\n",
    "if(True):\n",
    "    print(\"hello\")\n",
    "      print(\"hai\")\n",
    "    print(\"bye\")"
   ]
  },
  {
   "cell_type": "code",
   "execution_count": 7,
   "metadata": {},
   "outputs": [
    {
     "name": "stdout",
     "output_type": "stream",
     "text": [
      "hello\n",
      "hai\n",
      "bye\n"
     ]
    }
   ],
   "source": [
    "#1. Syntax error\n",
    "#----------------\n",
    "print(\"hello\")\n",
    "print(\"hai\")\n",
    "print(\"bye\")"
   ]
  },
  {
   "cell_type": "code",
   "execution_count": 8,
   "metadata": {},
   "outputs": [
    {
     "name": "stdout",
     "output_type": "stream",
     "text": [
      "hello\n",
      "12\n",
      "bye\n"
     ]
    }
   ],
   "source": [
    "# run time error\n",
    "print(\"hello\")\n",
    "print(int(12.45))\n",
    "print(\"bye\")"
   ]
  },
  {
   "cell_type": "code",
   "execution_count": 9,
   "metadata": {},
   "outputs": [
    {
     "name": "stdout",
     "output_type": "stream",
     "text": [
      "hello\n"
     ]
    },
    {
     "ename": "TypeError",
     "evalue": "can't convert complex to int",
     "output_type": "error",
     "traceback": [
      "\u001b[1;31m---------------------------------------------------------------------------\u001b[0m",
      "\u001b[1;31mTypeError\u001b[0m                                 Traceback (most recent call last)",
      "\u001b[1;32m<ipython-input-9-2cb458ff05e0>\u001b[0m in \u001b[0;36m<module>\u001b[1;34m()\u001b[0m\n\u001b[0;32m      1\u001b[0m \u001b[1;31m# run time error\u001b[0m\u001b[1;33m\u001b[0m\u001b[1;33m\u001b[0m\u001b[0m\n\u001b[0;32m      2\u001b[0m \u001b[0mprint\u001b[0m\u001b[1;33m(\u001b[0m\u001b[1;34m\"hello\"\u001b[0m\u001b[1;33m)\u001b[0m\u001b[1;33m\u001b[0m\u001b[0m\n\u001b[1;32m----> 3\u001b[1;33m \u001b[0mprint\u001b[0m\u001b[1;33m(\u001b[0m\u001b[0mint\u001b[0m\u001b[1;33m(\u001b[0m\u001b[1;36m12\u001b[0m \u001b[1;33m+\u001b[0m \u001b[1;36m34j\u001b[0m\u001b[1;33m)\u001b[0m\u001b[1;33m)\u001b[0m\u001b[1;33m\u001b[0m\u001b[0m\n\u001b[0m\u001b[0;32m      4\u001b[0m \u001b[0mprint\u001b[0m\u001b[1;33m(\u001b[0m\u001b[1;34m\"bye\"\u001b[0m\u001b[1;33m)\u001b[0m\u001b[1;33m\u001b[0m\u001b[0m\n",
      "\u001b[1;31mTypeError\u001b[0m: can't convert complex to int"
     ]
    }
   ],
   "source": [
    "# run time error\n",
    "print(\"hello\")\n",
    "print(int(12 + 34j))\n",
    "print(\"bye\")"
   ]
  },
  {
   "cell_type": "code",
   "execution_count": 10,
   "metadata": {
    "scrolled": true
   },
   "outputs": [
    {
     "name": "stdout",
     "output_type": "stream",
     "text": [
      "hello\n"
     ]
    },
    {
     "ename": "ValueError",
     "evalue": "invalid literal for int() with base 10: '12 + 34j'",
     "output_type": "error",
     "traceback": [
      "\u001b[1;31m---------------------------------------------------------------------------\u001b[0m",
      "\u001b[1;31mValueError\u001b[0m                                Traceback (most recent call last)",
      "\u001b[1;32m<ipython-input-10-0afb91b3ade9>\u001b[0m in \u001b[0;36m<module>\u001b[1;34m()\u001b[0m\n\u001b[0;32m      1\u001b[0m \u001b[1;31m# run time error\u001b[0m\u001b[1;33m\u001b[0m\u001b[1;33m\u001b[0m\u001b[0m\n\u001b[0;32m      2\u001b[0m \u001b[0mprint\u001b[0m\u001b[1;33m(\u001b[0m\u001b[1;34m\"hello\"\u001b[0m\u001b[1;33m)\u001b[0m\u001b[1;33m\u001b[0m\u001b[0m\n\u001b[1;32m----> 3\u001b[1;33m \u001b[0mprint\u001b[0m\u001b[1;33m(\u001b[0m\u001b[0mint\u001b[0m\u001b[1;33m(\u001b[0m\u001b[1;34m'12 + 34j'\u001b[0m\u001b[1;33m)\u001b[0m\u001b[1;33m)\u001b[0m\u001b[1;33m\u001b[0m\u001b[0m\n\u001b[0m\u001b[0;32m      4\u001b[0m \u001b[0mprint\u001b[0m\u001b[1;33m(\u001b[0m\u001b[1;34m\"bye\"\u001b[0m\u001b[1;33m)\u001b[0m\u001b[1;33m\u001b[0m\u001b[0m\n",
      "\u001b[1;31mValueError\u001b[0m: invalid literal for int() with base 10: '12 + 34j'"
     ]
    }
   ],
   "source": [
    "# run time error\n",
    "print(\"hello\")\n",
    "print(int('12 + 34j'))\n",
    "print(\"bye\")"
   ]
  },
  {
   "cell_type": "code",
   "execution_count": 11,
   "metadata": {},
   "outputs": [
    {
     "name": "stdout",
     "output_type": "stream",
     "text": [
      "hello\n",
      "6.0\n",
      "bye\n"
     ]
    }
   ],
   "source": [
    "# run time error\n",
    "print(\"hello\")\n",
    "print(12 /2)\n",
    "print(\"bye\")"
   ]
  },
  {
   "cell_type": "code",
   "execution_count": 12,
   "metadata": {},
   "outputs": [
    {
     "name": "stdout",
     "output_type": "stream",
     "text": [
      "hello\n"
     ]
    },
    {
     "ename": "ZeroDivisionError",
     "evalue": "division by zero",
     "output_type": "error",
     "traceback": [
      "\u001b[1;31m---------------------------------------------------------------------------\u001b[0m",
      "\u001b[1;31mZeroDivisionError\u001b[0m                         Traceback (most recent call last)",
      "\u001b[1;32m<ipython-input-12-73c4c4245234>\u001b[0m in \u001b[0;36m<module>\u001b[1;34m()\u001b[0m\n\u001b[0;32m      1\u001b[0m \u001b[1;31m# run time error\u001b[0m\u001b[1;33m\u001b[0m\u001b[1;33m\u001b[0m\u001b[0m\n\u001b[0;32m      2\u001b[0m \u001b[0mprint\u001b[0m\u001b[1;33m(\u001b[0m\u001b[1;34m\"hello\"\u001b[0m\u001b[1;33m)\u001b[0m\u001b[1;33m\u001b[0m\u001b[0m\n\u001b[1;32m----> 3\u001b[1;33m \u001b[0mprint\u001b[0m\u001b[1;33m(\u001b[0m\u001b[1;36m12\u001b[0m \u001b[1;33m/\u001b[0m\u001b[1;36m0\u001b[0m\u001b[1;33m)\u001b[0m\u001b[1;33m\u001b[0m\u001b[0m\n\u001b[0m\u001b[0;32m      4\u001b[0m \u001b[0mprint\u001b[0m\u001b[1;33m(\u001b[0m\u001b[1;34m\"bye\"\u001b[0m\u001b[1;33m)\u001b[0m\u001b[1;33m\u001b[0m\u001b[0m\n",
      "\u001b[1;31mZeroDivisionError\u001b[0m: division by zero"
     ]
    }
   ],
   "source": [
    "# run time error\n",
    "print(\"hello\")\n",
    "print(12 /0)\n",
    "print(\"bye\")"
   ]
  },
  {
   "cell_type": "code",
   "execution_count": 13,
   "metadata": {},
   "outputs": [
    {
     "name": "stdout",
     "output_type": "stream",
     "text": [
      "hello\n",
      "bye\n"
     ]
    }
   ],
   "source": [
    "# run time error\n",
    "print(\"hello\")\n",
    "import math\n",
    "print(\"bye\")"
   ]
  },
  {
   "cell_type": "code",
   "execution_count": 14,
   "metadata": {},
   "outputs": [
    {
     "name": "stdout",
     "output_type": "stream",
     "text": [
      "hello\n"
     ]
    },
    {
     "ename": "ModuleNotFoundError",
     "evalue": "No module named 'math1'",
     "output_type": "error",
     "traceback": [
      "\u001b[1;31m---------------------------------------------------------------------------\u001b[0m",
      "\u001b[1;31mModuleNotFoundError\u001b[0m                       Traceback (most recent call last)",
      "\u001b[1;32m<ipython-input-14-7f30f939aba5>\u001b[0m in \u001b[0;36m<module>\u001b[1;34m()\u001b[0m\n\u001b[0;32m      1\u001b[0m \u001b[1;31m# run time error\u001b[0m\u001b[1;33m\u001b[0m\u001b[1;33m\u001b[0m\u001b[0m\n\u001b[0;32m      2\u001b[0m \u001b[0mprint\u001b[0m\u001b[1;33m(\u001b[0m\u001b[1;34m\"hello\"\u001b[0m\u001b[1;33m)\u001b[0m\u001b[1;33m\u001b[0m\u001b[0m\n\u001b[1;32m----> 3\u001b[1;33m \u001b[1;32mimport\u001b[0m \u001b[0mmath1\u001b[0m\u001b[1;33m\u001b[0m\u001b[0m\n\u001b[0m\u001b[0;32m      4\u001b[0m \u001b[0mprint\u001b[0m\u001b[1;33m(\u001b[0m\u001b[1;34m\"bye\"\u001b[0m\u001b[1;33m)\u001b[0m\u001b[1;33m\u001b[0m\u001b[0m\n",
      "\u001b[1;31mModuleNotFoundError\u001b[0m: No module named 'math1'"
     ]
    }
   ],
   "source": [
    "# run time error\n",
    "print(\"hello\")\n",
    "import math1\n",
    "print(\"bye\")"
   ]
  },
  {
   "cell_type": "code",
   "execution_count": 15,
   "metadata": {},
   "outputs": [
    {
     "name": "stdout",
     "output_type": "stream",
     "text": [
      "hello\n",
      "bye\n"
     ]
    }
   ],
   "source": [
    "# run time error\n",
    "print(\"hello\")\n",
    "open(\"001_Python Introduction.ipynb\",'r')\n",
    "print(\"bye\")"
   ]
  },
  {
   "cell_type": "code",
   "execution_count": 16,
   "metadata": {},
   "outputs": [
    {
     "name": "stdout",
     "output_type": "stream",
     "text": [
      "hello\n"
     ]
    },
    {
     "ename": "FileNotFoundError",
     "evalue": "[Errno 2] No such file or directory: '001_Python Introduction.ipynb323243434'",
     "output_type": "error",
     "traceback": [
      "\u001b[1;31m---------------------------------------------------------------------------\u001b[0m",
      "\u001b[1;31mFileNotFoundError\u001b[0m                         Traceback (most recent call last)",
      "\u001b[1;32m<ipython-input-16-8f542f90128d>\u001b[0m in \u001b[0;36m<module>\u001b[1;34m()\u001b[0m\n\u001b[0;32m      1\u001b[0m \u001b[1;31m# run time error\u001b[0m\u001b[1;33m\u001b[0m\u001b[1;33m\u001b[0m\u001b[0m\n\u001b[0;32m      2\u001b[0m \u001b[0mprint\u001b[0m\u001b[1;33m(\u001b[0m\u001b[1;34m\"hello\"\u001b[0m\u001b[1;33m)\u001b[0m\u001b[1;33m\u001b[0m\u001b[0m\n\u001b[1;32m----> 3\u001b[1;33m \u001b[0mopen\u001b[0m\u001b[1;33m(\u001b[0m\u001b[1;34m\"001_Python Introduction.ipynb323243434\"\u001b[0m\u001b[1;33m,\u001b[0m\u001b[1;34m'r'\u001b[0m\u001b[1;33m)\u001b[0m\u001b[1;33m\u001b[0m\u001b[0m\n\u001b[0m\u001b[0;32m      4\u001b[0m \u001b[0mprint\u001b[0m\u001b[1;33m(\u001b[0m\u001b[1;34m\"bye\"\u001b[0m\u001b[1;33m)\u001b[0m\u001b[1;33m\u001b[0m\u001b[0m\n",
      "\u001b[1;31mFileNotFoundError\u001b[0m: [Errno 2] No such file or directory: '001_Python Introduction.ipynb323243434'"
     ]
    }
   ],
   "source": [
    "# run time error\n",
    "print(\"hello\")\n",
    "open(\"001_Python Introduction.ipynb323243434\",'r')\n",
    "print(\"bye\")"
   ]
  },
  {
   "cell_type": "markdown",
   "metadata": {},
   "source": [
    "# exception \n",
    "--------------\n",
    "\n",
    "---> Because of runtime , the execution of the can stop in middle of  process.\n",
    "\n",
    "example :\n",
    "-------------\n",
    "\n",
    "    1.  TypeError\n",
    "    2.  ValueError\n",
    "    3. ZeroDivisionError\n",
    "    4. IOError   / FileNotFoundError\n",
    "    5. ImportError / ModuleNotFoundError"
   ]
  },
  {
   "cell_type": "markdown",
   "metadata": {},
   "source": [
    "# exception handling \n",
    "\n",
    "we have the following keywords are used for to handle the exception\n",
    "\n",
    "try :\n",
    "    \n",
    "    Body of the program\n",
    "    \n",
    "except :\n",
    "\n",
    "    To handle the  exception "
   ]
  },
  {
   "cell_type": "code",
   "execution_count": 18,
   "metadata": {},
   "outputs": [
    {
     "name": "stdout",
     "output_type": "stream",
     "text": [
      "hello\n",
      "whenever the exception is occured \n"
     ]
    }
   ],
   "source": [
    "try :\n",
    "    print(\"hello\")\n",
    "    print(12/0)\n",
    "    print(\"bye\")\n",
    "except :\n",
    "    print('whenever the exception is occured ')"
   ]
  },
  {
   "cell_type": "code",
   "execution_count": 19,
   "metadata": {},
   "outputs": [
    {
     "name": "stdout",
     "output_type": "stream",
     "text": [
      "hello\n",
      "whenever the exception is occured \n"
     ]
    }
   ],
   "source": [
    "try :\n",
    "    print(\"hello\")\n",
    "    open(\"nggkjngjkggjk\")\n",
    "    print(\"bye\")\n",
    "except :\n",
    "    print('whenever the exception is occured ')"
   ]
  },
  {
   "cell_type": "code",
   "execution_count": 20,
   "metadata": {},
   "outputs": [
    {
     "name": "stdout",
     "output_type": "stream",
     "text": [
      "hello\n",
      "file not existed\n"
     ]
    }
   ],
   "source": [
    "try :\n",
    "    print(\"hello\")\n",
    "    open(\"nggkjngjkggjk\")\n",
    "    print(\"bye\")\n",
    "except FileNotFoundError:\n",
    "    print(\"file not existed\")\n",
    "except ModuleNotFoundError:\n",
    "    print(\"modules are not found\")\n",
    "except TypeError:\n",
    "    print(\"proper datatype can provide\")\n",
    "except ZeroDivisionError:\n",
    "    print(\"dont division with Zero\")\n",
    "except :\n",
    "    print('whenever the no exception is matched then this one can handle')"
   ]
  },
  {
   "cell_type": "code",
   "execution_count": 23,
   "metadata": {},
   "outputs": [
    {
     "name": "stdout",
     "output_type": "stream",
     "text": [
      "hello\n",
      "modules are not found\n"
     ]
    }
   ],
   "source": [
    "try :\n",
    "    print(\"hello\")\n",
    "    import jkkfjfkfjffdj\n",
    "    print(\"bye\")\n",
    "except FileNotFoundError:\n",
    "    print(\"file not existed\")\n",
    "except ModuleNotFoundError:\n",
    "    print(\"modules are not found\")\n",
    "except TypeError:\n",
    "    print(\"proper datatype can provide\")\n",
    "except ZeroDivisionError:\n",
    "    print(\"dont division with Zero\")\n",
    "except :\n",
    "    print('whenever the no exception is matched then this one can handle')"
   ]
  },
  {
   "cell_type": "code",
   "execution_count": 24,
   "metadata": {},
   "outputs": [
    {
     "name": "stdout",
     "output_type": "stream",
     "text": [
      "hello\n",
      "modules are not found\n"
     ]
    }
   ],
   "source": [
    "try :\n",
    "    print(\"hello\")\n",
    "    import jkkfjfkfjffdj\n",
    "    print(\"bye\")\n",
    "except FileNotFoundError:\n",
    "    print(\"file not existed\")\n",
    "except ModuleNotFoundError:\n",
    "    print(\"modules are not found\")\n",
    "except TypeError:\n",
    "    print(\"proper datatype can provide\")\n",
    "except ZeroDivisionError:\n",
    "    print(\"dont division with Zero\")\n",
    "except :\n",
    "    print('whenever the no exception is matched then this one can handle')\n",
    "else:\n",
    "    print(\"No exception\")"
   ]
  },
  {
   "cell_type": "code",
   "execution_count": 25,
   "metadata": {},
   "outputs": [
    {
     "name": "stdout",
     "output_type": "stream",
     "text": [
      "hello\n",
      "bye\n",
      "No exception\n"
     ]
    }
   ],
   "source": [
    "try :\n",
    "    print(\"hello\")\n",
    "    import math\n",
    "    print(\"bye\")\n",
    "except FileNotFoundError:\n",
    "    print(\"file not existed\")\n",
    "except ModuleNotFoundError:\n",
    "    print(\"modules are not found\")\n",
    "except TypeError:\n",
    "    print(\"proper datatype can provide\")\n",
    "except ZeroDivisionError:\n",
    "    print(\"dont division with Zero\")\n",
    "except :\n",
    "    print('whenever the no exception is matched then this one can handle')\n",
    "else:\n",
    "    print(\"No exception\")"
   ]
  },
  {
   "cell_type": "code",
   "execution_count": 26,
   "metadata": {},
   "outputs": [
    {
     "name": "stdout",
     "output_type": "stream",
     "text": [
      "hello\n",
      "bye\n",
      "No exception\n",
      "Both time\n"
     ]
    }
   ],
   "source": [
    "try :\n",
    "    print(\"hello\")\n",
    "    import math\n",
    "    print(\"bye\")\n",
    "except FileNotFoundError:\n",
    "    print(\"file not existed\")\n",
    "except ModuleNotFoundError:\n",
    "    print(\"modules are not found\")\n",
    "except TypeError:\n",
    "    print(\"proper datatype can provide\")\n",
    "except ZeroDivisionError:\n",
    "    print(\"dont division with Zero\")\n",
    "except :\n",
    "    print('whenever the no exception is matched then this one can handle')\n",
    "else:\n",
    "    print(\"No exception\")\n",
    "finally :\n",
    "    print(\"Both time\")"
   ]
  },
  {
   "cell_type": "code",
   "execution_count": 27,
   "metadata": {},
   "outputs": [
    {
     "name": "stdout",
     "output_type": "stream",
     "text": [
      "hello\n",
      "modules are not found\n",
      "Both time\n"
     ]
    }
   ],
   "source": [
    "try :\n",
    "    print(\"hello\")\n",
    "    import math1111\n",
    "    print(\"bye\")\n",
    "except FileNotFoundError:\n",
    "    print(\"file not existed\")\n",
    "except ModuleNotFoundError:\n",
    "    print(\"modules are not found\")\n",
    "except TypeError:\n",
    "    print(\"proper datatype can provide\")\n",
    "except ZeroDivisionError:\n",
    "    print(\"dont division with Zero\")\n",
    "except :\n",
    "    print('whenever the no exception is matched then this one can handle')\n",
    "else:\n",
    "    print(\"No exception\")\n",
    "finally :\n",
    "    print(\"Both time\")"
   ]
  },
  {
   "cell_type": "code",
   "execution_count": null,
   "metadata": {},
   "outputs": [],
   "source": [
    "try :\n",
    "    print(\"hello\")\n",
    "    import math1111\n",
    "    print(\"bye\")\n",
    "except FileNotFoundError:\n",
    "    print(\"file not existed\")\n",
    "except ModuleNotFoundError:\n",
    "    print(\"modules are not found\")\n",
    "except TypeError:\n",
    "    print(\"proper datatype can provide\")\n",
    "except ZeroDivisionError:\n",
    "    print(\"dont division with Zero\")\n",
    "except :\n",
    "    print('whenever the no exception is matched then this one can handle')\n",
    "else:\n",
    "    print(\"No exception\")\n",
    "finally :\n",
    "    print(\"Both time\")"
   ]
  }
 ],
 "metadata": {
  "kernelspec": {
   "display_name": "Python 3",
   "language": "python",
   "name": "python3"
  },
  "language_info": {
   "codemirror_mode": {
    "name": "ipython",
    "version": 3
   },
   "file_extension": ".py",
   "mimetype": "text/x-python",
   "name": "python",
   "nbconvert_exporter": "python",
   "pygments_lexer": "ipython3",
   "version": "3.7.0"
  }
 },
 "nbformat": 4,
 "nbformat_minor": 2
}
