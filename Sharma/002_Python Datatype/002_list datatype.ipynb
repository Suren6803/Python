{
 "cells": [
  {
   "cell_type": "markdown",
   "metadata": {},
   "source": [
    "# List datatype representation"
   ]
  },
  {
   "cell_type": "code",
   "execution_count": 1,
   "metadata": {},
   "outputs": [
    {
     "name": "stdout",
     "output_type": "stream",
     "text": [
      "var =  []\n",
      "id =  1048830429640\n",
      "<class 'list'>\n",
      "40\n"
     ]
    }
   ],
   "source": [
    "# empty list variable \n",
    "var  = []\n",
    "print(\"var = \",var)\n",
    "print(\"id = \",id(var))\n",
    "print(type(var))\n",
    "print(var.__sizeof__())"
   ]
  },
  {
   "cell_type": "code",
   "execution_count": 2,
   "metadata": {},
   "outputs": [
    {
     "name": "stdout",
     "output_type": "stream",
     "text": [
      "var =  [12, 45.456, (34+56j), True, None]\n",
      "id =  1048830427336\n",
      "<class 'list'>\n",
      "80\n"
     ]
    }
   ],
   "source": [
    "# Non empty list  /  Hetro datatype\n",
    "var  = [12,45.456,34+56j,True,None]\n",
    "print(\"var = \",var)\n",
    "print(\"id = \",id(var))\n",
    "print(type(var))\n",
    "print(var.__sizeof__())"
   ]
  },
  {
   "cell_type": "code",
   "execution_count": 3,
   "metadata": {},
   "outputs": [
    {
     "name": "stdout",
     "output_type": "stream",
     "text": [
      "var =  [12, 45, 90, 234]\n",
      "id =  1048813798152\n",
      "<class 'list'>\n",
      "72\n"
     ]
    }
   ],
   "source": [
    "# Non empty list / Homo list\n",
    "var  = [12,45,90,234]\n",
    "print(\"var = \",var)\n",
    "print(\"id = \",id(var))\n",
    "print(type(var))\n",
    "print(var.__sizeof__())"
   ]
  },
  {
   "cell_type": "code",
   "execution_count": 4,
   "metadata": {},
   "outputs": [
    {
     "name": "stdout",
     "output_type": "stream",
     "text": [
      "23\n",
      "23\n",
      "67\n",
      "67\n"
     ]
    }
   ],
   "source": [
    "# access the individual data elements from list using list Index \n",
    "'''\n",
    "var_name[ integer ]\n",
    "\n",
    "'''\n",
    "L  = [23,67,12]\n",
    "print(L[0])   # 23\n",
    "print(L[-3])  # 23\n",
    "print(L[1])    # 67\n",
    "print(L[-2])   #67"
   ]
  },
  {
   "cell_type": "code",
   "execution_count": 6,
   "metadata": {},
   "outputs": [
    {
     "name": "stdout",
     "output_type": "stream",
     "text": [
      "[12, 90, 45, 23, 89, 34, 88, 6]\n",
      "[45, 23, 89, 34]\n"
     ]
    }
   ],
   "source": [
    "# access the continues data elements from list\n",
    "'''\n",
    "var_name[ start_index : stop_index ]\n",
    "\n",
    "'''\n",
    "\n",
    "var =  [12,90,45,23,89,34,88,6]\n",
    "print(var[:]) # start = 0 , stop  = len of list  [12,90,45,23,89,34,88,6]\n",
    "\n",
    "print(var[2:6]) # [45,23,89,34]"
   ]
  },
  {
   "cell_type": "code",
   "execution_count": 7,
   "metadata": {},
   "outputs": [
    {
     "name": "stdout",
     "output_type": "stream",
     "text": [
      "[12, 34, 78, 90, 12, 34, 67, 1]\n",
      "[34, 90, 34, 1]\n"
     ]
    }
   ],
   "source": [
    "# list dicing  used for to access step wise elements from list\n",
    "\n",
    "var=[12,34,78,90,12,34,67,1]\n",
    "print(var[ : : ])# step--> 1\n",
    "print(var[1:8:2]) # [34,90,34,1]"
   ]
  },
  {
   "cell_type": "code",
   "execution_count": 8,
   "metadata": {},
   "outputs": [
    {
     "name": "stdout",
     "output_type": "stream",
     "text": [
      "[23, 67, 12]\n",
      "[123, 67, 12]\n",
      "[120, 67, 12]\n"
     ]
    }
   ],
   "source": [
    "# modify the list data elements  / mutable datatype\n",
    "L  = [23,67,12]\n",
    "print(L)\n",
    "L[0] =123  # 23\n",
    "print(L)\n",
    "L[-3] =120  # 23\n",
    "print(L)\n"
   ]
  },
  {
   "cell_type": "code",
   "execution_count": 9,
   "metadata": {},
   "outputs": [
    {
     "name": "stdout",
     "output_type": "stream",
     "text": [
      "[12, 90, 45, 23, 89, 34, 88, 6]\n",
      "[12, 90, 450, 230, 890, 340, 88, 6]\n"
     ]
    }
   ],
   "source": [
    "var =  [12,90,45,23,89,34,88,6]\n",
    "print(var) # start = 0 , stop  = len of list  [12,90,45,23,89,34,88,6]\n",
    "\n",
    "var[2:6]= [450 ,230,890,340]# [45,23,89,34]\n",
    "print(var)"
   ]
  },
  {
   "cell_type": "code",
   "execution_count": 10,
   "metadata": {},
   "outputs": [
    {
     "name": "stdout",
     "output_type": "stream",
     "text": [
      "[12, 34, 78, 90, 12, 34, 67, 1]\n",
      "[12, 'python', 78, 'c', 12, 'c++', 67, 'java']\n"
     ]
    }
   ],
   "source": [
    "var=[12,34,78,90,12,34,67,1]\n",
    "print(var)# step--> 1\n",
    "var[1:8:2]=['python','c','c++','java']\n",
    "print(var)"
   ]
  },
  {
   "cell_type": "code",
   "execution_count": 12,
   "metadata": {},
   "outputs": [
    {
     "name": "stdout",
     "output_type": "stream",
     "text": [
      "8\n",
      "90\n",
      "1\n",
      "328\n"
     ]
    }
   ],
   "source": [
    "\n",
    "var=[12,34,78,90,12,34,67,1]\n",
    "print(len(var))  # 8\n",
    "print(max(var)) # 90\n",
    "print(min(var))  # 1\n",
    "print(sum(var)) # 328"
   ]
  },
  {
   "cell_type": "code",
   "execution_count": 13,
   "metadata": {},
   "outputs": [
    {
     "name": "stdout",
     "output_type": "stream",
     "text": [
      "[12]\n",
      "[12, 34]\n"
     ]
    }
   ],
   "source": [
    "v= []\n",
    "v.append(12)\n",
    "print(v)\n",
    "v.append(34)\n",
    "print(v)"
   ]
  },
  {
   "cell_type": "code",
   "execution_count": 14,
   "metadata": {},
   "outputs": [
    {
     "name": "stdout",
     "output_type": "stream",
     "text": [
      "[12, 34, 56]\n",
      "[]\n"
     ]
    }
   ],
   "source": [
    "a = [12,34,56]\n",
    "print(a)\n",
    "a.clear()\n",
    "print(a)"
   ]
  },
  {
   "cell_type": "code",
   "execution_count": 16,
   "metadata": {},
   "outputs": [
    {
     "name": "stdout",
     "output_type": "stream",
     "text": [
      "[]\n",
      "[12, 34]\n",
      "[12, 34]\n",
      "[12, 34]\n"
     ]
    }
   ],
   "source": [
    "a =[]\n",
    "print(a)\n",
    "print(v)\n",
    "a = v.copy()\n",
    "print(a)\n",
    "print(v)"
   ]
  },
  {
   "cell_type": "code",
   "execution_count": 18,
   "metadata": {},
   "outputs": [
    {
     "name": "stdout",
     "output_type": "stream",
     "text": [
      "[12, 45, 23, 90, 34, 12, 90, 22, 13, 22, 45]\n",
      "45\n",
      "34\n"
     ]
    }
   ],
   "source": [
    "a =[12,45,23,90,34,12,90,22,13,22,45]\n",
    "print(a)\n",
    "print( a.pop())  # removes last elements\n",
    "print(a.pop(4))  # removes the 4th index element"
   ]
  },
  {
   "cell_type": "code",
   "execution_count": 19,
   "metadata": {},
   "outputs": [
    {
     "name": "stdout",
     "output_type": "stream",
     "text": [
      "[12, 45, 23, 90, 12, 90, 22, 13, 22]\n"
     ]
    }
   ],
   "source": [
    "print(a)"
   ]
  },
  {
   "cell_type": "code",
   "execution_count": 20,
   "metadata": {},
   "outputs": [
    {
     "name": "stdout",
     "output_type": "stream",
     "text": [
      "[12, 45, 23, 90, 34, 12, 90, 22, 13, 22, 45]\n",
      "None\n",
      "None\n",
      "[12, 23, 90, 34, 12, 90, 13, 22, 45]\n"
     ]
    }
   ],
   "source": [
    "a =[12,45,23,90,34,12,90,22,13,22,45]\n",
    "print(a)\n",
    "print( a.remove(45))  # removes last elements\n",
    "print(a.remove(22))\n",
    "print(a)"
   ]
  },
  {
   "cell_type": "code",
   "execution_count": 23,
   "metadata": {},
   "outputs": [
    {
     "name": "stdout",
     "output_type": "stream",
     "text": [
      "[12, 23, 90, 34, 12, 90, 13, 22, 45]\n",
      "[12, 34]\n",
      "[12, 23, 90, 34, 12, 90, 13, 22, 45]\n",
      "[12, 34, 12, 23, 90, 34, 12, 90, 13, 22, 45]\n"
     ]
    }
   ],
   "source": [
    "print(a)\n",
    "print(v)\n",
    "v.extend(a)\n",
    "print(a)\n",
    "print(v)"
   ]
  },
  {
   "cell_type": "code",
   "execution_count": 24,
   "metadata": {},
   "outputs": [
    {
     "name": "stdout",
     "output_type": "stream",
     "text": [
      "[12, 34, 12, 23, 90, 34, 12, 90, 13, 22, 45]\n",
      " 12 is repeats  3\n"
     ]
    }
   ],
   "source": [
    "print(v)\n",
    "print(\" 12 is repeats \",v.count(12))"
   ]
  },
  {
   "cell_type": "code",
   "execution_count": null,
   "metadata": {},
   "outputs": [],
   "source": []
  }
 ],
 "metadata": {
  "kernelspec": {
   "display_name": "Python 3",
   "language": "python",
   "name": "python3"
  },
  "language_info": {
   "codemirror_mode": {
    "name": "ipython",
    "version": 3
   },
   "file_extension": ".py",
   "mimetype": "text/x-python",
   "name": "python",
   "nbconvert_exporter": "python",
   "pygments_lexer": "ipython3",
   "version": "3.7.0"
  }
 },
 "nbformat": 4,
 "nbformat_minor": 2
}
