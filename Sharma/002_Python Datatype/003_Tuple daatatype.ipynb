{
 "cells": [
  {
   "cell_type": "markdown",
   "metadata": {},
   "source": [
    "# Tuple datatype representation\n",
    "\n",
    "---> Multiple data elements can store with in the ( )\n"
   ]
  },
  {
   "cell_type": "code",
   "execution_count": 2,
   "metadata": {},
   "outputs": [
    {
     "name": "stdout",
     "output_type": "stream",
     "text": [
      "var =  ()\n",
      "id =  31502237768\n",
      "<class 'tuple'>\n"
     ]
    }
   ],
   "source": [
    "# empty tuple\n",
    "var = ()\n",
    "print(\"var = \",var)\n",
    "print(\"id = \",id(var))\n",
    "print(type(var))"
   ]
  },
  {
   "cell_type": "code",
   "execution_count": 3,
   "metadata": {},
   "outputs": [
    {
     "name": "stdout",
     "output_type": "stream",
     "text": [
      "var =  (12, 34.67, True, (3+5j))\n",
      "id =  31571528744\n",
      "<class 'tuple'>\n"
     ]
    }
   ],
   "source": [
    "# tuple is hetro data type\n",
    "\n",
    "var = (12,34.67,True ,3+5j)\n",
    "print(\"var = \",var)\n",
    "print(\"id = \",id(var))\n",
    "print(type(var))"
   ]
  },
  {
   "cell_type": "code",
   "execution_count": 4,
   "metadata": {},
   "outputs": [
    {
     "name": "stdout",
     "output_type": "stream",
     "text": [
      "var =  (True, False, False)\n",
      "id =  31588908704\n",
      "<class 'tuple'>\n"
     ]
    }
   ],
   "source": [
    "# homo tuple datatype\n",
    "var = (True ,False,False )\n",
    "print(\"var = \",var)\n",
    "print(\"id = \",id(var))\n",
    "print(type(var))"
   ]
  },
  {
   "cell_type": "code",
   "execution_count": 5,
   "metadata": {},
   "outputs": [
    {
     "name": "stdout",
     "output_type": "stream",
     "text": [
      "var =  ('soc', [1, 2, 3], (1, 2, 3))\n",
      "id =  31588908992\n",
      "<class 'tuple'>\n"
     ]
    }
   ],
   "source": [
    "# nested tuple \n",
    "var = (\"soc\",[1,2,3,],(1,2,3))\n",
    "print(\"var = \",var)\n",
    "print(\"id = \",id(var))\n",
    "print(type(var))"
   ]
  },
  {
   "cell_type": "markdown",
   "metadata": {},
   "source": [
    "# Access the data from tuple"
   ]
  },
  {
   "cell_type": "code",
   "execution_count": 8,
   "metadata": {},
   "outputs": [
    {
     "name": "stdout",
     "output_type": "stream",
     "text": [
      "12\n",
      "12\n",
      "78\n",
      "78\n"
     ]
    }
   ],
   "source": [
    "# positive indexinging and Negative indexing \n",
    "var = (12,45,23,78,12,89,45,67,2,4,3)\n",
    "print(var[0])  # 12\n",
    "print(var[-11]) # 12\n",
    "print(var[3])  # 78\n",
    "print(var[-8])  #78"
   ]
  },
  {
   "cell_type": "code",
   "execution_count": 10,
   "metadata": {},
   "outputs": [
    {
     "name": "stdout",
     "output_type": "stream",
     "text": [
      "(45, 23, 78, 12)\n",
      "(12, 45, 23, 78, 12)\n",
      "(89, 45, 67, 2, 4, 3)\n"
     ]
    }
   ],
   "source": [
    "# tuple slicing   var[start : stop]\n",
    "var = (12,45,23,78,12,89,45,67,2,4,3)\n",
    "print(var[1:5])  # (45,23,78,12)\n",
    "print(var[:5]) #(12,45,23,78,12)   # start ----> 0\n",
    "print(var[5:])#(89,45,67,2,4,3)  # stop ---> len of tuplle"
   ]
  },
  {
   "cell_type": "code",
   "execution_count": 11,
   "metadata": {},
   "outputs": [
    {
     "name": "stdout",
     "output_type": "stream",
     "text": [
      "(12, 23, 12, 45, 2, 3)\n"
     ]
    }
   ],
   "source": [
    "# tuple dicing   # var[start ---> 0:  stop---> len :  step---> 1]\n",
    "var = (12,45,23,78,12,89,45,67,2,4,3)\n",
    "print(var[0:11:2]) #(12,23,12,45,2,3)"
   ]
  },
  {
   "cell_type": "code",
   "execution_count": 13,
   "metadata": {},
   "outputs": [
    {
     "name": "stdout",
     "output_type": "stream",
     "text": [
      "soc\n",
      "o\n",
      "[1, 2, 3]\n",
      "1\n",
      "(1, 2, 3)\n",
      "3\n"
     ]
    }
   ],
   "source": [
    "# 2D or multi D   indexing \n",
    "\n",
    "var = (\"soc\",(1,2,3),[1,2,3])\n",
    "print(var[0])  #'soc'\n",
    "print(var[0][1]) #'o'\n",
    "print(var[2])# [1,2,3]\n",
    "print(var[2][0])# 1\n",
    "print(var[1])\n",
    "print(var[1][2])"
   ]
  },
  {
   "cell_type": "code",
   "execution_count": 15,
   "metadata": {},
   "outputs": [
    {
     "ename": "TypeError",
     "evalue": "'tuple' object does not support item assignment",
     "output_type": "error",
     "traceback": [
      "\u001b[1;31m---------------------------------------------------------------------------\u001b[0m",
      "\u001b[1;31mTypeError\u001b[0m                                 Traceback (most recent call last)",
      "\u001b[1;32m<ipython-input-15-d556b79316eb>\u001b[0m in \u001b[0;36m<module>\u001b[1;34m()\u001b[0m\n\u001b[0;32m      1\u001b[0m \u001b[1;31m# tuple is immutable datatype\u001b[0m\u001b[1;33m\u001b[0m\u001b[1;33m\u001b[0m\u001b[0m\n\u001b[0;32m      2\u001b[0m \u001b[0mvar\u001b[0m \u001b[1;33m=\u001b[0m\u001b[1;33m(\u001b[0m\u001b[1;36m1\u001b[0m\u001b[1;33m,\u001b[0m\u001b[1;36m2\u001b[0m\u001b[1;33m,\u001b[0m\u001b[1;36m3\u001b[0m\u001b[1;33m,\u001b[0m\u001b[1;36m4\u001b[0m\u001b[1;33m)\u001b[0m\u001b[1;33m\u001b[0m\u001b[0m\n\u001b[1;32m----> 3\u001b[1;33m \u001b[0mvar\u001b[0m\u001b[1;33m[\u001b[0m\u001b[1;36m2\u001b[0m\u001b[1;33m]\u001b[0m\u001b[1;33m=\u001b[0m\u001b[1;36m12\u001b[0m\u001b[1;33m\u001b[0m\u001b[0m\n\u001b[0m",
      "\u001b[1;31mTypeError\u001b[0m: 'tuple' object does not support item assignment"
     ]
    }
   ],
   "source": [
    "# tuple is immutable datatype\n",
    "var =(1,2,3,4)\n",
    "var[2]=12"
   ]
  },
  {
   "cell_type": "code",
   "execution_count": 16,
   "metadata": {},
   "outputs": [
    {
     "name": "stdout",
     "output_type": "stream",
     "text": [
      "11\n",
      "89\n",
      "2\n",
      "380\n"
     ]
    }
   ],
   "source": [
    "var = (12,45,23,78,12,89,45,67,2,4,3)\n",
    "print(len(var))\n",
    "print(max(var))\n",
    "print(min(var))\n",
    "print(sum(var))"
   ]
  },
  {
   "cell_type": "code",
   "execution_count": 21,
   "metadata": {},
   "outputs": [
    {
     "name": "stdout",
     "output_type": "stream",
     "text": [
      "2\n",
      "3\n"
     ]
    }
   ],
   "source": [
    "var = (12,45,23,78,12,89,45,67,2,4,3)\n",
    "print(var.count(12))\n",
    "print(var.index(78))\n",
    "#print(var.reverse())"
   ]
  },
  {
   "cell_type": "code",
   "execution_count": 22,
   "metadata": {},
   "outputs": [
    {
     "name": "stdout",
     "output_type": "stream",
     "text": [
      "<class 'tuple'>\n",
      "<class 'list'>\n",
      "[12, 45, 23, 78, 12, 89, 45, 67, 2, 4, 3]\n",
      "[2, 3, 4, 12, 12, 23, 45, 45, 67, 78, 89]\n",
      "[89, 78, 67, 45, 45, 23, 12, 12, 4, 3, 2]\n",
      "<class 'list'>\n",
      "<class 'tuple'>\n",
      "(89, 78, 67, 45, 45, 23, 12, 12, 4, 3, 2)\n"
     ]
    }
   ],
   "source": [
    "var = (12,45,23,78,12,89,45,67,2,4,3)\n",
    "print(type(var))\n",
    "var =list(var)\n",
    "print(type(var))\n",
    "print(var)\n",
    "var.sort()\n",
    "print(var)\n",
    "var.reverse()\n",
    "print(var)\n",
    "\n",
    "print(type(var))\n",
    "var =tuple(var)\n",
    "print(type(var))\n",
    "print(var)\n",
    "# sorting \n",
    "# sort  // reverse "
   ]
  },
  {
   "cell_type": "code",
   "execution_count": null,
   "metadata": {},
   "outputs": [],
   "source": [
    "# set / dict"
   ]
  }
 ],
 "metadata": {
  "kernelspec": {
   "display_name": "Python 3",
   "language": "python",
   "name": "python3"
  },
  "language_info": {
   "codemirror_mode": {
    "name": "ipython",
    "version": 3
   },
   "file_extension": ".py",
   "mimetype": "text/x-python",
   "name": "python",
   "nbconvert_exporter": "python",
   "pygments_lexer": "ipython3",
   "version": "3.7.0"
  }
 },
 "nbformat": 4,
 "nbformat_minor": 2
}
