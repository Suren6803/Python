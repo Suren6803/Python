{
 "cells": [
  {
   "cell_type": "markdown",
   "metadata": {},
   "source": [
    "# Dict datatype\n",
    "\n",
    "----> A group of keys associated with values which are separated with : symbol, those all stored in between { }\n",
    "\n",
    "---> indexing is not support \n",
    "\n",
    "---> it was unorder datatype\n",
    "\n",
    "---> its not support duplicate keys\n"
   ]
  },
  {
   "cell_type": "code",
   "execution_count": 1,
   "metadata": {},
   "outputs": [
    {
     "name": "stdout",
     "output_type": "stream",
     "text": [
      "var =  {12: 'python', 34: 'c++', 3: 'c'}\n",
      "<class 'dict'>\n",
      "164809615616\n",
      "216\n"
     ]
    }
   ],
   "source": [
    "var = {12 : \"python\" ,  34 : \"c++\" ,3 : \"c\"}\n",
    "print(\"var = \",var)\n",
    "print(type(var))\n",
    "print(id(var))\n",
    "print(var.__sizeof__())"
   ]
  },
  {
   "cell_type": "code",
   "execution_count": 2,
   "metadata": {},
   "outputs": [
    {
     "name": "stdout",
     "output_type": "stream",
     "text": [
      "var =  {12: 'python', 34: 'hello', 3: 'c', 45: 'python'}\n",
      "<class 'dict'>\n",
      "164835633264\n",
      "216\n"
     ]
    }
   ],
   "source": [
    "var = {12 : \"python\" ,  34 : \"c++\" ,3 : \"c\",34:\"hello\",45:\"python\"}\n",
    "print(\"var = \",var)\n",
    "print(type(var))\n",
    "print(id(var))\n",
    "print(var.__sizeof__())"
   ]
  },
  {
   "cell_type": "code",
   "execution_count": 6,
   "metadata": {},
   "outputs": [
    {
     "name": "stdout",
     "output_type": "stream",
     "text": [
      "keys :  dict_keys([12, 34, 3, 45])\n",
      "values:  dict_values(['python', 'hello', 'c', 'python'])\n",
      "items : dict_items([(12, 'python'), (34, 'hello'), (3, 'c'), (45, 'python')])\n"
     ]
    }
   ],
   "source": [
    "var = {12 : \"python\" ,  34 : \"c++\" ,3 : \"c\",34:\"hello\",45:\"python\"}\n",
    "print(\"keys : \",var.keys())\n",
    "print(\"values: \",var.values())\n",
    "print('items :',var.items())\n",
    "]"
   ]
  },
  {
   "cell_type": "code",
   "execution_count": 7,
   "metadata": {},
   "outputs": [
    {
     "name": "stdout",
     "output_type": "stream",
     "text": [
      "(45, 'python')\n"
     ]
    }
   ],
   "source": [
    "var = {12 : \"python\" ,  34 : \"c++\" ,3 : \"c\",34:\"hello\",45:\"python\"}\n",
    "print(var.popitem())"
   ]
  },
  {
   "cell_type": "code",
   "execution_count": 8,
   "metadata": {},
   "outputs": [
    {
     "data": {
      "text/plain": [
       "{12: 'python', 34: 'hello', 3: 'c'}"
      ]
     },
     "execution_count": 8,
     "metadata": {},
     "output_type": "execute_result"
    }
   ],
   "source": [
    "var"
   ]
  },
  {
   "cell_type": "code",
   "execution_count": 9,
   "metadata": {},
   "outputs": [
    {
     "name": "stdout",
     "output_type": "stream",
     "text": [
      "hello\n",
      "{12: 'python', 3: 'c', 45: 'python'}\n"
     ]
    }
   ],
   "source": [
    "var = {12 : \"python\" ,  34 : \"c++\" ,3 : \"c\",34:\"hello\",45:\"python\"}\n",
    "print(var.pop(34))\n",
    "print(var)"
   ]
  },
  {
   "cell_type": "code",
   "execution_count": 11,
   "metadata": {},
   "outputs": [
    {
     "name": "stdout",
     "output_type": "stream",
     "text": [
      "hello\n",
      "{12: 'python', 34: 'hello', 3: 'c', 45: 'python'}\n"
     ]
    }
   ],
   "source": [
    "var = {12 : \"python\" ,  34 : \"c++\" ,3 : \"c\",34:\"hello\",45:\"python\"}\n",
    "print(var.get(34))\n",
    "print(var)"
   ]
  },
  {
   "cell_type": "code",
   "execution_count": 12,
   "metadata": {},
   "outputs": [
    {
     "name": "stdout",
     "output_type": "stream",
     "text": [
      "{12: 45, 67: 34, 34: 's', 56: 'o'}\n"
     ]
    }
   ],
   "source": [
    "a ={12:45 ,67:34}\n",
    "b = {34:\"s\" , 56:\"o\"}\n",
    "a.update(b)\n",
    "print(a)"
   ]
  },
  {
   "cell_type": "code",
   "execution_count": 13,
   "metadata": {},
   "outputs": [
    {
     "name": "stdout",
     "output_type": "stream",
     "text": [
      "{}\n"
     ]
    }
   ],
   "source": [
    "a ={12:45 ,67:34}\n",
    "b = {34:\"s\" , 56:\"o\"}\n",
    "a.clear()\n",
    "print(a)"
   ]
  },
  {
   "cell_type": "code",
   "execution_count": 14,
   "metadata": {},
   "outputs": [
    {
     "name": "stdout",
     "output_type": "stream",
     "text": [
      "{12: 45, 67: 34}\n",
      "{12: 45, 67: 34}\n"
     ]
    }
   ],
   "source": [
    "a ={12:45 ,67:34}\n",
    "b = {34:\"s\" , 56:\"o\"}\n",
    "b = a.copy()\n",
    "print(a)\n",
    "print(b)"
   ]
  },
  {
   "cell_type": "code",
   "execution_count": 15,
   "metadata": {},
   "outputs": [
    {
     "data": {
      "text/plain": [
       "['__class__',\n",
       " '__contains__',\n",
       " '__delattr__',\n",
       " '__delitem__',\n",
       " '__dir__',\n",
       " '__doc__',\n",
       " '__eq__',\n",
       " '__format__',\n",
       " '__ge__',\n",
       " '__getattribute__',\n",
       " '__getitem__',\n",
       " '__gt__',\n",
       " '__hash__',\n",
       " '__init__',\n",
       " '__init_subclass__',\n",
       " '__iter__',\n",
       " '__le__',\n",
       " '__len__',\n",
       " '__lt__',\n",
       " '__ne__',\n",
       " '__new__',\n",
       " '__reduce__',\n",
       " '__reduce_ex__',\n",
       " '__repr__',\n",
       " '__setattr__',\n",
       " '__setitem__',\n",
       " '__sizeof__',\n",
       " '__str__',\n",
       " '__subclasshook__',\n",
       " 'clear',\n",
       " 'copy',\n",
       " 'fromkeys',\n",
       " 'get',\n",
       " 'items',\n",
       " 'keys',\n",
       " 'pop',\n",
       " 'popitem',\n",
       " 'setdefault',\n",
       " 'update',\n",
       " 'values']"
      ]
     },
     "execution_count": 15,
     "metadata": {},
     "output_type": "execute_result"
    }
   ],
   "source": [
    "dir(dict)"
   ]
  },
  {
   "cell_type": "code",
   "execution_count": 16,
   "metadata": {},
   "outputs": [
    {
     "name": "stdout",
     "output_type": "stream",
     "text": [
      "2\n",
      "79\n",
      "67\n",
      "12\n"
     ]
    }
   ],
   "source": [
    "a ={12:45 ,67:34}\n",
    "b = {34:\"s\" , 56:\"o\"}\n",
    "print(len(a))\n",
    "print(sum(a))\n",
    "print(max(a))\n",
    "print(min(a))"
   ]
  }
 ],
 "metadata": {
  "kernelspec": {
   "display_name": "Python 3",
   "language": "python",
   "name": "python3"
  },
  "language_info": {
   "codemirror_mode": {
    "name": "ipython",
    "version": 3
   },
   "file_extension": ".py",
   "mimetype": "text/x-python",
   "name": "python",
   "nbconvert_exporter": "python",
   "pygments_lexer": "ipython3",
   "version": "3.7.0"
  }
 },
 "nbformat": 4,
 "nbformat_minor": 2
}
