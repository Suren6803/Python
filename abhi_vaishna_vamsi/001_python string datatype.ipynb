{
 "cells": [
  {
   "cell_type": "markdown",
   "metadata": {},
   "source": [
    "# string datatype\n",
    "\n",
    "---> A group of characters we can store with in single quote ' '/ double quote \" \" / triple quote ''' ''' / double quote of triple times \"\"\" \"\"\""
   ]
  },
  {
   "cell_type": "code",
   "execution_count": 1,
   "metadata": {},
   "outputs": [
    {
     "name": "stdout",
     "output_type": "stream",
     "text": [
      "var =  soc softech\n",
      "id =  228882172080\n",
      "<class 'str'>\n",
      "size of memory :  60\n"
     ]
    }
   ],
   "source": [
    "# declaration is not required / directly we can assign the data to \n",
    "# identifiers\n",
    "\n",
    "var = 'soc softech'\n",
    "print(\"var = \",var)\n",
    "print(\"id = \",id(var))\n",
    "print(type(var))\n",
    "print(\"size of memory : \",var.__sizeof__())"
   ]
  },
  {
   "cell_type": "code",
   "execution_count": 2,
   "metadata": {},
   "outputs": [
    {
     "name": "stdout",
     "output_type": "stream",
     "text": [
      "var =  soc softech\n",
      "id =  228882171248\n",
      "<class 'str'>\n",
      "size of memory :  60\n"
     ]
    }
   ],
   "source": [
    "var = \"soc softech\"\n",
    "print(\"var = \",var)\n",
    "print(\"id = \",id(var))\n",
    "print(type(var))\n",
    "print(\"size of memory : \",var.__sizeof__())"
   ]
  },
  {
   "cell_type": "code",
   "execution_count": 3,
   "metadata": {},
   "outputs": [
    {
     "name": "stdout",
     "output_type": "stream",
     "text": [
      "var =  soc softech\n",
      "id =  228882172784\n",
      "<class 'str'>\n",
      "size of memory :  60\n"
     ]
    }
   ],
   "source": [
    "var = '''soc softech'''\n",
    "print(\"var = \",var)\n",
    "print(\"id = \",id(var))\n",
    "print(type(var))\n",
    "print(\"size of memory : \",var.__sizeof__())"
   ]
  },
  {
   "cell_type": "code",
   "execution_count": 4,
   "metadata": {},
   "outputs": [
    {
     "name": "stdout",
     "output_type": "stream",
     "text": [
      "var =  soc softech\n",
      "id =  228882171440\n",
      "<class 'str'>\n",
      "size of memory :  60\n"
     ]
    }
   ],
   "source": [
    "var = \"\"\"soc softech\"\"\"\n",
    "print(\"var = \",var)\n",
    "print(\"id = \",id(var))\n",
    "print(type(var))\n",
    "print(\"size of memory : \",var.__sizeof__())"
   ]
  },
  {
   "cell_type": "markdown",
   "metadata": {},
   "source": [
    "# access the characters from strings\n",
    "\n",
    "    1. indexing  (single character at time) -------->  [index ]\n",
    "    2. slicing ( continuous group of characters string) [start :stop]\n",
    "    3. dicing (step wise character from sting)[start : stop : step ]"
   ]
  },
  {
   "cell_type": "markdown",
   "metadata": {},
   "source": [
    "# indexing \n",
    "\n",
    "    1. positive index [ 0 to len of str -1]\n",
    "    \n",
    "    2. Negative index[ -1 to  - len of str ]"
   ]
  },
  {
   "cell_type": "code",
   "execution_count": 7,
   "metadata": {},
   "outputs": [
    {
     "name": "stdout",
     "output_type": "stream",
     "text": [
      "<class 'str'>\n",
      "o\n",
      "c\n",
      "s\n",
      "h\n"
     ]
    }
   ],
   "source": [
    "var = \"soc softech\"\n",
    "print(type(var))\n",
    "print(var[1])  # o\n",
    "print(var[2])  # c\n",
    "print(var[0])  # s\n",
    "print(var[10])# ---> h"
   ]
  },
  {
   "cell_type": "code",
   "execution_count": 8,
   "metadata": {},
   "outputs": [
    {
     "name": "stdout",
     "output_type": "stream",
     "text": [
      "<class 'str'>\n",
      "h\n",
      "c\n",
      "e\n",
      "s\n"
     ]
    }
   ],
   "source": [
    "var = \"soc softech\"\n",
    "print(type(var))\n",
    "print(var[-1]) # h\n",
    "print(var[-2])\n",
    "print(var[-3])\n",
    "print(var[-11])# ---> s"
   ]
  },
  {
   "cell_type": "code",
   "execution_count": 9,
   "metadata": {},
   "outputs": [
    {
     "name": "stdout",
     "output_type": "stream",
     "text": [
      "<class 'str'>\n",
      "oc s\n",
      "c softec\n",
      "soc softech\n",
      "soc softech\n"
     ]
    }
   ],
   "source": [
    "# slicing \n",
    "var = \"soc softech\"\n",
    "print(type(var))\n",
    "print(var[1:5])  # oc s\n",
    "print(var[2:10])\n",
    "print(var[0:11])\n",
    "print(var[:])# ---> h"
   ]
  },
  {
   "cell_type": "code",
   "execution_count": 3,
   "metadata": {},
   "outputs": [
    {
     "name": "stdout",
     "output_type": "stream",
     "text": [
      "soc softech training and development AI Company\n",
      "soc softech training and development AI Company\n",
      " fcti\n"
     ]
    }
   ],
   "source": [
    "# dicing \n",
    "'''\n",
    "access the group of character in step wise  ( 1)\n",
    "'''\n",
    "var= \"soc softech training and development AI Company\"\n",
    "print(var)\n",
    "print(var[0: :1])\n",
    "print(var[3:16:3])"
   ]
  },
  {
   "cell_type": "code",
   "execution_count": 5,
   "metadata": {},
   "outputs": [
    {
     "ename": "TypeError",
     "evalue": "'str' object does not support item assignment",
     "output_type": "error",
     "traceback": [
      "\u001b[1;31m---------------------------------------------------------------------------\u001b[0m",
      "\u001b[1;31mTypeError\u001b[0m                                 Traceback (most recent call last)",
      "\u001b[1;32m<ipython-input-5-b65cd3f61117>\u001b[0m in \u001b[0;36m<module>\u001b[1;34m()\u001b[0m\n\u001b[0;32m      1\u001b[0m \u001b[0mvar\u001b[0m \u001b[1;33m=\u001b[0m \u001b[1;34m'soc softech'\u001b[0m\u001b[1;33m\u001b[0m\u001b[0m\n\u001b[1;32m----> 2\u001b[1;33m \u001b[0mvar\u001b[0m\u001b[1;33m[\u001b[0m\u001b[1;36m0\u001b[0m\u001b[1;33m]\u001b[0m \u001b[1;33m=\u001b[0m\u001b[1;34m'S'\u001b[0m\u001b[1;33m\u001b[0m\u001b[0m\n\u001b[0m",
      "\u001b[1;31mTypeError\u001b[0m: 'str' object does not support item assignment"
     ]
    }
   ],
   "source": [
    "# str is immutable datatype , we can't modify the existing \n",
    "# data\n",
    "var = 'soc softech'\n",
    "var[0] ='S'"
   ]
  },
  {
   "cell_type": "code",
   "execution_count": 8,
   "metadata": {},
   "outputs": [
    {
     "name": "stdout",
     "output_type": "stream",
     "text": [
      "len =  11\n",
      "max =  t\n",
      "min =  2\n",
      "ascii =  97\n",
      "char =  a\n",
      "<class 'str'>\n"
     ]
    }
   ],
   "source": [
    "var =\"soc2softech\"\n",
    "print(\"len = \",len(var))\n",
    "print(\"max = \",max(var))\n",
    "print(\"min = \",min(var))\n",
    "print(\"ascii = \",ord('a'))\n",
    "print(\"char = \",chr(97))\n",
    "print(type(var))"
   ]
  },
  {
   "cell_type": "code",
   "execution_count": 13,
   "metadata": {},
   "outputs": [
    {
     "name": "stdout",
     "output_type": "stream",
     "text": [
      "soc softech\n",
      "SOC SOFTECH\n",
      "Soc Softech\n",
      "SOC SOFtech\n"
     ]
    }
   ],
   "source": [
    "var = \"soc sofTECH\"\n",
    "print(var.lower())\n",
    "print(var.upper())\n",
    "print(var.title())\n",
    "print(var.swapcase())"
   ]
  },
  {
   "cell_type": "code",
   "execution_count": 24,
   "metadata": {},
   "outputs": [
    {
     "name": "stdout",
     "output_type": "stream",
     "text": [
      "True\n",
      "True\n",
      "True\n",
      "True\n",
      "True\n",
      "True\n",
      "True\n"
     ]
    }
   ],
   "source": [
    "var ='soc softech'\n",
    "print(var.islower())\n",
    "var =\"JKJHHJHG\"\n",
    "print(var.isupper())\n",
    "var =\"Soc Softech\"\n",
    "print(var.istitle())\n",
    "var = \"         \"\n",
    "print(var.isspace())\n",
    "var =\"1285544\"\n",
    "print(var.isdigit())\n",
    "var =\"AJKDJJKHDJksdjjs\"\n",
    "print(var.isalpha())\n",
    "var =\"jfjSJHD123\"\n",
    "print(var.isalnum())"
   ]
  },
  {
   "cell_type": "code",
   "execution_count": 25,
   "metadata": {},
   "outputs": [
    {
     "data": {
      "text/plain": [
       "'Soc softech'"
      ]
     },
     "execution_count": 25,
     "metadata": {},
     "output_type": "execute_result"
    }
   ],
   "source": [
    "var =\"soc softech\"\n",
    "var.capitalize()"
   ]
  },
  {
   "cell_type": "code",
   "execution_count": 27,
   "metadata": {},
   "outputs": [
    {
     "data": {
      "text/plain": [
       "'  soc   '"
      ]
     },
     "execution_count": 27,
     "metadata": {},
     "output_type": "execute_result"
    }
   ],
   "source": [
    "var=\"soc\"\n",
    "var.center(8)"
   ]
  },
  {
   "cell_type": "code",
   "execution_count": 29,
   "metadata": {},
   "outputs": [
    {
     "data": {
      "text/plain": [
       "['__add__',\n",
       " '__class__',\n",
       " '__contains__',\n",
       " '__delattr__',\n",
       " '__dir__',\n",
       " '__doc__',\n",
       " '__eq__',\n",
       " '__format__',\n",
       " '__ge__',\n",
       " '__getattribute__',\n",
       " '__getitem__',\n",
       " '__getnewargs__',\n",
       " '__gt__',\n",
       " '__hash__',\n",
       " '__init__',\n",
       " '__init_subclass__',\n",
       " '__iter__',\n",
       " '__le__',\n",
       " '__len__',\n",
       " '__lt__',\n",
       " '__mod__',\n",
       " '__mul__',\n",
       " '__ne__',\n",
       " '__new__',\n",
       " '__reduce__',\n",
       " '__reduce_ex__',\n",
       " '__repr__',\n",
       " '__rmod__',\n",
       " '__rmul__',\n",
       " '__setattr__',\n",
       " '__sizeof__',\n",
       " '__str__',\n",
       " '__subclasshook__',\n",
       " 'capitalize',\n",
       " 'casefold',\n",
       " 'center',\n",
       " 'count',\n",
       " 'encode',\n",
       " 'endswith',\n",
       " 'expandtabs',\n",
       " 'find',\n",
       " 'format',\n",
       " 'format_map',\n",
       " 'index',\n",
       " 'isalnum',\n",
       " 'isalpha',\n",
       " 'isascii',\n",
       " 'isdecimal',\n",
       " 'isdigit',\n",
       " 'isidentifier',\n",
       " 'islower',\n",
       " 'isnumeric',\n",
       " 'isprintable',\n",
       " 'isspace',\n",
       " 'istitle',\n",
       " 'isupper',\n",
       " 'join',\n",
       " 'ljust',\n",
       " 'lower',\n",
       " 'lstrip',\n",
       " 'maketrans',\n",
       " 'partition',\n",
       " 'replace',\n",
       " 'rfind',\n",
       " 'rindex',\n",
       " 'rjust',\n",
       " 'rpartition',\n",
       " 'rsplit',\n",
       " 'rstrip',\n",
       " 'split',\n",
       " 'splitlines',\n",
       " 'startswith',\n",
       " 'strip',\n",
       " 'swapcase',\n",
       " 'title',\n",
       " 'translate',\n",
       " 'upper',\n",
       " 'zfill']"
      ]
     },
     "execution_count": 29,
     "metadata": {},
     "output_type": "execute_result"
    }
   ],
   "source": [
    "dir(str)"
   ]
  },
  {
   "cell_type": "code",
   "execution_count": 30,
   "metadata": {},
   "outputs": [
    {
     "data": {
      "text/plain": [
       "'0000000soc'"
      ]
     },
     "execution_count": 30,
     "metadata": {},
     "output_type": "execute_result"
    }
   ],
   "source": [
    "var =\"soc\"\n",
    "var.zfill(10)"
   ]
  },
  {
   "cell_type": "code",
   "execution_count": 31,
   "metadata": {},
   "outputs": [
    {
     "data": {
      "text/plain": [
       "2"
      ]
     },
     "execution_count": 31,
     "metadata": {},
     "output_type": "execute_result"
    }
   ],
   "source": [
    "var =\"soc softech\"\n",
    "var.count('s')"
   ]
  },
  {
   "cell_type": "code",
   "execution_count": 48,
   "metadata": {},
   "outputs": [
    {
     "data": {
      "text/plain": [
       "-1"
      ]
     },
     "execution_count": 48,
     "metadata": {},
     "output_type": "execute_result"
    }
   ],
   "source": [
    "var =\"soc softech\"\n",
    "var.find('3')"
   ]
  },
  {
   "cell_type": "code",
   "execution_count": 47,
   "metadata": {},
   "outputs": [
    {
     "data": {
      "text/plain": [
       "8"
      ]
     },
     "execution_count": 47,
     "metadata": {},
     "output_type": "execute_result"
    }
   ],
   "source": [
    "var =\"soc softech\"\n",
    "var.index('e')"
   ]
  },
  {
   "cell_type": "code",
   "execution_count": 37,
   "metadata": {},
   "outputs": [
    {
     "name": "stdout",
     "output_type": "stream",
     "text": [
      "['soc', 'softech', 'anjan', 'kumar']\n",
      "['soc', 'softech', 'anjan', 'kumar']\n",
      "soc softech anjan kumar\n"
     ]
    }
   ],
   "source": [
    "var =\"soc softech anjan kumar\"\n",
    "print(var.split())\n",
    "var = var.split()\n",
    "print(var)\n",
    "var =\" \".join(var)\n",
    "print(var)"
   ]
  },
  {
   "cell_type": "code",
   "execution_count": 45,
   "metadata": {},
   "outputs": [
    {
     "name": "stdout",
     "output_type": "stream",
     "text": [
      "1oc 1oftech anjan kumar\n",
      "1oc 1oftech anjan kumar\n"
     ]
    }
   ],
   "source": [
    "var =\"soc softech anjan kumar\"\n",
    "print(var.replace('s','1'))\n",
    "var =var.replace('s','1')\n",
    "print(var)"
   ]
  }
 ],
 "metadata": {
  "kernelspec": {
   "display_name": "Python 3",
   "language": "python",
   "name": "python3"
  },
  "language_info": {
   "codemirror_mode": {
    "name": "ipython",
    "version": 3
   },
   "file_extension": ".py",
   "mimetype": "text/x-python",
   "name": "python",
   "nbconvert_exporter": "python",
   "pygments_lexer": "ipython3",
   "version": "3.7.0"
  }
 },
 "nbformat": 4,
 "nbformat_minor": 2
}
