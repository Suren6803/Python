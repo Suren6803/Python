{
 "cells": [
  {
   "cell_type": "markdown",
   "metadata": {},
   "source": [
    "# List datatype\n",
    "\n",
    "---> It is sequential Datatype (A single variable can hold multiple data elements )\n",
    "\n",
    "---> the N no of multiple data elements we can store with in square brackets [ ]\n",
    "\n",
    "\n"
   ]
  },
  {
   "cell_type": "code",
   "execution_count": 1,
   "metadata": {},
   "outputs": [
    {
     "name": "stdout",
     "output_type": "stream",
     "text": [
      "var =  []\n",
      "memory =  788532705992\n",
      "<class 'list'>\n",
      "memory size =  40\n"
     ]
    }
   ],
   "source": [
    "# empty list data type \n",
    "var = []\n",
    "print(\"var = \",var)\n",
    "print(\"memory = \",id(var))\n",
    "print(type(var))\n",
    "print(\"memory size = \",var.__sizeof__())"
   ]
  },
  {
   "cell_type": "code",
   "execution_count": 2,
   "metadata": {},
   "outputs": [
    {
     "name": "stdout",
     "output_type": "stream",
     "text": [
      "var =  [12, 45, 90, 23]\n",
      "memory =  788532705800\n",
      "<class 'list'>\n",
      "memory size =  72\n"
     ]
    }
   ],
   "source": [
    "# homo list int data elements\n",
    "var = [12,45,90,23]\n",
    "print(\"var = \",var)\n",
    "print(\"memory = \",id(var))\n",
    "print(type(var))\n",
    "print(\"memory size = \",var.__sizeof__())"
   ]
  },
  {
   "cell_type": "code",
   "execution_count": 3,
   "metadata": {},
   "outputs": [
    {
     "name": "stdout",
     "output_type": "stream",
     "text": [
      "var =  [12, 45.45, (9+4j), True]\n",
      "memory =  788532704584\n",
      "<class 'list'>\n",
      "memory size =  72\n"
     ]
    }
   ],
   "source": [
    "# hetro list datatype\n",
    "var = [12,45.45,9 + 4j ,True]\n",
    "print(\"var = \",var)\n",
    "print(\"memory = \",id(var))\n",
    "print(type(var))\n",
    "print(\"memory size = \",var.__sizeof__())"
   ]
  },
  {
   "cell_type": "code",
   "execution_count": 4,
   "metadata": {},
   "outputs": [
    {
     "name": "stdout",
     "output_type": "stream",
     "text": [
      "var =  ['soc', [12, 34, 56]]\n",
      "memory =  788532705800\n",
      "<class 'list'>\n",
      "memory size =  56\n"
     ]
    }
   ],
   "source": [
    "# nested list datatype\n",
    "'''\n",
    "with in list we can any stor one sequential data elements \n",
    "'''\n",
    "var = ['soc',[12,34,56]]\n",
    "print(\"var = \",var)\n",
    "print(\"memory = \",id(var))\n",
    "print(type(var))\n",
    "print(\"memory size = \",var.__sizeof__())"
   ]
  },
  {
   "cell_type": "markdown",
   "metadata": {},
   "source": [
    "# access the list data elements \n",
    "\n",
    "1. indexing ( we can access the single list data element at time )\n",
    "\n",
    "    a. positive indexing ( 0  to len of list -1)\n",
    "    \n",
    "    b. Negative indexing ( -1  to - len of list )\n",
    "  \n",
    "2. list slicing (we can access group of continous list of elements as list)\n",
    "\n",
    "    syntax : var [ start index : stop index ]\n",
    "    \n",
    "3. list dicing (we can access the group of step wise indxing data elements from list as list\n",
    "\n",
    "    syntax ;   var [start : stop : step ]\n"
   ]
  },
  {
   "cell_type": "code",
   "execution_count": 5,
   "metadata": {},
   "outputs": [
    {
     "name": "stdout",
     "output_type": "stream",
     "text": [
      "12\n",
      "56\n",
      "34\n",
      "89\n",
      "34\n",
      "90\n",
      "12\n"
     ]
    }
   ],
   "source": [
    "#  positive indexing ( 0 to len of list -1)\n",
    "\n",
    "var  = [12, 56, 34, 89, 34,90 ,12]\n",
    "print(var[0]) # 12\n",
    "print(var[1]) # 56\n",
    "print(var[2]) # 34\n",
    "print(var[3]) #89\n",
    "print(var[4]) #34\n",
    "print(var[5]) # 90\n",
    "print(var[6]) # 12"
   ]
  },
  {
   "cell_type": "code",
   "execution_count": 6,
   "metadata": {},
   "outputs": [
    {
     "name": "stdout",
     "output_type": "stream",
     "text": [
      "12\n",
      "90\n",
      "34\n",
      "89\n",
      "34\n",
      "56\n",
      "12\n"
     ]
    }
   ],
   "source": [
    "#  Negative  indexing ( -1 to -len of list \n",
    "\n",
    "var  = [12, 56, 34, 89, 34,90 ,12]\n",
    "print(var[-1]) # 12\n",
    "print(var[-2]) # 90\n",
    "print(var[-3]) # 34\n",
    "print(var[-4]) # 89\n",
    "print(var[-5]) # 34\n",
    "print(var[-6]) # 56\n",
    "print(var[-7]) # 12"
   ]
  },
  {
   "cell_type": "code",
   "execution_count": 11,
   "metadata": {},
   "outputs": [
    {
     "name": "stdout",
     "output_type": "stream",
     "text": [
      "[90, 67, 34, 78]\n",
      "[90, 67, 34, 78, 2, 7, 3, 90, 12]\n",
      "[90, 67, 34, 78, 2, 7, 3, 90, 12]\n",
      "[34, 90, 67, 34, 78]\n",
      "[34, 90, 67, 34, 78]\n"
     ]
    }
   ],
   "source": [
    "# list slicing (we can access group of continous list of elements as list)\n",
    "\n",
    "var = [34,90,67,34,78,2,7,3,90,12]\n",
    "# [90,67,34,78]\n",
    "print(var[1 : 5])\n",
    "\n",
    "print(var[1:]) # default stop index is len of list\n",
    "print(var[1:10])\n",
    "print(var[:5])  # default start index is  0\n",
    "print(var[0:5])"
   ]
  },
  {
   "cell_type": "code",
   "execution_count": 15,
   "metadata": {},
   "outputs": [
    {
     "name": "stdout",
     "output_type": "stream",
     "text": [
      "[12, 45, 90, 67, 5]\n",
      "[34, 67]\n",
      "[34, 90, 12, 67, 9]\n",
      "[34, 90, 12, 67, 9]\n"
     ]
    }
   ],
   "source": [
    "# list dicing \n",
    "\n",
    "var = [12, 56 , 45, 34, 90,12,67,9,5,3]\n",
    "\n",
    "print(var[0::2])\n",
    "print(var[3:8:3])\n",
    "print(var[3:8:1])\n",
    "print(var[3:8:])# default step is 1"
   ]
  },
  {
   "cell_type": "markdown",
   "metadata": {},
   "source": [
    "# modify the existing data elements from list\n",
    "\n",
    "---> by using assignment  (=)\n",
    "\n",
    "1. indexing (we can modify single element at time )\n",
    "\n",
    "    a. positive indexing \n",
    "    b. negative indexing \n",
    "    \n",
    "2. list slicing (can modify group of continue list elements at a time )\n",
    "\n",
    "3. list dicing ( can modify the group of step wise indexing data elemnts)"
   ]
  },
  {
   "cell_type": "code",
   "execution_count": 16,
   "metadata": {},
   "outputs": [
    {
     "name": "stdout",
     "output_type": "stream",
     "text": [
      "[12, 45, 89, 3, 9, 4, 7]\n",
      "[12, 45, 89, 30, 9, 4, 7]\n",
      "[12, 8, 9, 10, 9, 4, 7]\n",
      "['s', 8, 'o', 10, 'c', 4, 7]\n"
     ]
    }
   ],
   "source": [
    "var = [12,45,89,3,9,4,7]\n",
    "print(var)\n",
    "var[3] =30\n",
    "print(var)\n",
    "var[1:4] =[8,9,10]\n",
    "print(var)\n",
    "var[0:5:2]=['s','o','c']\n",
    "print(var)"
   ]
  },
  {
   "cell_type": "code",
   "execution_count": 17,
   "metadata": {},
   "outputs": [
    {
     "name": "stdout",
     "output_type": "stream",
     "text": [
      "soc\n",
      "[12, 3, 4]\n",
      "c\n",
      "12\n"
     ]
    }
   ],
   "source": [
    "# nested list indexing \n",
    "var = ['soc',[12,3,4]]\n",
    "print(var[0])  # 'soc'\n",
    "print(var[1])  # [12,3,4]\n",
    "print(var[0][2]) # 'c'\n",
    "print(var[1][0]) # 12"
   ]
  },
  {
   "cell_type": "code",
   "execution_count": 21,
   "metadata": {},
   "outputs": [
    {
     "name": "stdout",
     "output_type": "stream",
     "text": [
      "['soc', [24, 3, 4]]\n"
     ]
    }
   ],
   "source": [
    "var[1][0] = 24\n",
    "print(var)"
   ]
  },
  {
   "cell_type": "code",
   "execution_count": 19,
   "metadata": {},
   "outputs": [
    {
     "ename": "TypeError",
     "evalue": "'str' object does not support item assignment",
     "output_type": "error",
     "traceback": [
      "\u001b[1;31m---------------------------------------------------------------------------\u001b[0m",
      "\u001b[1;31mTypeError\u001b[0m                                 Traceback (most recent call last)",
      "\u001b[1;32m<ipython-input-19-415b02e8e5d7>\u001b[0m in \u001b[0;36m<module>\u001b[1;34m()\u001b[0m\n\u001b[1;32m----> 1\u001b[1;33m \u001b[0mvar\u001b[0m\u001b[1;33m[\u001b[0m\u001b[1;36m0\u001b[0m\u001b[1;33m]\u001b[0m\u001b[1;33m[\u001b[0m\u001b[1;36m2\u001b[0m\u001b[1;33m]\u001b[0m \u001b[1;33m=\u001b[0m\u001b[1;34m's'\u001b[0m\u001b[1;33m\u001b[0m\u001b[0m\n\u001b[0m",
      "\u001b[1;31mTypeError\u001b[0m: 'str' object does not support item assignment"
     ]
    }
   ],
   "source": [
    "var[0][2] ='s'"
   ]
  },
  {
   "cell_type": "code",
   "execution_count": 22,
   "metadata": {},
   "outputs": [
    {
     "name": "stdout",
     "output_type": "stream",
     "text": [
      "len =  6\n",
      "max =  90\n",
      "min =  12\n",
      "sum = 304\n"
     ]
    }
   ],
   "source": [
    "var = [12,45,90,45,89,23]\n",
    "print(\"len = \",len(var))\n",
    "print(\"max = \",max(var))\n",
    "print(\"min = \",min(var))\n",
    "print(\"sum =\",sum(var))"
   ]
  },
  {
   "cell_type": "code",
   "execution_count": 25,
   "metadata": {},
   "outputs": [
    {
     "data": {
      "text/plain": [
       "int"
      ]
     },
     "execution_count": 25,
     "metadata": {},
     "output_type": "execute_result"
    }
   ],
   "source": [
    "a =10\n",
    "type(a)"
   ]
  },
  {
   "cell_type": "code",
   "execution_count": 27,
   "metadata": {},
   "outputs": [
    {
     "data": {
      "text/plain": [
       "True"
      ]
     },
     "execution_count": 27,
     "metadata": {},
     "output_type": "execute_result"
    }
   ],
   "source": [
    "# list manioulation methode\n",
    "isinstance(var,list)"
   ]
  },
  {
   "cell_type": "code",
   "execution_count": 28,
   "metadata": {
    "scrolled": true
   },
   "outputs": [
    {
     "data": {
      "text/plain": [
       "['__add__',\n",
       " '__class__',\n",
       " '__contains__',\n",
       " '__delattr__',\n",
       " '__delitem__',\n",
       " '__dir__',\n",
       " '__doc__',\n",
       " '__eq__',\n",
       " '__format__',\n",
       " '__ge__',\n",
       " '__getattribute__',\n",
       " '__getitem__',\n",
       " '__gt__',\n",
       " '__hash__',\n",
       " '__iadd__',\n",
       " '__imul__',\n",
       " '__init__',\n",
       " '__init_subclass__',\n",
       " '__iter__',\n",
       " '__le__',\n",
       " '__len__',\n",
       " '__lt__',\n",
       " '__mul__',\n",
       " '__ne__',\n",
       " '__new__',\n",
       " '__reduce__',\n",
       " '__reduce_ex__',\n",
       " '__repr__',\n",
       " '__reversed__',\n",
       " '__rmul__',\n",
       " '__setattr__',\n",
       " '__setitem__',\n",
       " '__sizeof__',\n",
       " '__str__',\n",
       " '__subclasshook__',\n",
       " 'append',\n",
       " 'clear',\n",
       " 'copy',\n",
       " 'count',\n",
       " 'extend',\n",
       " 'index',\n",
       " 'insert',\n",
       " 'pop',\n",
       " 'remove',\n",
       " 'reverse',\n",
       " 'sort']"
      ]
     },
     "execution_count": 28,
     "metadata": {},
     "output_type": "execute_result"
    }
   ],
   "source": [
    "dir(list)"
   ]
  },
  {
   "cell_type": "code",
   "execution_count": 32,
   "metadata": {},
   "outputs": [
    {
     "name": "stdout",
     "output_type": "stream",
     "text": [
      "Help on method_descriptor:\n",
      "\n",
      "append(self, object, /)\n",
      "    Append object to the end of the list.\n",
      "\n"
     ]
    }
   ],
   "source": [
    "help(list.append)"
   ]
  },
  {
   "cell_type": "code",
   "execution_count": 34,
   "metadata": {},
   "outputs": [
    {
     "name": "stdout",
     "output_type": "stream",
     "text": [
      "Help on method_descriptor:\n",
      "\n",
      "clear(self, /)\n",
      "    Remove all items from list.\n",
      "\n"
     ]
    }
   ],
   "source": [
    "help(list.clear)"
   ]
  },
  {
   "cell_type": "code",
   "execution_count": 35,
   "metadata": {},
   "outputs": [
    {
     "name": "stdout",
     "output_type": "stream",
     "text": [
      "[12, 56, 34]\n",
      "[]\n"
     ]
    }
   ],
   "source": [
    "var = [12,56,34]\n",
    "print(var)\n",
    "var.clear()\n",
    "print(var)"
   ]
  },
  {
   "cell_type": "code",
   "execution_count": 36,
   "metadata": {},
   "outputs": [
    {
     "name": "stdout",
     "output_type": "stream",
     "text": [
      "Help on method_descriptor:\n",
      "\n",
      "copy(self, /)\n",
      "    Return a shallow copy of the list.\n",
      "\n"
     ]
    }
   ],
   "source": [
    "help(list.copy)"
   ]
  },
  {
   "cell_type": "code",
   "execution_count": 37,
   "metadata": {},
   "outputs": [
    {
     "name": "stdout",
     "output_type": "stream",
     "text": [
      "[12, 34, 89]\n",
      "[]\n",
      "[12, 34, 89]\n",
      "[12, 34, 89]\n",
      "[12, 34, 89, 100]\n",
      "[12, 34, 89]\n"
     ]
    }
   ],
   "source": [
    "# shellow copy\n",
    "a = [12,34,89]\n",
    "b = []\n",
    "print(a)\n",
    "print(b)\n",
    "b = a.copy()\n",
    "print(a)\n",
    "print(b)\n",
    "a.append(100)\n",
    "print(a)\n",
    "print(b)"
   ]
  },
  {
   "cell_type": "code",
   "execution_count": 40,
   "metadata": {},
   "outputs": [
    {
     "name": "stdout",
     "output_type": "stream",
     "text": [
      "Help on method_descriptor:\n",
      "\n",
      "count(self, value, /)\n",
      "    Return number of occurrences of value.\n",
      "\n"
     ]
    }
   ],
   "source": [
    "help(list.count)"
   ]
  },
  {
   "cell_type": "code",
   "execution_count": 39,
   "metadata": {},
   "outputs": [
    {
     "name": "stdout",
     "output_type": "stream",
     "text": [
      "4\n"
     ]
    }
   ],
   "source": [
    "# count \n",
    "var = [12,45,12,90,12,78,12]\n",
    "print(var.count(12))"
   ]
  },
  {
   "cell_type": "code",
   "execution_count": 44,
   "metadata": {},
   "outputs": [
    {
     "name": "stdout",
     "output_type": "stream",
     "text": [
      "index =  5\n"
     ]
    },
    {
     "ename": "ValueError",
     "evalue": "100 is not in list",
     "output_type": "error",
     "traceback": [
      "\u001b[1;31m---------------------------------------------------------------------------\u001b[0m",
      "\u001b[1;31mValueError\u001b[0m                                Traceback (most recent call last)",
      "\u001b[1;32m<ipython-input-44-bff141839739>\u001b[0m in \u001b[0;36m<module>\u001b[1;34m()\u001b[0m\n\u001b[0;32m      2\u001b[0m \u001b[0mvar\u001b[0m \u001b[1;33m=\u001b[0m \u001b[1;33m[\u001b[0m\u001b[1;36m12\u001b[0m\u001b[1;33m,\u001b[0m\u001b[1;36m45\u001b[0m\u001b[1;33m,\u001b[0m\u001b[1;36m12\u001b[0m\u001b[1;33m,\u001b[0m\u001b[1;36m90\u001b[0m\u001b[1;33m,\u001b[0m\u001b[1;36m12\u001b[0m\u001b[1;33m,\u001b[0m\u001b[1;36m78\u001b[0m\u001b[1;33m,\u001b[0m\u001b[1;36m12\u001b[0m\u001b[1;33m]\u001b[0m\u001b[1;33m\u001b[0m\u001b[0m\n\u001b[0;32m      3\u001b[0m \u001b[0mprint\u001b[0m\u001b[1;33m(\u001b[0m\u001b[1;34m\"index = \"\u001b[0m\u001b[1;33m,\u001b[0m\u001b[0mvar\u001b[0m\u001b[1;33m.\u001b[0m\u001b[0mindex\u001b[0m\u001b[1;33m(\u001b[0m\u001b[1;36m78\u001b[0m\u001b[1;33m)\u001b[0m\u001b[1;33m)\u001b[0m\u001b[1;33m\u001b[0m\u001b[0m\n\u001b[1;32m----> 4\u001b[1;33m \u001b[0mprint\u001b[0m\u001b[1;33m(\u001b[0m\u001b[1;34m\"index = \"\u001b[0m\u001b[1;33m,\u001b[0m\u001b[0mvar\u001b[0m\u001b[1;33m.\u001b[0m\u001b[0mindex\u001b[0m\u001b[1;33m(\u001b[0m\u001b[1;36m100\u001b[0m\u001b[1;33m)\u001b[0m\u001b[1;33m)\u001b[0m\u001b[1;33m\u001b[0m\u001b[0m\n\u001b[0m",
      "\u001b[1;31mValueError\u001b[0m: 100 is not in list"
     ]
    }
   ],
   "source": [
    "#indexing \n",
    "var = [12,45,12,90,12,78,12]\n",
    "print(\"index = \",var.index(78))\n",
    "print(\"index = \",var.index(100))"
   ]
  },
  {
   "cell_type": "code",
   "execution_count": 45,
   "metadata": {},
   "outputs": [
    {
     "name": "stdout",
     "output_type": "stream",
     "text": [
      "[1, 2, 3, 4, 5, 6]\n"
     ]
    }
   ],
   "source": [
    "a = [1,2,3]\n",
    "b = [4,5,6]\n",
    "a.extend(b)\n",
    "print(a)"
   ]
  },
  {
   "cell_type": "code",
   "execution_count": 46,
   "metadata": {},
   "outputs": [
    {
     "name": "stdout",
     "output_type": "stream",
     "text": [
      "89\n",
      "[12, 45, 90]\n",
      "90\n",
      "[12, 45]\n"
     ]
    }
   ],
   "source": [
    "var = [12,45,90,89]\n",
    "print(var.pop()) # -1\n",
    "print(var)\n",
    "print(var.pop())\n",
    "print(var)"
   ]
  },
  {
   "cell_type": "code",
   "execution_count": 47,
   "metadata": {},
   "outputs": [
    {
     "name": "stdout",
     "output_type": "stream",
     "text": [
      "[12, 45, 90, 89]\n",
      "90\n",
      "[12, 45, 89]\n",
      "45\n",
      "[12, 89]\n"
     ]
    }
   ],
   "source": [
    "var = [12,45,90,89]\n",
    "print(var)\n",
    "print(var.pop(2)) # -1\n",
    "print(var)\n",
    "print(var.pop(1))\n",
    "print(var)"
   ]
  },
  {
   "cell_type": "code",
   "execution_count": 48,
   "metadata": {},
   "outputs": [
    {
     "name": "stdout",
     "output_type": "stream",
     "text": [
      "[12, 45, 89]\n"
     ]
    },
    {
     "ename": "ValueError",
     "evalue": "list.remove(x): x not in list",
     "output_type": "error",
     "traceback": [
      "\u001b[1;31m---------------------------------------------------------------------------\u001b[0m",
      "\u001b[1;31mValueError\u001b[0m                                Traceback (most recent call last)",
      "\u001b[1;32m<ipython-input-48-ed166af4d256>\u001b[0m in \u001b[0;36m<module>\u001b[1;34m()\u001b[0m\n\u001b[0;32m      2\u001b[0m \u001b[0mvar\u001b[0m\u001b[1;33m.\u001b[0m\u001b[0mremove\u001b[0m\u001b[1;33m(\u001b[0m\u001b[1;36m90\u001b[0m\u001b[1;33m)\u001b[0m\u001b[1;33m\u001b[0m\u001b[0m\n\u001b[0;32m      3\u001b[0m \u001b[0mprint\u001b[0m\u001b[1;33m(\u001b[0m\u001b[0mvar\u001b[0m\u001b[1;33m)\u001b[0m\u001b[1;33m\u001b[0m\u001b[0m\n\u001b[1;32m----> 4\u001b[1;33m \u001b[0mvar\u001b[0m\u001b[1;33m.\u001b[0m\u001b[0mremove\u001b[0m\u001b[1;33m(\u001b[0m\u001b[1;36m100\u001b[0m\u001b[1;33m)\u001b[0m\u001b[1;33m\u001b[0m\u001b[0m\n\u001b[0m",
      "\u001b[1;31mValueError\u001b[0m: list.remove(x): x not in list"
     ]
    }
   ],
   "source": [
    "var = [12,45,90,89]\n",
    "var.remove(90)\n",
    "print(var)\n",
    "var.remove(100)"
   ]
  },
  {
   "cell_type": "code",
   "execution_count": 49,
   "metadata": {},
   "outputs": [
    {
     "name": "stdout",
     "output_type": "stream",
     "text": [
      "[6, 3, 9, 2, 0, 1]\n",
      "[1, 0, 2, 9, 3, 6]\n"
     ]
    }
   ],
   "source": [
    "var = [6,3,9,2,0,1]\n",
    "print(var)\n",
    "var.reverse()\n",
    "print(var)"
   ]
  },
  {
   "cell_type": "code",
   "execution_count": 50,
   "metadata": {},
   "outputs": [
    {
     "name": "stdout",
     "output_type": "stream",
     "text": [
      "[6, 3, 9, 2, 0, 1]\n",
      "[0, 1, 2, 3, 6, 9]\n"
     ]
    }
   ],
   "source": [
    "var = [6,3,9,2,0,1]\n",
    "print(var)\n",
    "var.sort()\n",
    "print(var)"
   ]
  },
  {
   "cell_type": "code",
   "execution_count": 43,
   "metadata": {},
   "outputs": [
    {
     "data": {
      "text/plain": [
       "['__add__',\n",
       " '__class__',\n",
       " '__contains__',\n",
       " '__delattr__',\n",
       " '__delitem__',\n",
       " '__dir__',\n",
       " '__doc__',\n",
       " '__eq__',\n",
       " '__format__',\n",
       " '__ge__',\n",
       " '__getattribute__',\n",
       " '__getitem__',\n",
       " '__gt__',\n",
       " '__hash__',\n",
       " '__iadd__',\n",
       " '__imul__',\n",
       " '__init__',\n",
       " '__init_subclass__',\n",
       " '__iter__',\n",
       " '__le__',\n",
       " '__len__',\n",
       " '__lt__',\n",
       " '__mul__',\n",
       " '__ne__',\n",
       " '__new__',\n",
       " '__reduce__',\n",
       " '__reduce_ex__',\n",
       " '__repr__',\n",
       " '__reversed__',\n",
       " '__rmul__',\n",
       " '__setattr__',\n",
       " '__setitem__',\n",
       " '__sizeof__',\n",
       " '__str__',\n",
       " '__subclasshook__',\n",
       " 'append',\n",
       " 'clear',\n",
       " 'copy',\n",
       " 'count',\n",
       " 'extend',\n",
       " 'index',\n",
       " 'insert',\n",
       " 'pop',\n",
       " 'remove',\n",
       " 'reverse',\n",
       " 'sort']"
      ]
     },
     "execution_count": 43,
     "metadata": {},
     "output_type": "execute_result"
    }
   ],
   "source": [
    "dir(list)"
   ]
  },
  {
   "cell_type": "code",
   "execution_count": 38,
   "metadata": {},
   "outputs": [
    {
     "name": "stdout",
     "output_type": "stream",
     "text": [
      "[12, 34, 89]\n",
      "[]\n",
      "[12, 34, 89]\n",
      "[12, 34, 89]\n",
      "[12, 34, 89, 100]\n",
      "[12, 34, 89, 100]\n"
     ]
    }
   ],
   "source": [
    "#deep copy\n",
    "a = [12,34,89]\n",
    "b = []\n",
    "print(a)\n",
    "print(b)\n",
    "b = a\n",
    "print(a)\n",
    "print(b)\n",
    "a.append(100)\n",
    "print(a)\n",
    "print(b)"
   ]
  },
  {
   "cell_type": "code",
   "execution_count": 33,
   "metadata": {},
   "outputs": [
    {
     "name": "stdout",
     "output_type": "stream",
     "text": [
      "[12, 34]\n",
      "[12, 34, 100]\n"
     ]
    }
   ],
   "source": [
    "var = [12,34]\n",
    "print(var)\n",
    "var.append(100)\n",
    "print(var)"
   ]
  },
  {
   "cell_type": "code",
   "execution_count": 31,
   "metadata": {},
   "outputs": [
    {
     "name": "stdout",
     "output_type": "stream",
     "text": [
      "True\n",
      "True\n",
      "[1, 2, 3, 4, 5, 6]\n",
      "[1, 2, 3, 4, 5, 6]\n"
     ]
    }
   ],
   "source": [
    "a = [1,2,3]\n",
    "b =[4,5,6]\n",
    "print(2 in a)\n",
    "print(a.__contains__(2))\n",
    "print(a+b)\n",
    "print(a.__add__(b))"
   ]
  },
  {
   "cell_type": "code",
   "execution_count": null,
   "metadata": {},
   "outputs": [],
   "source": []
  }
 ],
 "metadata": {
  "kernelspec": {
   "display_name": "Python 3",
   "language": "python",
   "name": "python3"
  },
  "language_info": {
   "codemirror_mode": {
    "name": "ipython",
    "version": 3
   },
   "file_extension": ".py",
   "mimetype": "text/x-python",
   "name": "python",
   "nbconvert_exporter": "python",
   "pygments_lexer": "ipython3",
   "version": "3.7.0"
  }
 },
 "nbformat": 4,
 "nbformat_minor": 2
}
