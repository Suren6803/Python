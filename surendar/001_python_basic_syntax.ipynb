{
 "cells": [
  {
   "cell_type": "markdown",
   "metadata": {},
   "source": [
    "# Data science with python\n",
    "\n",
    "\n",
    "----> Python / R / spark / scala / java ( 4 weeks / 30 days / hours )\n",
    "\n",
    "----> Mathametics / Linear Algebra / probability / stastics(2 week)\n",
    "        1. Numpy\n",
    "        2. pandas\n",
    "        3. matplotlib\n",
    "\n",
    "----> Data processing ( Data analysis / Data Visulaization + projects   1 week\n",
    "\n",
    "---> Machine Learning  ( 10 algorithms / 2 project + 4 projects)  +2 weeks \n",
    "\n",
    "\n",
    "total 10 weeks  ( 70 to 80 hours )"
   ]
  },
  {
   "cell_type": "markdown",
   "metadata": {},
   "source": [
    "# python basic syntax:\n",
    "\n",
    "----> syntax is a structure / set of rules for wirinting an instruction\n",
    "\n",
    "---> What is instruction ?\n",
    "\n",
    "        |\n",
    "        |\n",
    "        ------>Types \n",
    "        \n",
    "---> What is names ?\n",
    "\n",
    "        |\n",
    "        |-----> Types\n",
    "        \n",
    "---> Python Varibale\n",
    "\n",
    "---> Python Datatypes"
   ]
  },
  {
   "cell_type": "markdown",
   "metadata": {},
   "source": [
    "# What is instruction\n",
    "\n",
    "---> It can be used for to instruct the computer by some lines in a program \n",
    "\n",
    "---> A line of code in a program is called instruction\n",
    "\n",
    "\n",
    "Types of instructions\n",
    "\n",
    "    1. comments  ( An instruction its never executable )\n",
    "    \n",
    "    2. statements ( An instruction can be executable)\n",
    "\n"
   ]
  },
  {
   "cell_type": "code",
   "execution_count": 3,
   "metadata": {},
   "outputs": [
    {
     "name": "stdout",
     "output_type": "stream",
     "text": [
      "hello\n",
      "\n",
      "hello\n",
      "bye\n",
      "\n",
      "hai\n",
      "bye\n"
     ]
    }
   ],
   "source": [
    "# single comments \n",
    "'''\n",
    "multiline \n",
    "commnets \n",
    "\n",
    "'''\n",
    "print(\"hello\")# singlee statements\n",
    "\n",
    "# multiline statements\n",
    "print('''\n",
    "hello\n",
    "bye\n",
    "''')\n",
    "\n",
    "print(\"hai\") ;print(\"bye\")  # multiple statements"
   ]
  },
  {
   "cell_type": "markdown",
   "metadata": {},
   "source": [
    "# python names\n",
    "\n",
    "---> which are used for to implementing the insturction\n",
    "\n",
    "Types :\n",
    "\n",
    "        1. keywords   (predefined word / reserved word) # specific task\n",
    "        \n",
    "        2. Identifiers( user defined wors ) # to identify the variable, function and classes names\n",
    "        \n",
    "        Rules:-\n",
    "        -------\n",
    "        1. alpahbets( a/z  -  A/Z)\n",
    "        2. Digits( 0 to 9)\n",
    "        3. Underscore (_)\n",
    "        ------------------\n",
    "        4. dont use as 1st letter is digits \n",
    "        5. special character  dont use it\n",
    "        6. Keywords dont use it "
   ]
  },
  {
   "cell_type": "code",
   "execution_count": 4,
   "metadata": {},
   "outputs": [
    {
     "name": "stdout",
     "output_type": "stream",
     "text": [
      "35\n",
      "['False', 'None', 'True', 'and', 'as', 'assert', 'async', 'await', 'break', 'class', 'continue', 'def', 'del', 'elif', 'else', 'except', 'finally', 'for', 'from', 'global', 'if', 'import', 'in', 'is', 'lambda', 'nonlocal', 'not', 'or', 'pass', 'raise', 'return', 'try', 'while', 'with', 'yield']\n"
     ]
    }
   ],
   "source": [
    "import keyword\n",
    "print(len(keyword.kwlist))\n",
    "print(keyword.kwlist)"
   ]
  },
  {
   "cell_type": "markdown",
   "metadata": {},
   "source": [
    "# python variable \n",
    "\n",
    "---> to store some data into memory location\n",
    "\n",
    "---> dont use variable declaraction"
   ]
  },
  {
   "cell_type": "code",
   "execution_count": 6,
   "metadata": {},
   "outputs": [
    {
     "name": "stdout",
     "output_type": "stream",
     "text": [
      "140711141113408\n",
      "140711141113472\n"
     ]
    }
   ],
   "source": [
    "var = 123  # variable defination\n",
    "print(id(var))\n",
    "var = 125  # variable defination\n",
    "print(id(var))"
   ]
  },
  {
   "cell_type": "markdown",
   "metadata": {},
   "source": [
    "# python datatypes\n",
    "\n",
    "\n",
    "----> to specify the what type of data holded by variable \n",
    "\n",
    "----> All datatypes are predefined class\n",
    "\n",
    "---> whenever we assigned the data to variable , then variable are object\n",
    "\n",
    "----> Memory size, memory location , datatype name those characterics are handeld by data type class\n",
    "\n",
    "---> Based on storage capability there 2 type of datatypes \n",
    "\n",
    "\n",
    "    1. Fundamental Datatype ( single variable can hold single daata)\n",
    "    \n",
    "        a. int  ----> all numarical / decimal\n",
    "        b. float  --> all decimal with decimal points \n",
    "        c. complex --> combination real and imaginary ( x +yj)\n",
    "        d. bool ----> True / False \n",
    "        e. None ----> None ( no  data , memory , size)\n",
    "    \n",
    "    \n",
    "    2. Sequential Datatype(single varibale can store multiple data)\n",
    "    \n",
    "        a. str\n",
    "        b. list\n",
    "        c. tuple\n",
    "        d. set\n",
    "        e. dict\n",
    "\n",
    "        \n",
    "\n",
    "\n",
    "\n",
    "\n"
   ]
  },
  {
   "cell_type": "code",
   "execution_count": 2,
   "metadata": {},
   "outputs": [
    {
     "name": "stdout",
     "output_type": "stream",
     "text": [
      "var =  123\n",
      "<class 'int'>\n",
      "140730913259072\n",
      "28  bytes\n"
     ]
    }
   ],
   "source": [
    "var = 123\n",
    "print(\"var = \",var)\n",
    "print(type(var))\n",
    "print(id(var))\n",
    "print(var.__sizeof__(),\" bytes\")"
   ]
  },
  {
   "cell_type": "code",
   "execution_count": 3,
   "metadata": {},
   "outputs": [
    {
     "name": "stdout",
     "output_type": "stream",
     "text": [
      "var =  123.89\n",
      "<class 'float'>\n",
      "583396634392\n",
      "24  bytes\n"
     ]
    }
   ],
   "source": [
    "var = 123.890\n",
    "print(\"var = \",var)\n",
    "print(type(var))\n",
    "print(id(var))\n",
    "print(var.__sizeof__(),\" bytes\")"
   ]
  },
  {
   "cell_type": "code",
   "execution_count": 4,
   "metadata": {},
   "outputs": [
    {
     "name": "stdout",
     "output_type": "stream",
     "text": [
      "var =  (12+34j)\n",
      "<class 'complex'>\n",
      "583425187184\n",
      "32  bytes\n"
     ]
    }
   ],
   "source": [
    "var = 12 +34j\n",
    "print(\"var = \",var)\n",
    "print(type(var))\n",
    "print(id(var))\n",
    "print(var.__sizeof__(),\" bytes\")"
   ]
  },
  {
   "cell_type": "code",
   "execution_count": 5,
   "metadata": {},
   "outputs": [
    {
     "name": "stdout",
     "output_type": "stream",
     "text": [
      "var =  True\n",
      "<class 'bool'>\n",
      "140730912739856\n",
      "28  bytes\n"
     ]
    }
   ],
   "source": [
    "var = True\n",
    "print(\"var = \",var)\n",
    "print(type(var))\n",
    "print(id(var))\n",
    "print(var.__sizeof__(),\" bytes\")"
   ]
  },
  {
   "cell_type": "code",
   "execution_count": 6,
   "metadata": {},
   "outputs": [
    {
     "name": "stdout",
     "output_type": "stream",
     "text": [
      "var =  False\n",
      "<class 'bool'>\n",
      "140730912739888\n",
      "24  bytes\n"
     ]
    }
   ],
   "source": [
    "var = False\n",
    "print(\"var = \",var)\n",
    "print(type(var))\n",
    "print(id(var))\n",
    "print(var.__sizeof__(),\" bytes\")"
   ]
  },
  {
   "cell_type": "code",
   "execution_count": 7,
   "metadata": {},
   "outputs": [
    {
     "name": "stdout",
     "output_type": "stream",
     "text": [
      "var =  None\n",
      "<class 'NoneType'>\n",
      "140730912786448\n",
      "16  bytes\n"
     ]
    }
   ],
   "source": [
    "var = None\n",
    "print(\"var = \",var)\n",
    "print(type(var))\n",
    "print(id(var))\n",
    "print(var.__sizeof__(),\" bytes\")"
   ]
  },
  {
   "cell_type": "code",
   "execution_count": 8,
   "metadata": {},
   "outputs": [
    {
     "name": "stdout",
     "output_type": "stream",
     "text": [
      "var =  python\n",
      "<class 'str'>\n",
      "583380107928\n",
      "55  bytes\n"
     ]
    }
   ],
   "source": [
    "# string datatype\n",
    "'''\n",
    "Group of character we can store  double \" \"\n",
    "\n",
    "'''\n",
    "var = \"python\"\n",
    "print(\"var = \",var)\n",
    "print(type(var))\n",
    "print(id(var))\n",
    "print(var.__sizeof__(),\" bytes\")"
   ]
  },
  {
   "cell_type": "code",
   "execution_count": 9,
   "metadata": {},
   "outputs": [
    {
     "name": "stdout",
     "output_type": "stream",
     "text": [
      "var =  [123.89, 45, True]\n",
      "<class 'list'>\n",
      "583424754440\n",
      "64  bytes\n"
     ]
    }
   ],
   "source": [
    "# list data \n",
    "'''\n",
    "we can with in []\n",
    "'''\n",
    "var = [123.890,45,True]\n",
    "print(\"var = \",var)\n",
    "print(type(var))\n",
    "print(id(var))\n",
    "print(var.__sizeof__(),\" bytes\")"
   ]
  },
  {
   "cell_type": "code",
   "execution_count": 10,
   "metadata": {},
   "outputs": [
    {
     "name": "stdout",
     "output_type": "stream",
     "text": [
      "var =  (123.89, 23, True)\n",
      "<class 'tuple'>\n",
      "583425504456\n",
      "48  bytes\n"
     ]
    }
   ],
   "source": [
    "# tuple data type\n",
    "'''\n",
    "we can store with in panthasis ( )\n",
    "'''\n",
    "var = (123.890,23,True)\n",
    "print(\"var = \",var)\n",
    "print(type(var))\n",
    "print(id(var))\n",
    "print(var.__sizeof__(),\" bytes\")"
   ]
  },
  {
   "cell_type": "code",
   "execution_count": 11,
   "metadata": {},
   "outputs": [
    {
     "name": "stdout",
     "output_type": "stream",
     "text": [
      "var =  {89, 34, 123.89}\n",
      "<class 'set'>\n",
      "583425594760\n",
      "200  bytes\n"
     ]
    }
   ],
   "source": [
    "# set dict \n",
    "'''\n",
    "we can store with { }\n",
    "'''\n",
    "var = {123.890,34,89}\n",
    "print(\"var = \",var)\n",
    "print(type(var))\n",
    "print(id(var))\n",
    "print(var.__sizeof__(),\" bytes\")"
   ]
  },
  {
   "cell_type": "code",
   "execution_count": 12,
   "metadata": {},
   "outputs": [
    {
     "name": "stdout",
     "output_type": "stream",
     "text": [
      "var =  {6: 'python', 3: 'c++', 4: 'java'}\n",
      "<class 'dict'>\n",
      "583399483576\n",
      "216  bytes\n"
     ]
    }
   ],
   "source": [
    "# dict \n",
    "'''\n",
    "{ k1 : v1 , k2 :v2}\n",
    "\n",
    "'''\n",
    "var = {6:'python' ,3:\"c++\",4:'java'}\n",
    "print(\"var = \",var)\n",
    "print(type(var))\n",
    "print(id(var))\n",
    "print(var.__sizeof__(),\" bytes\")"
   ]
  }
 ],
 "metadata": {
  "kernelspec": {
   "display_name": "Python 3",
   "language": "python",
   "name": "python3"
  },
  "language_info": {
   "codemirror_mode": {
    "name": "ipython",
    "version": 3
   },
   "file_extension": ".py",
   "mimetype": "text/x-python",
   "name": "python",
   "nbconvert_exporter": "python",
   "pygments_lexer": "ipython3",
   "version": "3.7.0"
  }
 },
 "nbformat": 4,
 "nbformat_minor": 2
}
