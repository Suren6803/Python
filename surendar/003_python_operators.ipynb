{
 "cells": [
  {
   "cell_type": "markdown",
   "metadata": {},
   "source": [
    "# Based operands \n",
    "\n",
    "1. Unary Operators\n",
    "\n",
    "2. Binary Operators"
   ]
  },
  {
   "cell_type": "code",
   "execution_count": 1,
   "metadata": {},
   "outputs": [
    {
     "name": "stdout",
     "output_type": "stream",
     "text": [
      "False\n",
      "-35\n",
      "123\n",
      "-12\n"
     ]
    }
   ],
   "source": [
    "# Unary Operator\n",
    "print(not 567)  # False   ---> logical not\n",
    "print(~ 34)     # -35   ------> Bitwise not\n",
    "print(+ 123)    # unary plus\n",
    "print(-12)      # unary minus"
   ]
  },
  {
   "cell_type": "code",
   "execution_count": 2,
   "metadata": {},
   "outputs": [
    {
     "name": "stdout",
     "output_type": "stream",
     "text": [
      "50\n",
      "3\n",
      "True\n",
      "True\n"
     ]
    }
   ],
   "source": [
    "# Binary Operator\n",
    "print(20+30) #50 ---> 20+30 ---> 50\n",
    "print(50 -47)\n",
    "print( 10 < 30)\n",
    "print( 10 in [10,20,30])\n"
   ]
  },
  {
   "cell_type": "markdown",
   "metadata": {},
   "source": [
    "# based on Operations \n",
    "\n",
    "1. Arithmetic Operator \n",
    "    a. addition ( binary plus)  +\n",
    "    \n",
    "    b. subtraction(  binary minus ) -\n",
    "    \n",
    "    c. multiplication (* )\n",
    "    \n",
    "    d. Division   --> quocent (/) ---> float ---> python3\n",
    "    \n",
    "    e. floor  ( // ) ---> flooring the data\n",
    "    \n",
    "    d. modulus ( % ) --> reminder\n",
    "    \n",
    "    e. exponant (**) ---> a ** b ---> a power of b\n",
    "    "
   ]
  },
  {
   "cell_type": "code",
   "execution_count": 3,
   "metadata": {},
   "outputs": [
    {
     "name": "stdout",
     "output_type": "stream",
     "text": [
      "enter int : 23\n",
      "enter int2\n",
      "23  +  2  =  25\n",
      "23  -  2  =  21\n",
      "23  *  2  =  46\n",
      "23  /  2  =  11.5\n",
      "23  //  2  =  11\n",
      "23  %  2  =  1\n",
      "23  **  2  =  529\n"
     ]
    }
   ],
   "source": [
    "a = int(input(\"enter int : \"))\n",
    "b = int(input(\"enter int\"))\n",
    "print(a,\" + \",b ,\" = \",a+b)\n",
    "print(a,\" - \",b ,\" = \",a-b)\n",
    "print(a,\" * \",b ,\" = \",a*b)\n",
    "print(a,\" / \",b ,\" = \",a/b)\n",
    "print(a,\" // \",b ,\" = \",a//b)\n",
    "print(a,\" % \",b ,\" = \",a%b)\n",
    "print(a,\" ** \",b ,\" = \",a**b)"
   ]
  },
  {
   "cell_type": "code",
   "execution_count": 4,
   "metadata": {},
   "outputs": [
    {
     "name": "stdout",
     "output_type": "stream",
     "text": [
      "enter float : 23.0\n",
      "enter float2.0\n",
      "23.0  +  2.0  =  25.0\n",
      "23.0  -  2.0  =  21.0\n",
      "23.0  *  2.0  =  46.0\n",
      "23.0  /  2.0  =  11.5\n",
      "23.0  //  2.0  =  11.0\n",
      "23.0  %  2.0  =  1.0\n",
      "23.0  **  2.0  =  529.0\n"
     ]
    }
   ],
   "source": [
    "a = float(input(\"enter float : \"))\n",
    "b = float(input(\"enter float\"))\n",
    "print(a,\" + \",b ,\" = \",a+b)\n",
    "print(a,\" - \",b ,\" = \",a-b)\n",
    "print(a,\" * \",b ,\" = \",a*b)\n",
    "print(a,\" / \",b ,\" = \",a/b)\n",
    "print(a,\" // \",b ,\" = \",a//b)\n",
    "print(a,\" % \",b ,\" = \",a%b)\n",
    "print(a,\" ** \",b ,\" = \",a**b)"
   ]
  },
  {
   "cell_type": "code",
   "execution_count": 11,
   "metadata": {},
   "outputs": [
    {
     "name": "stdout",
     "output_type": "stream",
     "text": [
      "7.5\n",
      "7.5\n",
      "19.5\n"
     ]
    }
   ],
   "source": [
    "print(3*5/2) #25\n",
    "print(3*(5/2))\n",
    "print(3*5/2+6*2) # 15/2+12  # 7.5 +12 ---> 19.5"
   ]
  },
  {
   "cell_type": "code",
   "execution_count": 12,
   "metadata": {},
   "outputs": [
    {
     "name": "stdout",
     "output_type": "stream",
     "text": [
      "enter radius in meters : 12\n",
      "area of circle  452.3893421169302  sq.m\n",
      "perimter of circle  75.39822368615503  meters\n"
     ]
    }
   ],
   "source": [
    "# wap find area of circle and perimter \n",
    "import math\n",
    "r = float(input(\"enter radius in meters : \"))\n",
    "area = math.pi * (r**2)\n",
    "peri = 2*math.pi*r\n",
    "print(\"area of circle \",area,\" sq.m\")\n",
    "print(\"perimter of circle \",peri,\" meters\")\n",
    "\n"
   ]
  },
  {
   "cell_type": "code",
   "execution_count": null,
   "metadata": {},
   "outputs": [],
   "source": [
    "# wap find the area and perimter of the square \n"
   ]
  },
  {
   "cell_type": "code",
   "execution_count": null,
   "metadata": {},
   "outputs": [],
   "source": [
    "# wap find the area and perimter of the rectangle"
   ]
  },
  {
   "cell_type": "code",
   "execution_count": null,
   "metadata": {},
   "outputs": [],
   "source": [
    "# wap find the area and perimter of the triangle"
   ]
  },
  {
   "cell_type": "code",
   "execution_count": null,
   "metadata": {},
   "outputs": [],
   "source": [
    "# wap find the simple intrest \n"
   ]
  },
  {
   "cell_type": "code",
   "execution_count": null,
   "metadata": {},
   "outputs": [],
   "source": [
    "# wap find sum of the 1st N natural number"
   ]
  },
  {
   "cell_type": "code",
   "execution_count": null,
   "metadata": {},
   "outputs": [],
   "source": [
    "# wap find the sum of the squares of the 1st Natural"
   ]
  },
  {
   "cell_type": "code",
   "execution_count": null,
   "metadata": {},
   "outputs": [],
   "source": [
    "# wap find the sum of the cubes of the 1st Natural"
   ]
  }
 ],
 "metadata": {
  "kernelspec": {
   "display_name": "Python 3",
   "language": "python",
   "name": "python3"
  },
  "language_info": {
   "codemirror_mode": {
    "name": "ipython",
    "version": 3
   },
   "file_extension": ".py",
   "mimetype": "text/x-python",
   "name": "python",
   "nbconvert_exporter": "python",
   "pygments_lexer": "ipython3",
   "version": "3.7.0"
  }
 },
 "nbformat": 4,
 "nbformat_minor": 2
}
