{
 "cells": [
  {
   "cell_type": "markdown",
   "metadata": {},
   "source": [
    "# string datatype\n",
    "\n",
    "---> A group of characters , we can store with in  single  quote ' ' / \"  \" / ''' ''' / \"\"\" \"\"\""
   ]
  },
  {
   "cell_type": "code",
   "execution_count": 1,
   "metadata": {},
   "outputs": [
    {
     "name": "stdout",
     "output_type": "stream",
     "text": [
      "var =  python\n",
      "id =  716105451088\n",
      "<class 'str'>\n"
     ]
    }
   ],
   "source": [
    "var = 'python'\n",
    "print(\"var = \",var)\n",
    "print(\"id = \",id(var))\n",
    "print(type(var))"
   ]
  },
  {
   "cell_type": "code",
   "execution_count": 2,
   "metadata": {},
   "outputs": [
    {
     "name": "stdout",
     "output_type": "stream",
     "text": [
      "var =  python\n",
      "id =  716105451088\n",
      "<class 'str'>\n"
     ]
    }
   ],
   "source": [
    "var = \"python\"\n",
    "print(\"var = \",var)\n",
    "print(\"id = \",id(var))\n",
    "print(type(var))"
   ]
  },
  {
   "cell_type": "code",
   "execution_count": 3,
   "metadata": {},
   "outputs": [
    {
     "name": "stdout",
     "output_type": "stream",
     "text": [
      "var =  python\n",
      "id =  716105451088\n",
      "<class 'str'>\n"
     ]
    }
   ],
   "source": [
    "var = '''python'''\n",
    "print(\"var = \",var)\n",
    "print(\"id = \",id(var))\n",
    "print(type(var))"
   ]
  },
  {
   "cell_type": "code",
   "execution_count": 4,
   "metadata": {},
   "outputs": [
    {
     "name": "stdout",
     "output_type": "stream",
     "text": [
      "var =  python\n",
      "id =  716105451088\n",
      "<class 'str'>\n"
     ]
    }
   ],
   "source": [
    "var = \"\"\"python\"\"\"\n",
    "print(\"var = \",var)\n",
    "print(\"id = \",id(var))\n",
    "print(type(var))"
   ]
  },
  {
   "cell_type": "markdown",
   "metadata": {},
   "source": [
    "# access the characters from string \n",
    "\n",
    "    1. indexing ( integer )( single character)\n",
    "        a. positive indexing ( +ve integer )\n",
    "        b. Negative indexing (-ve integer )"
   ]
  },
  {
   "cell_type": "code",
   "execution_count": 5,
   "metadata": {},
   "outputs": [
    {
     "name": "stdout",
     "output_type": "stream",
     "text": [
      "p\n",
      "y\n",
      "t\n",
      "h\n",
      "o\n",
      "n\n"
     ]
    }
   ],
   "source": [
    "# positive indexing /  forward direction\n",
    "var =\"python\"\n",
    "print(var[0])  # p\n",
    "print(var[1])  #y\n",
    "print(var[2])  #t\n",
    "print(var[3])\n",
    "print(var[4])\n",
    "print(var[5])\n"
   ]
  },
  {
   "cell_type": "code",
   "execution_count": 6,
   "metadata": {},
   "outputs": [
    {
     "name": "stdout",
     "output_type": "stream",
     "text": [
      "n\n",
      "o\n",
      "h\n",
      "t\n",
      "y\n",
      "p\n"
     ]
    }
   ],
   "source": [
    "# Negative indexing /  backward direction\n",
    "var =\"python\"\n",
    "print(var[-1])  #n\n",
    "print(var[-2])  #o\n",
    "print(var[-3])  #h\n",
    "print(var[-4]) #t\n",
    "print(var[-5]) #y\n",
    "print(var[-6]) #p\n"
   ]
  },
  {
   "cell_type": "markdown",
   "metadata": {},
   "source": [
    "2. String slicing \n",
    "\n",
    "---> we can access the sub string from main string \n",
    "\n",
    "---> var [start  : stop ]"
   ]
  },
  {
   "cell_type": "code",
   "execution_count": 9,
   "metadata": {},
   "outputs": [
    {
     "name": "stdout",
     "output_type": "stream",
     "text": [
      "gram\n",
      "thon\n",
      "on pr\n"
     ]
    }
   ],
   "source": [
    "var = \"python program\"\n",
    "print(var[10:14]) # gram\n",
    "print(var[2:6])\n",
    "print(var[4:9])"
   ]
  },
  {
   "cell_type": "markdown",
   "metadata": {},
   "source": [
    "# string dicing \n",
    "\n",
    "---> we can access group of character in steps wise\n",
    "\n",
    "---> var[ start : stop : step ]"
   ]
  },
  {
   "cell_type": "code",
   "execution_count": 14,
   "metadata": {},
   "outputs": [
    {
     "name": "stdout",
     "output_type": "stream",
     "text": [
      "pto rga\n",
      "tnr\n",
      "thon pro\n",
      "pto r\n",
      "to rga\n"
     ]
    }
   ],
   "source": [
    "var=\"python program\"\n",
    "print(var[0:14:2])# pto rga\n",
    "print(var[2:10:3]) # tnr\n",
    "print(var[2:10:]) # default  step is 1\n",
    "print(var[:10:2]) # default start is 0\n",
    "print(var[2::2])  # len of string"
   ]
  },
  {
   "cell_type": "code",
   "execution_count": 19,
   "metadata": {},
   "outputs": [
    {
     "ename": "TypeError",
     "evalue": "'str' object does not support item assignment",
     "output_type": "error",
     "traceback": [
      "\u001b[1;31m---------------------------------------------------------------------------\u001b[0m",
      "\u001b[1;31mTypeError\u001b[0m                                 Traceback (most recent call last)",
      "\u001b[1;32m<ipython-input-19-e44c839afcee>\u001b[0m in \u001b[0;36m<module>\u001b[1;34m()\u001b[0m\n\u001b[0;32m      1\u001b[0m \u001b[1;31m# modify the string\u001b[0m\u001b[1;33m\u001b[0m\u001b[1;33m\u001b[0m\u001b[0m\n\u001b[0;32m      2\u001b[0m \u001b[0mvar\u001b[0m \u001b[1;33m=\u001b[0m\u001b[1;34m\"python\"\u001b[0m\u001b[1;33m\u001b[0m\u001b[0m\n\u001b[1;32m----> 3\u001b[1;33m \u001b[0mvar\u001b[0m\u001b[1;33m[\u001b[0m\u001b[1;36m4\u001b[0m\u001b[1;33m]\u001b[0m \u001b[1;33m=\u001b[0m \u001b[1;34m'1'\u001b[0m\u001b[1;33m\u001b[0m\u001b[0m\n\u001b[0m\u001b[0;32m      4\u001b[0m \u001b[1;31m# string is immutable table we can't be modify the exising\u001b[0m\u001b[1;33m\u001b[0m\u001b[1;33m\u001b[0m\u001b[0m\n\u001b[0;32m      5\u001b[0m \u001b[1;31m# data\u001b[0m\u001b[1;33m\u001b[0m\u001b[1;33m\u001b[0m\u001b[0m\n",
      "\u001b[1;31mTypeError\u001b[0m: 'str' object does not support item assignment"
     ]
    }
   ],
   "source": [
    "# modify the string \n",
    "var =\"python\"\n",
    "var[4] = '1'\n",
    "# string is immutable table we can't be modify the exising\n",
    "# data\n",
    "var = \"pyth1n\""
   ]
  },
  {
   "cell_type": "code",
   "execution_count": 20,
   "metadata": {},
   "outputs": [
    {
     "name": "stdout",
     "output_type": "stream",
     "text": [
      "len is  6\n",
      "max char  y\n",
      "min char  h\n",
      "ascii  97\n",
      "char  a\n"
     ]
    }
   ],
   "source": [
    "# positive indexing /  forward direction\n",
    "var =\"python\"\n",
    "print(\"len is \" ,len(var)) \n",
    "print(\"max char \",max(var))\n",
    "print(\"min char \",min(var))\n",
    "print(\"ascii \",ord('a'))\n",
    "print(\"char \",chr(97))\n"
   ]
  },
  {
   "cell_type": "code",
   "execution_count": null,
   "metadata": {},
   "outputs": [],
   "source": [
    "# 4:30 am  ---> IST --> python classe  ---> 4 mem\n",
    "# 5:30     ---> data science ---> \n",
    "# 6:30     ---> moddle of python 70  ---> 8 mem\n",
    "# 7:30 PM  ---> 3 --->  INDIA"
   ]
  }
 ],
 "metadata": {
  "kernelspec": {
   "display_name": "Python 3",
   "language": "python",
   "name": "python3"
  },
  "language_info": {
   "codemirror_mode": {
    "name": "ipython",
    "version": 3
   },
   "file_extension": ".py",
   "mimetype": "text/x-python",
   "name": "python",
   "nbconvert_exporter": "python",
   "pygments_lexer": "ipython3",
   "version": "3.7.0"
  }
 },
 "nbformat": 4,
 "nbformat_minor": 2
}
